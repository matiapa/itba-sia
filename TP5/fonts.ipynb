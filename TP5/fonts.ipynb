{
 "cells": [
  {
   "cell_type": "markdown",
   "metadata": {},
   "source": [
    "# Configuración"
   ]
  },
  {
   "cell_type": "code",
   "execution_count": 1,
   "metadata": {},
   "outputs": [],
   "source": [
    "from seaborn import heatmap\n",
    "import numpy as np\n",
    "import matplotlib.pyplot as plt"
   ]
  },
  {
   "cell_type": "code",
   "execution_count": 2,
   "metadata": {},
   "outputs": [
    {
     "data": {
      "image/png": "[encoded data removed]",
      "text/html": [
       "<div style=\"vertical-align: middle;\"><strong>binary</strong> </div><div class=\"cmap\"><img alt=\"binary colormap\" title=\"binary\" style=\"border: 1px solid #555;\" src=\"data:image/png;base64,iVBORw0KGgoAAAANSUhEUgAAAgAAAABACAYAAABsv8+/AAAAFXRFWHRUaXRsZQBiaW5hcnkgY29sb3JtYXDgovmoAAAAG3RFWHREZXNjcmlwdGlvbgBiaW5hcnkgY29sb3JtYXCpNeFMAAAAMHRFWHRBdXRob3IATWF0cGxvdGxpYiB2My40LjMsIGh0dHBzOi8vbWF0cGxvdGxpYi5vcmcJXfPTAAAAMnRFWHRTb2Z0d2FyZQBNYXRwbG90bGliIHYzLjQuMywgaHR0cHM6Ly9tYXRwbG90bGliLm9yZyf7bPQAAAFQSURBVHic7dYxDsIwFAXBD/c/s01DJERHBBLRzjRWCvul3Nvee8/MPA/nl8611ryyb//K+2ffO+4d32f/x/5/7H/6zvu9s/9h/zf79wEAcgQAAAQJAAAIEgAAECQAACBIAABAkAAAgCABAABBAgAAggQAAAQJAAAIEgAAECQAACBIAABAkAAAgCABAABBAgAAggQAAAQJAAAIEgAAECQAACBIAABAkAAAgCABAABBAgAAggQAAAQJAAAIEgAAECQAACBIAABAkAAAgCABAABBAgAAggQAAAQJAAAIEgAAECQAACBIAABAkAAAgCABAABBAgAAggQAAAQJAAAIEgAAECQAACBIAABAkAAAgCABAABBAgAAggQAAAQJAAAIEgAAECQAACBIAABAkAAAgCABAABBAgAAggQAAAQJAAAIEgAAECQAACBIAABAkAAAgKAHBe68nT8SsbMAAAAASUVORK5CYII=\"></div><div style=\"vertical-align: middle; max-width: 514px; display: flex; justify-content: space-between;\"><div style=\"float: left;\"><div title=\"#ffffffff\" style=\"display: inline-block; width: 1em; height: 1em; margin: 0; vertical-align: middle; border: 1px solid #555; background-color: #ffffffff;\"></div> under</div><div style=\"margin: 0 auto; display: inline-block;\">bad <div title=\"#00000000\" style=\"display: inline-block; width: 1em; height: 1em; margin: 0; vertical-align: middle; border: 1px solid #555; background-color: #00000000;\"></div></div><div style=\"float: right;\">over <div title=\"#000000ff\" style=\"display: inline-block; width: 1em; height: 1em; margin: 0; vertical-align: middle; border: 1px solid #555; background-color: #000000ff;\"></div></div>"
      ],
      "text/plain": [
       "<matplotlib.colors.LinearSegmentedColormap at 0x7f84a28ad550>"
      ]
     },
     "execution_count": 2,
     "metadata": {},
     "output_type": "execute_result"
    }
   ],
   "source": [
    "monocromatic_cmap = plt.get_cmap('binary')\n",
    "monocromatic_cmap"
   ]
  },
  {
   "cell_type": "markdown",
   "metadata": {},
   "source": [
    "# Explicación de la Fuente"
   ]
  },
  {
   "cell_type": "code",
   "execution_count": 3,
   "metadata": {},
   "outputs": [],
   "source": [
    "font_1 = np.array([\n",
    "   [0x00, 0x00, 0x00, 0x00, 0x00, 0x00, 0x00],   # 0x20, space\n",
    "   [0x04, 0x04, 0x04, 0x04, 0x04, 0x00, 0x04],   # 0x21, !\n",
    "   [0x09, 0x09, 0x12, 0x00, 0x00, 0x00, 0x00],   # 0x22, \"\n",
    "   [0x0a, 0x0a, 0x1f, 0x0a, 0x1f, 0x0a, 0x0a],   # 0x23, #\n",
    "   [0x04, 0x0f, 0x14, 0x0e, 0x05, 0x1e, 0x04],   # 0x24, $\n",
    "   [0x19, 0x19, 0x02, 0x04, 0x08, 0x13, 0x13],   # 0x25, %\n",
    "   [0x04, 0x0a, 0x0a, 0x0a, 0x15, 0x12, 0x0d],   # 0x26, &\n",
    "   [0x04, 0x04, 0x08, 0x00, 0x00, 0x00, 0x00],   # 0x27, '\n",
    "   [0x02, 0x04, 0x08, 0x08, 0x08, 0x04, 0x02],   # 0x28, (\n",
    "   [0x08, 0x04, 0x02, 0x02, 0x02, 0x04, 0x08],   # 0x29, )\n",
    "   [0x04, 0x15, 0x0e, 0x1f, 0x0e, 0x15, 0x04],   # 0x2a, *\n",
    "   [0x00, 0x04, 0x04, 0x1f, 0x04, 0x04, 0x00],   # 0x2b, +\n",
    "   [0x00, 0x00, 0x00, 0x00, 0x04, 0x04, 0x08],   # 0x2c, ,\n",
    "   [0x00, 0x00, 0x00, 0x1f, 0x00, 0x00, 0x00],   # 0x2d, -\n",
    "   [0x00, 0x00, 0x00, 0x00, 0x00, 0x0c, 0x0c],   # 0x2e, .\n",
    "   [0x01, 0x01, 0x02, 0x04, 0x08, 0x10, 0x10],   # 0x2f, /\n",
    "   [0x0e, 0x11, 0x13, 0x15, 0x19, 0x11, 0x0e],   # 0x30, 0\n",
    "   [0x04, 0x0c, 0x04, 0x04, 0x04, 0x04, 0x0e],   # 0x31, 1\n",
    "   [0x0e, 0x11, 0x01, 0x02, 0x04, 0x08, 0x1f],   # 0x32, 2\n",
    "   [0x0e, 0x11, 0x01, 0x06, 0x01, 0x11, 0x0e],   # 0x33, 3\n",
    "   [0x02, 0x06, 0x0a, 0x12, 0x1f, 0x02, 0x02],   # 0x34, 4\n",
    "   [0x1f, 0x10, 0x1e, 0x01, 0x01, 0x11, 0x0e],   # 0x35, 5\n",
    "   [0x06, 0x08, 0x10, 0x1e, 0x11, 0x11, 0x0e],   # 0x36, 6\n",
    "   [0x1f, 0x01, 0x02, 0x04, 0x08, 0x08, 0x08],   # 0x37, 7\n",
    "   [0x0e, 0x11, 0x11, 0x0e, 0x11, 0x11, 0x0e],   # 0x38, 8\n",
    "   [0x0e, 0x11, 0x11, 0x0f, 0x01, 0x02, 0x0c],   # 0x39, 9\n",
    "   [0x00, 0x0c, 0x0c, 0x00, 0x0c, 0x0c, 0x00],   # 0x3a, :\n",
    "   [0x00, 0x0c, 0x0c, 0x00, 0x0c, 0x04, 0x08],   # 0x3b, ;\n",
    "   [0x02, 0x04, 0x08, 0x10, 0x08, 0x04, 0x02],   # 0x3c, <\n",
    "   [0x00, 0x00, 0x1f, 0x00, 0x1f, 0x00, 0x00],   # 0x3d, =\n",
    "   [0x08, 0x04, 0x02, 0x01, 0x02, 0x04, 0x08],   # 0x3e, >\n",
    "   [0x0e, 0x11, 0x01, 0x02, 0x04, 0x00, 0x04]   # 0x3f, ?\n",
    "   ])\n",
    "\n",
    "font_2 = np.array([\n",
    "   [0x0e, 0x11, 0x17, 0x15, 0x17, 0x10, 0x0f],   # 0x40, @\n",
    "   [0x04, 0x0a, 0x11, 0x11, 0x1f, 0x11, 0x11],   # 0x41, A\n",
    "   [0x1e, 0x11, 0x11, 0x1e, 0x11, 0x11, 0x1e],   # 0x42, B\n",
    "   [0x0e, 0x11, 0x10, 0x10, 0x10, 0x11, 0x0e],   # 0x43, C\n",
    "   [0x1e, 0x09, 0x09, 0x09, 0x09, 0x09, 0x1e],   # 0x44, D\n",
    "   [0x1f, 0x10, 0x10, 0x1c, 0x10, 0x10, 0x1f],   # 0x45, E\n",
    "   [0x1f, 0x10, 0x10, 0x1f, 0x10, 0x10, 0x10],   # 0x46, F\n",
    "   [0x0e, 0x11, 0x10, 0x10, 0x13, 0x11, 0x0f],   # 0x37, G\n",
    "   [0x11, 0x11, 0x11, 0x1f, 0x11, 0x11, 0x11],   # 0x48, H\n",
    "   [0x0e, 0x04, 0x04, 0x04, 0x04, 0x04, 0x0e],   # 0x49, I\n",
    "   [0x1f, 0x02, 0x02, 0x02, 0x02, 0x12, 0x0c],   # 0x4a, J\n",
    "   [0x11, 0x12, 0x14, 0x18, 0x14, 0x12, 0x11],   # 0x4b, K\n",
    "   [0x10, 0x10, 0x10, 0x10, 0x10, 0x10, 0x1f],   # 0x4c, L\n",
    "   [0x11, 0x1b, 0x15, 0x11, 0x11, 0x11, 0x11],   # 0x4d, M\n",
    "   [0x11, 0x11, 0x19, 0x15, 0x13, 0x11, 0x11],   # 0x4e, N\n",
    "   [0x0e, 0x11, 0x11, 0x11, 0x11, 0x11, 0x0e],   # 0x4f, O\n",
    "   [0x1e, 0x11, 0x11, 0x1e, 0x10, 0x10, 0x10],   # 0x50, P\n",
    "   [0x0e, 0x11, 0x11, 0x11, 0x15, 0x12, 0x0d],   # 0x51, Q\n",
    "   [0x1e, 0x11, 0x11, 0x1e, 0x14, 0x12, 0x11],   # 0x52, R\n",
    "   [0x0e, 0x11, 0x10, 0x0e, 0x01, 0x11, 0x0e],   # 0x53, S\n",
    "   [0x1f, 0x04, 0x04, 0x04, 0x04, 0x04, 0x04],   # 0x54, T\n",
    "   [0x11, 0x11, 0x11, 0x11, 0x11, 0x11, 0x0e],   # 0x55, U\n",
    "   [0x11, 0x11, 0x11, 0x11, 0x11, 0x0a, 0x04],   # 0x56, V\n",
    "   [0x11, 0x11, 0x11, 0x15, 0x15, 0x1b, 0x11],   # 0x57, W\n",
    "   [0x11, 0x11, 0x0a, 0x04, 0x0a, 0x11, 0x11],   # 0x58, X\n",
    "   [0x11, 0x11, 0x0a, 0x04, 0x04, 0x04, 0x04],   # 0x59, Y\n",
    "   [0x1f, 0x01, 0x02, 0x04, 0x08, 0x10, 0x1f],   # 0x5a, Z\n",
    "   [0x0e, 0x08, 0x08, 0x08, 0x08, 0x08, 0x0e],   # 0x5b, [\n",
    "   [0x10, 0x10, 0x08, 0x04, 0x02, 0x01, 0x01],   # 0x5c, \\\\\n",
    "   [0x0e, 0x02, 0x02, 0x02, 0x02, 0x02, 0x0e],   # 0x5d, ]\n",
    "   [0x04, 0x0a, 0x11, 0x00, 0x00, 0x00, 0x00],   # 0x5e, ^\n",
    "   [0x00, 0x00, 0x00, 0x00, 0x00, 0x00, 0x1f]   # 0x5f, _\n",
    "   ])\n",
    "\n",
    "font_3 = np.array([\n",
    "   [0x04, 0x04, 0x02, 0x00, 0x00, 0x00, 0x00],   # 0x60, `\n",
    "   [0x00, 0x0e, 0x01, 0x0d, 0x13, 0x13, 0x0d],   # 0x61, a\n",
    "   [0x10, 0x10, 0x10, 0x1c, 0x12, 0x12, 0x1c],   # 0x62, b\n",
    "   [0x00, 0x00, 0x00, 0x0e, 0x10, 0x10, 0x0e],   # 0x63, c\n",
    "   [0x01, 0x01, 0x01, 0x07, 0x09, 0x09, 0x07],   # 0x64, d\n",
    "   [0x00, 0x00, 0x0e, 0x11, 0x1f, 0x10, 0x0f],   # 0x65, e\n",
    "   [0x06, 0x09, 0x08, 0x1c, 0x08, 0x08, 0x08],   # 0x66, f\n",
    "   [0x0e, 0x11, 0x13, 0x0d, 0x01, 0x01, 0x0e],   # 0x67, g\n",
    "   [0x10, 0x10, 0x10, 0x16, 0x19, 0x11, 0x11],   # 0x68, h\n",
    "   [0x00, 0x04, 0x00, 0x0c, 0x04, 0x04, 0x0e],   # 0x69, i\n",
    "   [0x02, 0x00, 0x06, 0x02, 0x02, 0x12, 0x0c],   # 0x6a, j\n",
    "   [0x10, 0x10, 0x12, 0x14, 0x18, 0x14, 0x12],   # 0x6b, k\n",
    "   [0x0c, 0x04, 0x04, 0x04, 0x04, 0x04, 0x04],   # 0x6c, l\n",
    "   [0x00, 0x00, 0x0a, 0x15, 0x15, 0x11, 0x11],   # 0x6d, m\n",
    "   [0x00, 0x00, 0x16, 0x19, 0x11, 0x11, 0x11],   # 0x6e, n\n",
    "   [0x00, 0x00, 0x0e, 0x11, 0x11, 0x11, 0x0e],   # 0x6f, o\n",
    "   [0x00, 0x1c, 0x12, 0x12, 0x1c, 0x10, 0x10],   # 0x70, p\n",
    "   [0x00, 0x07, 0x09, 0x09, 0x07, 0x01, 0x01],   # 0x71, q\n",
    "   [0x00, 0x00, 0x16, 0x19, 0x10, 0x10, 0x10],   # 0x72, r\n",
    "   [0x00, 0x00, 0x0f, 0x10, 0x0e, 0x01, 0x1e],   # 0x73, s\n",
    "   [0x08, 0x08, 0x1c, 0x08, 0x08, 0x09, 0x06],   # 0x74, t\n",
    "   [0x00, 0x00, 0x11, 0x11, 0x11, 0x13, 0x0d],   # 0x75, u\n",
    "   [0x00, 0x00, 0x11, 0x11, 0x11, 0x0a, 0x04],   # 0x76, v\n",
    "   [0x00, 0x00, 0x11, 0x11, 0x15, 0x15, 0x0a],   # 0x77, w\n",
    "   [0x00, 0x00, 0x11, 0x0a, 0x04, 0x0a, 0x11],   # 0x78, x\n",
    "   [0x00, 0x11, 0x11, 0x0f, 0x01, 0x11, 0x0e],   # 0x79, y\n",
    "   [0x00, 0x00, 0x1f, 0x02, 0x04, 0x08, 0x1f],   # 0x7a, z\n",
    "   [0x06, 0x08, 0x08, 0x10, 0x08, 0x08, 0x06],   # 0x7b, [\n",
    "   [0x04, 0x04, 0x04, 0x00, 0x04, 0x04, 0x04],   # 0x7c, |\n",
    "   [0x0c, 0x02, 0x02, 0x01, 0x02, 0x02, 0x0c],   # 0x7d, ]\n",
    "   [0x08, 0x15, 0x02, 0x00, 0x00, 0x00, 0x00],   # 0x7e, ~\n",
    "   [0x1f, 0x1f, 0x1f, 0x1f, 0x1f, 0x1f, 0x1f]   # 0x7f, DEL\n",
    "   ])"
   ]
  },
  {
   "cell_type": "markdown",
   "metadata": {},
   "source": [
    "## Tenemos caracteres de 7 filas con 5 columnas"
   ]
  },
  {
   "cell_type": "code",
   "execution_count": 4,
   "metadata": {},
   "outputs": [
    {
     "data": {
      "text/plain": [
       "array([[0, 0, 0, 0, 0],\n",
       "       [0, 0, 0, 0, 0],\n",
       "       [0, 0, 0, 0, 0],\n",
       "       [0, 0, 0, 0, 0],\n",
       "       [0, 0, 0, 0, 0],\n",
       "       [0, 0, 0, 0, 0],\n",
       "       [0, 0, 0, 0, 0]])"
      ]
     },
     "execution_count": 4,
     "metadata": {},
     "output_type": "execute_result"
    }
   ],
   "source": [
    "character_template = np.array([[0] * 5] * 7)\n",
    "character_template"
   ]
  },
  {
   "cell_type": "code",
   "execution_count": 5,
   "metadata": {},
   "outputs": [
    {
     "data": {
      "text/plain": [
       "<AxesSubplot:>"
      ]
     },
     "execution_count": 5,
     "metadata": {},
     "output_type": "execute_result"
    },
    {
     "data": {
      "image/png": "[encoded data removed]",
      "text/plain": [
       "<Figure size 432x288 with 1 Axes>"
      ]
     },
     "metadata": {
      "needs_background": "light"
     },
     "output_type": "display_data"
    }
   ],
   "source": [
    "heatmap(\n",
    "        character_template, \n",
    "        linewidths=0.2, \n",
    "        cbar=False, \n",
    "        square=True,\n",
    "        cmap=monocromatic_cmap, \n",
    "        linecolor='k')"
   ]
  },
  {
   "cell_type": "markdown",
   "metadata": {},
   "source": [
    "## Tomo un caracter. En este caso, el equivalente al !"
   ]
  },
  {
   "cell_type": "code",
   "execution_count": 6,
   "metadata": {},
   "outputs": [
    {
     "name": "stdout",
     "output_type": "stream",
     "text": [
      "Mi caracter: \t [4 4 4 4 4 0 4]\n",
      "Longitud: \t 7\n"
     ]
    }
   ],
   "source": [
    "print(\"Mi caracter: \\t\", font_1[1])\n",
    "print(\"Longitud: \\t\", len(font_1[1]))"
   ]
  },
  {
   "cell_type": "markdown",
   "metadata": {},
   "source": [
    "## ¿Cómo lo debería interpretar?"
   ]
  },
  {
   "cell_type": "code",
   "execution_count": 7,
   "metadata": {},
   "outputs": [
    {
     "name": "stdout",
     "output_type": "stream",
     "text": [
      "[[4]\n",
      " [4]\n",
      " [4]\n",
      " [4]\n",
      " [4]\n",
      " [0]\n",
      " [4]]\n"
     ]
    }
   ],
   "source": [
    "character = np.copy(font_1[1])\n",
    "character.resize(7, 1)\n",
    "print(character)"
   ]
  },
  {
   "cell_type": "code",
   "execution_count": 8,
   "metadata": {},
   "outputs": [
    {
     "name": "stdout",
     "output_type": "stream",
     "text": [
      "\n",
      "    0x\u001b[96m0\u001b[0m\u001b[93m4\u001b[0m\n",
      "    == (hexa como notación acotada de binario)\n",
      "    \u001b[96m0000\u001b[0m \u001b[93m0100\u001b[0m\n",
      "    == (los tres bits más significativos se descartan)\n",
      "    \u001b[96m0\u001b[0m \u001b[93m0100\u001b[0m\n",
      "    ==\n",
      "    \u001b[92m00100\u001b[0m\n"
     ]
    }
   ],
   "source": [
    "print(\"\"\"\n",
    "    0x\\033[96m0\\033[0m\\033[93m4\\033[0m\n",
    "    == (hexa como notación acotada de binario)\n",
    "    \\033[96m0000\\033[0m \\033[93m0100\\033[0m\n",
    "    == (los tres bits más significativos se descartan)\n",
    "    \\033[96m0\\033[0m \\033[93m0100\\033[0m\n",
    "    ==\n",
    "    \\033[92m00100\\033[0m\"\"\")"
   ]
  },
  {
   "cell_type": "code",
   "execution_count": 9,
   "metadata": {},
   "outputs": [],
   "source": [
    "bin_array = np.zeros(5, dtype=int)\n",
    "for i in range(0,5):\n",
    "    bin_array[4-i] = character[0] & 1\n",
    "    character[0] >>= 1\n",
    "bin_array.resize(1, 5)"
   ]
  },
  {
   "cell_type": "code",
   "execution_count": 10,
   "metadata": {},
   "outputs": [],
   "source": [
    "only_first_row      = np.zeros((7, 5), dtype=int)\n",
    "only_first_row[0]   = bin_array * 4\n",
    "only_first_row[1:]  = np.ones((6, 5)) * 3"
   ]
  },
  {
   "cell_type": "code",
   "execution_count": 11,
   "metadata": {},
   "outputs": [
    {
     "data": {
      "text/plain": [
       "<AxesSubplot:>"
      ]
     },
     "execution_count": 11,
     "metadata": {},
     "output_type": "execute_result"
    },
    {
     "data": {
      "image/png": "[encoded data removed]",
      "text/plain": [
       "<Figure size 432x288 with 1 Axes>"
      ]
     },
     "metadata": {
      "needs_background": "light"
     },
     "output_type": "display_data"
    }
   ],
   "source": [
    "heatmap(\n",
    "        only_first_row, \n",
    "        linewidths=0.2, \n",
    "        cbar=False, \n",
    "        square=True,\n",
    "        cmap=monocromatic_cmap, \n",
    "        linecolor='k')"
   ]
  },
  {
   "cell_type": "code",
   "execution_count": 12,
   "metadata": {},
   "outputs": [],
   "source": [
    "def to_bin_array(encoded_caracter):\n",
    "    bin_array = np.zeros((7, 5), dtype=int)\n",
    "    for row in range(0, 7):\n",
    "        current_row = encoded_caracter[row]\n",
    "        for col in range(0, 5):\n",
    "            bin_array[row][4-col] = current_row & 1\n",
    "            current_row >>= 1\n",
    "    return bin_array\n",
    "            \n",
    "    "
   ]
  },
  {
   "cell_type": "code",
   "execution_count": 13,
   "metadata": {},
   "outputs": [
    {
     "data": {
      "text/plain": [
       "<AxesSubplot:>"
      ]
     },
     "execution_count": 13,
     "metadata": {},
     "output_type": "execute_result"
    },
    {
     "data": {
      "image/png": "[encoded data removed]",
      "text/plain": [
       "<Figure size 432x288 with 1 Axes>"
      ]
     },
     "metadata": {
      "needs_background": "light"
     },
     "output_type": "display_data"
    }
   ],
   "source": [
    "heatmap(\n",
    "        to_bin_array(font_1[1]), \n",
    "        linewidths=0.2, \n",
    "        cbar=False, \n",
    "        square=True,\n",
    "        cmap=monocromatic_cmap, \n",
    "        linecolor='k')"
   ]
  }
 ],
 "metadata": {
  "kernelspec": {
   "display_name": "Python 3.9.7 ('base')",
   "language": "python",
   "name": "python3"
  },
  "language_info": {
   "codemirror_mode": {
    "name": "ipython",
    "version": 3
   },
   "file_extension": ".py",
   "mimetype": "text/x-python",
   "name": "python",
   "nbconvert_exporter": "python",
   "pygments_lexer": "ipython3",
   "version": "3.9.7"
  },
  "orig_nbformat": 4,
  "vscode": {
   "interpreter": {
    "hash": "da2f96c613924d63f206faec49421e0b7dd96f2e024f5f7ed157d6d3b2d86048"
   }
  }
 },
 "nbformat": 4,
 "nbformat_minor": 2
}
