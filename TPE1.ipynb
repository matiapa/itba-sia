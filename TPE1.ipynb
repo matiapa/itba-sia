{
  "nbformat": 4,
  "nbformat_minor": 0,
  "metadata": {
    "colab": {
      "name": "TPE1.ipynb",
      "provenance": [],
      "collapsed_sections": [],
      "authorship_tag": "ABX9TyOxL2+n/YFsZKyk+Y6zQs+I",
      "include_colab_link": true
    },
    "kernelspec": {
      "name": "python3",
      "display_name": "Python 3"
    },
    "language_info": {
      "name": "python"
    }
  },
  "cells": [
    {
      "cell_type": "markdown",
      "metadata": {
        "id": "view-in-github",
        "colab_type": "text"
      },
      "source": [
        "<a href=\"https://colab.research.google.com/github/matiapa/itba-sia/blob/master/TPE1.ipynb\" target=\"_parent\"><img src=\"https://colab.research.google.com/assets/colab-badge.svg\" alt=\"Open In Colab\"/></a>"
      ]
    },
    {
      "cell_type": "markdown",
      "source": [
        "# **TPE 1: Métodos de Búsqueda**"
      ],
      "metadata": {
        "id": "ILRHRztjhiSU"
      }
    },
    {
      "cell_type": "markdown",
      "source": [
        "## **Datos del trabajo** "
      ],
      "metadata": {
        "id": "k23ve3AcnG4c"
      }
    },
    {
      "cell_type": "markdown",
      "source": [
        "### Alumnos: \n",
        "- Apa, Mati (61223) \n",
        "- Beade, Gonzalo (61223)\n",
        "- D'Agostino, Leonardo Agustín (61223)\n"
      ],
      "metadata": {
        "id": "aWChGV2SnLMh"
      }
    },
    {
      "cell_type": "markdown",
      "source": [
        "### Docentes:\n",
        "- Rodrigo Ramele\n",
        "- Juliana Gambini \n",
        "- Juan Santos \n",
        "- Paula Oseroff\n",
        "- Eugenia Piñeiro\n",
        "- Santiago Reyes\n"
      ],
      "metadata": {
        "id": "QxRUyhlvoFOq"
      }
    },
    {
      "cell_type": "markdown",
      "source": [
        "### Fecha:\n",
        "- Primer Cuatrimestre 2022"
      ],
      "metadata": {
        "id": "HbSktge_oIW-"
      }
    },
    {
      "cell_type": "markdown",
      "source": [
        "## **Introducción** "
      ],
      "metadata": {
        "id": "ImjcaHv1nh74"
      }
    },
    {
      "cell_type": "markdown",
      "source": [
        "En el siguiente trabajo práctico implementamos estrategias de búsqueda \n",
        "(tanto informadas como no informadas) y las comparamos según su desempeño a la hora de resolver de un desafío. El desarrollo del trabajo gira en torno a la resolución del **Juego de los 8 números** (de ahora en más, \\' el Juego\\') , cuyas reglas se describen a continuación. \n"
      ],
      "metadata": {
        "id": "DF-2OyoPn5jc"
      }
    },
    {
      "cell_type": "markdown",
      "source": [
        "### Reglas del Juego: \n",
        "Dada una tabla de 3x3 rellena con casillas numéricas del 1 al 8 y una casilla vacía o blanca, distribuidas de manera azarosa, el Juego termina al ordenar de menor a mayor los contenidos del cuadrado, siendo la casilla blanca la cola de la sucesión. \n",
        "\n",
        "Los únicos movimientos permitidos son aquellos que permutan la casilla vacía con una casilla númerica inmediata, en sentido vertical u horizontal. \n"
      ],
      "metadata": {
        "id": "B0FfB9y5n8Ar"
      }
    },
    {
      "cell_type": "markdown",
      "source": [
        "## Estado del Juego: \n",
        "\n",
        "Decimos que una disposición de casillas dentro de la tabla de 3x3 representa un estado del Juego. Al permutar la casilla blanca con otra, se induce un nuevo estado en el Juego."
      ],
      "metadata": {
        "id": "aw44EhbtugSY"
      }
    },
    {
      "cell_type": "markdown",
      "source": [
        "## **Desarrollo** \n",
        "\n",
        "Si se va a ejecutar código desde el notebook, correr todos los módulos en el orden en el que lo exponemos. "
      ],
      "metadata": {
        "id": "WsDJ1bfZon38"
      }
    },
    {
      "cell_type": "markdown",
      "source": [
        "### **Importación de librerías a utilizar**"
      ],
      "metadata": {
        "id": "DZ0PAH2-rqi5"
      }
    },
    {
      "cell_type": "markdown",
      "source": [
        "Para este trabajo, vamos a utilizar la librería `matplotlib` y algunas de sus sublibrerías para realizar la representación gráfica del juego. "
      ],
      "metadata": {
        "id": "4ZosE6CYsyT-"
      }
    },
    {
      "cell_type": "code",
      "source": [
        "from matplotlib import pyplot as plt \n",
        "from matplotlib import animation as ani\n",
        "import numpy as np\n",
        "import copy\n",
        "from heapq import *\n",
        "import graphviz"
      ],
      "metadata": {
        "id": "RlREP2h4sx9e"
      },
      "execution_count": 397,
      "outputs": []
    },
    {
      "cell_type": "markdown",
      "source": [
        "### **Implementación de la API del Juego**\n"
      ],
      "metadata": {
        "id": "ouarPXY5r4bc"
      }
    },
    {
      "cell_type": "markdown",
      "source": [
        "Empezamos creando una clase que contenga al Juego, llamada GameState en nuestra implementación. La implementación se desprende de la tarea en inteligencia artificial y provee una interfaz que podría ser utilizada para jugar al juego de manera manual.  \n",
        "\n",
        "Esta clase se ve forzada a implementar la igualdad y una apropiada función de hash porque el algoritmo de resolución de búsquedas trabaja con conjuntos. La implementación de set en `Python` es con tablas de hashing. \n"
      ],
      "metadata": {
        "id": "HS3Gu6VVuJBB"
      }
    },
    {
      "cell_type": "code",
      "source": [
        "# TODO: podriamos aprender a hacerla inmutable \n",
        "class GameState():\n",
        "\n",
        "  offsets = {'f':-3 , 'b':3 , 'l':-1 , 'r':1}\n",
        "\n",
        "  @staticmethod\n",
        "  def __new_table():\n",
        "    x = np.arange(9)\n",
        "    np.random.shuffle(x)\n",
        "    return x.tolist()  \n",
        "\n",
        "  @staticmethod \n",
        "  def __swap(self, n, z):\n",
        "      self.table[n], self.table[z] = self.table[z], self.table[n]\n",
        " \n",
        "  def __init__(self, **kwargs):\n",
        "    self.table = kwargs.get('table', GameState.__new_table()) # TODO: deberia ser una tupla\n",
        "    self.zero = kwargs.get('target', self.table.index(0))\n",
        "    self.__swap(self, self.zero, kwargs.get('source', self.zero)) \n",
        "\n",
        "  ''' Devuelve una transformacion matricial de la lista de casilleros''' \n",
        "  @property \n",
        "  def matrix(self): \n",
        "    return np.reshape(self.table, (3, 3))\n",
        "\n",
        "  @property\n",
        "  def isobjective(self):\n",
        "    return all(self.table[i] == (i + 1) for i in range(len(self.table) - 2)) \n",
        "\n",
        "\n",
        "  ''' Dado un movimiento correctamente formulado, devuelve un nuevo estado conteniendolo''' \n",
        "  def make_move(self, m: str):\n",
        "    if m not in self.offsets.keys():\n",
        "      raise 'Invalid move code'\n",
        "\n",
        "    if (m == 'f' and self.zero < 3) \\\n",
        "      or (m == 'b' and self.zero >= 6) \\\n",
        "      or (m == 'l' and self.zero % 3 == 0 ) \\\n",
        "      or (m == 'r' and self.zero % 3 == 2 ):  \n",
        "        return None   \n",
        "    \n",
        "    new_zero = self.zero + self.offsets[m]\n",
        "    return GameState(table=copy.deepcopy(self.table), source=self.zero, target=new_zero)\n",
        "\n",
        "  def __hash__(self): \n",
        "    return hash(tuple(self.table))\n",
        "\n",
        "  def __eq__(self, o): \n",
        "    return isinstance(o, GameState) and o.table == self.table\n",
        "\n",
        "\n"
      ],
      "metadata": {
        "id": "BG3l2vbyVl44"
      },
      "execution_count": 398,
      "outputs": []
    },
    {
      "cell_type": "markdown",
      "source": [
        "### **Diseño de clases para el agente buscador de soluciones**"
      ],
      "metadata": {
        "id": "PW3a_7WNsHeh"
      }
    },
    {
      "cell_type": "markdown",
      "source": [
        "Empezamos implementando una clase `Node`. Esta nos permite hacer crecer un árbol de rótulos de estados a medida que lo necesitemos. Los estamos haciendo genérico para todos los tipos de búsqueda, pero podríamos hacer que cada tipo de búsqueda tenga su propio tipo de `Node` según corresponda. "
      ],
      "metadata": {
        "id": "Z_KLhoMbuYi_"
      }
    },
    {
      "cell_type": "code",
      "source": [
        "class Node:\n",
        "\n",
        "    LAST_ID = 0\n",
        "\n",
        "    def __init__(self, game_state: GameState, parent, depth):\n",
        "        self.game_state = game_state\n",
        "        self.children = []\n",
        "        self.parent = parent\n",
        "        self.depth = depth\n",
        "        self.id = Node.LAST_ID\n",
        "        Node.LAST_ID += 1\n",
        "\n",
        "    def add(self, node):\n",
        "      self.children.append(node)\n",
        "\n",
        "    @property\n",
        "    def state(self): \n",
        "      return self.game_state\n",
        "\n",
        "    def __hash__(self): \n",
        "      return hash(self.game_state)\n",
        "\n",
        "    def __eq__(self, other):\n",
        "      return type(other) is Node and self.game_state == other.game_state\n",
        "\n"
      ],
      "metadata": {
        "id": "EFwlHu_yumBU"
      },
      "execution_count": 399,
      "outputs": []
    },
    {
      "cell_type": "markdown",
      "source": [
        "La implementación de los métodos de búsqueda consiste en una clase resolvedora abstracta `Solver`, que implementa un método genérico, ni informado ni no informado. \n",
        "\n",
        "Las clases que heredan de `Solver` implementan los distintos algoritmos vistos en clase. Esta implementación muestra que es una familia de algoritmos, y solo cambia la elección del próximo estado a elegir a partir del estado actual en el árbol de estados. "
      ],
      "metadata": {
        "id": "R-214AukrqYn"
      }
    },
    {
      "cell_type": "code",
      "source": [
        "class Solver():\n",
        "\n",
        "    '''\n",
        "      La funcion score es una funcion que \n",
        "      - dado un nodo representante de un estado del juego -\n",
        "      permite  saber su puntaje. Mientras menor sea el puntaje, mejor. \n",
        "      El algoritmo selecciona al que menor valor de score tiene. \n",
        "      Si se quiere seleccionar al que mayor valor de score tenga, se lo puede multiplicar por -1\n",
        "    '''\n",
        "    def score(self, node): \n",
        "      raise 'Not implemented exception'\n",
        "\n",
        "    def __init__(self, game_state: GameState):\n",
        "      self.initial_state = game_state\n",
        "      self.root = Node(self.initial_state, None, 0) \n",
        "\n",
        "    @property \n",
        "    def initial_node(self): \n",
        "      return self.root\n",
        "\n",
        "\n",
        "    def __iter__(self):\n",
        "      # self.iter_done = False \n",
        "      self.frontier = [] # La Frontera es un Heap (AKA Priority Queue). No tiene sentido agregar y ordenar a futuro, mantenelo ordenado\n",
        "      self.explored = set() \n",
        "      heappush(self.frontier, (self.score(self.root), 0, self.root))\n",
        "      return self\n",
        "\n",
        "    ''' \n",
        "      En cada iteracion devuelve \n",
        "        Excepcion si no pudo encontrar solucion\n",
        "        Un Nodo valido si encontro solucion\n",
        "        None si sigue buscando \n",
        "      El iterador no se destruye al encontrar una solucion, va a seguir buscando y la hoja solucion muere ahi    \n",
        "    '''\n",
        "    def __next__(self):\n",
        "      if len(self.frontier) == 0:  # TODO: aca podriamos aplicar lo de la profundidad en una extension del metodo\n",
        "        raise StopIteration\n",
        "      \n",
        "      n = heappop(self.frontier)[2]\n",
        "      self.explored.add(n) # como es un set, no pasa nada si ya estaba  \n",
        "\n",
        "      if n.state.isobjective: \n",
        "        return n  # TODO: devolver todo el camino no solo el final\n",
        "      \n",
        "      for m in ('f', 'b', 'l', 'r'): \n",
        "        new_state = n.game_state.make_move(m)\n",
        "        if new_state is not None and new_state not in self.explored:\n",
        "          node = Node(new_state, n, n.depth+1) \n",
        "          n.add(node)\n",
        "          heappush(self.frontier, (self.score(node), node.id, node)) # Le agrego el ID para romper desempates\n",
        "          \n",
        "      print(n.game_state.matrix)\n",
        "      return None\n",
        "\n",
        "\n"
      ],
      "metadata": {
        "id": "mJ9zJqrUsJGe"
      },
      "execution_count": 408,
      "outputs": []
    },
    {
      "cell_type": "code",
      "source": [
        "class SolverBPA(Solver): \n",
        "  def score(self, node): \n",
        "    return node.depth"
      ],
      "metadata": {
        "id": "VKgNHWSyPJka"
      },
      "execution_count": 401,
      "outputs": []
    },
    {
      "cell_type": "code",
      "source": [
        "class SolverBPP(Solver):  ## SE QUEDA TRABADO ENTRE DOS ESTADOS REPITE!!!\n",
        "  def score(self, node): \n",
        "    return -node.depth"
      ],
      "metadata": {
        "id": "sW2s9S8JQY9M"
      },
      "execution_count": 402,
      "outputs": []
    },
    {
      "cell_type": "code",
      "source": [
        "# Este es un ejemplo sencillo que tiene enrocados los ultimos 4 valores \n",
        "# En un par de pasos lo encuentra \n",
        "\n",
        "gs = GameState(table=[1, 2, 3, 4, 8, 5, 7, 6, 0], target=5, source=5) \n",
        "\n",
        "print(gs.isobjective)\n",
        "solver = SolverBPA(gs)\n",
        "iterator = iter(solver)\n",
        "\n",
        "print(\"BEGIN\\n\", gs.matrix)\n",
        "n = None\n",
        "while n is None: \n",
        "  n = next(iterator)\n",
        "\n",
        "print(n.game_state.matrix)\n",
        "print(n.game_state.isobjective)"
      ],
      "metadata": {
        "id": "qyVMY_Nb-hXf"
      },
      "execution_count": null,
      "outputs": []
    },
    {
      "cell_type": "markdown",
      "source": [
        "### **Clases para visualización del árbol de estados**"
      ],
      "metadata": {
        "id": "MSCdFqLhQ8UA"
      }
    },
    {
      "cell_type": "code",
      "source": [
        "def node_label(node): \n",
        "  return str(node.game_state.matrix)\n",
        "\n",
        "def build_graphviz_tree(node, graph):\n",
        "    graph.node(str(node.id), node_label(node))\n",
        "    for child in node.children:\n",
        "        build_graphviz_tree(child, graph)\n",
        "        graph.edge(str(node.id), str(child.id))\n",
        "\n",
        "def build_graphviz_branch(node, graph):\n",
        "    graph.node(str(node.id), node_label(node))\n",
        "\n",
        "    if node.parent != None:\n",
        "        build_graphviz_branch(node.parent, graph)\n",
        "        graph.edge(str(node.parent.id), str(node.id))\n",
        "\n",
        "def renderTree(root):\n",
        "    graph = graphviz.Digraph('Decision tree')\n",
        "    build_graphviz_tree(root, graph)\n",
        "    graph.render(directory='out', view=True)\n",
        "\n",
        "def renderBranch(leaf):\n",
        "    graph = graphviz.Digraph('Solution branch')\n",
        "    build_graphviz_branch(leaf, graph)\n",
        "    graph.render(directory='out', view=True)"
      ],
      "metadata": {
        "id": "updYbUP6RHLv"
      },
      "execution_count": 406,
      "outputs": []
    },
    {
      "cell_type": "code",
      "source": [
        "renderBranch(n)\n",
        "renderTree(solver.initial_node)\n"
      ],
      "metadata": {
        "id": "H-Mr-cPHRxQ-"
      },
      "execution_count": 407,
      "outputs": []
    },
    {
      "cell_type": "markdown",
      "source": [
        "### **Implementación de la visualización del juego**"
      ],
      "metadata": {
        "id": "guK65aCjTJ0T"
      }
    },
    {
      "cell_type": "code",
      "source": [
        "## TREMENDO TODO"
      ],
      "metadata": {
        "id": "D3HPktnxTkZX"
      },
      "execution_count": null,
      "outputs": []
    },
    {
      "cell_type": "markdown",
      "source": [
        "### **Ejecución y comparación de los métodos de búsqueda**\n"
      ],
      "metadata": {
        "id": "dQGmvW68sXNb"
      }
    },
    {
      "cell_type": "code",
      "source": [
        "## TREMENDO TODO"
      ],
      "metadata": {
        "id": "KL_qaXgJTmrF"
      },
      "execution_count": null,
      "outputs": []
    }
  ]
}