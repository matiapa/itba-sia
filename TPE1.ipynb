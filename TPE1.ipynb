{
  "nbformat": 4,
  "nbformat_minor": 0,
  "metadata": {
    "colab": {
      "name": "TPE1.ipynb",
      "provenance": [],
      "collapsed_sections": [],
      "authorship_tag": "ABX9TyNU2bWLoo3k3f35usWW8sPe",
      "include_colab_link": true
    },
    "kernelspec": {
      "name": "python3",
      "display_name": "Python 3"
    },
    "language_info": {
      "name": "python"
    }
  },
  "cells": [
    {
      "cell_type": "markdown",
      "metadata": {
        "id": "view-in-github",
        "colab_type": "text"
      },
      "source": [
        "<a href=\"https://colab.research.google.com/github/matiapa/itba-sia/blob/master/TPE1.ipynb\" target=\"_parent\"><img src=\"https://colab.research.google.com/assets/colab-badge.svg\" alt=\"Open In Colab\"/></a>"
      ]
    },
    {
      "cell_type": "markdown",
      "source": [
        "# **TPE 1: Métodos de Búsqueda**"
      ],
      "metadata": {
        "id": "ILRHRztjhiSU"
      }
    },
    {
      "cell_type": "markdown",
      "source": [
        "## **Datos del trabajo** "
      ],
      "metadata": {
        "id": "k23ve3AcnG4c"
      }
    },
    {
      "cell_type": "markdown",
      "source": [
        "### **Alumnos**: \n",
        "- Apa, Mati (61223) \n",
        "- Beade, Gonzalo (61223)\n",
        "- D'Agostino, Leonardo Agustín (61223)\n"
      ],
      "metadata": {
        "id": "aWChGV2SnLMh"
      }
    },
    {
      "cell_type": "markdown",
      "source": [
        "### **Docentes:**\n",
        "- Rodrigo Ramele\n",
        "- Juliana Gambini \n",
        "- Juan Santos \n",
        "- Paula Oseroff\n",
        "- Eugenia Piñeiro\n",
        "- Santiago Reyes\n"
      ],
      "metadata": {
        "id": "QxRUyhlvoFOq"
      }
    },
    {
      "cell_type": "markdown",
      "source": [
        "### **Fecha:**\n",
        "- Primer Cuatrimestre 2022"
      ],
      "metadata": {
        "id": "HbSktge_oIW-"
      }
    },
    {
      "cell_type": "markdown",
      "source": [
        "## **Introducción** "
      ],
      "metadata": {
        "id": "ImjcaHv1nh74"
      }
    },
    {
      "cell_type": "markdown",
      "source": [
        "En el siguiente trabajo práctico se implementan estrategias de búsqueda \n",
        "(tanto informadas como no informadas) y se las compara en la resolución de un desafío. El desarrollo del trabajo gira en torno a la resolución del **Juego de los 8 números**. \n"
      ],
      "metadata": {
        "id": "DF-2OyoPn5jc"
      }
    },
    {
      "cell_type": "markdown",
      "source": [
        "### Reglas del juego: \n",
        "Dada una tabla de 3x3 rellena con números del 1 al 8 (casillas \\'numéricas\\') y una casilla vacía o blanca, distribuidos de manera azarosa, se busca ordenar los contenidos del cuadrado en orden ascendente, siendo la casilla blanca el último de la sucesión. Los únicos movimientos permitidos son aquellos que permutan la casilla vacía con una casilla númerica inmediata, en sentido vertical u horizontal. \n"
      ],
      "metadata": {
        "id": "B0FfB9y5n8Ar"
      }
    },
    {
      "cell_type": "markdown",
      "source": [
        "## **Desarrollo** "
      ],
      "metadata": {
        "id": "WsDJ1bfZon38"
      }
    }
  ]
}