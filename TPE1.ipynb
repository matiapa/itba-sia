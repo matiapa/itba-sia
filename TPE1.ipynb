{
  "nbformat": 4,
  "nbformat_minor": 0,
  "metadata": {
    "colab": {
      "name": "TPE1.ipynb",
      "provenance": [],
      "collapsed_sections": []
    },
    "kernelspec": {
      "name": "python3",
      "display_name": "Python 3"
    },
    "language_info": {
      "name": "python"
    }
  },
  "cells": [
    {
      "cell_type": "markdown",
      "source": [
        "# **TPE 1: Métodos de Búsqueda**"
      ],
      "metadata": {
        "id": "ILRHRztjhiSU"
      }
    },
    {
      "cell_type": "markdown",
      "source": [
        "## **Datos del trabajo** "
      ],
      "metadata": {
        "id": "k23ve3AcnG4c"
      }
    },
    {
      "cell_type": "markdown",
      "source": [
        "### Alumnos: \n",
        "- Apablaza, Matías (59714)\n",
        "- Beade, Gonzalo (61223)\n",
        "- D'Agostino, Leonardo Agustín (60335)\n"
      ],
      "metadata": {
        "id": "aWChGV2SnLMh"
      }
    },
    {
      "cell_type": "markdown",
      "source": [
        "### Docentes:\n",
        "- Rodrigo Ramele\n",
        "- Juliana Gambini \n",
        "- Juan Santos \n",
        "- Paula Oseroff\n",
        "- Eugenia Piñeiro\n",
        "- Santiago Reyes\n"
      ],
      "metadata": {
        "id": "QxRUyhlvoFOq"
      }
    },
    {
      "cell_type": "markdown",
      "source": [
        "### Fecha:\n",
        "- Primer Cuatrimestre 2022"
      ],
      "metadata": {
        "id": "HbSktge_oIW-"
      }
    },
    {
      "cell_type": "markdown",
      "source": [
        "## **Introducción** "
      ],
      "metadata": {
        "id": "ImjcaHv1nh74"
      }
    },
    {
      "cell_type": "markdown",
      "source": [
        "En el siguiente trabajo práctico implementamos estrategias de búsqueda \n",
        "(tanto informadas como no informadas) y las comparamos según su desempeño a la hora de resolver de un desafío. El desarrollo del trabajo gira en torno a la resolución del **Juego de los 8 números** (de ahora en más, \\' el Juego\\') , cuyas reglas se describen a continuación. \n"
      ],
      "metadata": {
        "id": "DF-2OyoPn5jc"
      }
    },
    {
      "cell_type": "markdown",
      "source": [
        "## Reglas del Juego: \n",
        "Dada una tabla de 3x3 rellena con casillas numéricas del 1 al 8 y una casilla vacía o blanca, distribuidas de manera azarosa, el Juego termina al ordenar de menor a mayor los contenidos del cuadrado, siendo la casilla blanca la cola de la sucesión. \n",
        "\n",
        "Los únicos movimientos permitidos son aquellos que permutan la casilla vacía con una casilla númerica inmediata, en sentido vertical u horizontal. \n"
      ],
      "metadata": {
        "id": "B0FfB9y5n8Ar"
      }
    },
    {
      "cell_type": "markdown",
      "source": [
        "## Estado del Juego: \n",
        "\n",
        "Decimos que una disposición de casillas dentro de la tabla de 3x3 representa un estado del Juego. Al permutar la casilla blanca con otra, se induce un nuevo estado en el Juego."
      ],
      "metadata": {
        "id": "aw44EhbtugSY"
      }
    },
    {
      "cell_type": "markdown",
      "source": [
        "## **Desarrollo** \n",
        "\n",
        "Si se va a ejecutar código desde el notebook, correr todos los módulos en el orden en el que lo exponemos. "
      ],
      "metadata": {
        "id": "WsDJ1bfZon38"
      }
    },
    {
      "cell_type": "markdown",
      "source": [
        "### **Importación de librerías a utilizar**"
      ],
      "metadata": {
        "id": "DZ0PAH2-rqi5"
      }
    },
    {
      "cell_type": "markdown",
      "source": [
        "Para este trabajo, vamos a utilizar las librerías:\n",
        "\n",
        "1.   `matplotlib` para hacer análisis de datos. \n",
        "2.   `numpy` para hacer algunas conversiones matemáticas eficientemente. \n",
        "3.   `heapq` porque Python no tiene implementación nativa de la estructura de datos heap. \n",
        "4.   `graphviz` para producir árboles de estados\n",
        "\n"
      ],
      "metadata": {
        "id": "4ZosE6CYsyT-"
      }
    },
    {
      "cell_type": "code",
      "source": [
        "from matplotlib import pyplot as plt \n",
        "import numpy as np\n",
        "import copy\n",
        "from heapq import *\n",
        "import graphviz"
      ],
      "metadata": {
        "id": "RlREP2h4sx9e"
      },
      "execution_count": 139,
      "outputs": []
    },
    {
      "cell_type": "markdown",
      "source": [
        "### **Implementación de la API del Juego**\n"
      ],
      "metadata": {
        "id": "ouarPXY5r4bc"
      }
    },
    {
      "cell_type": "markdown",
      "source": [
        "Empezamos creando una interfaz que represente el estado de un juego cualquier, llamada GameState en nuestra implementación. \n",
        "\n",
        "La interfaz se desprende de la tarea en inteligencia artificial y provee métodos que permitirían jugar a cualquier juego de un solo jugador en general. "
      ],
      "metadata": {
        "id": "z8GVK1n5UpMt"
      }
    },
    {
      "cell_type": "code",
      "source": [
        "class GameState():\n",
        "\n",
        "  \"\"\" Devuelve verdadero si el estado es objetivo/ganador\"\"\"\n",
        "  @property\n",
        "  def isobjective(self):\n",
        "    raise Exception('Not implemented exception')\n",
        "\n",
        "  \"\"\"\n",
        "  Devuelve un conjunto de strings representando movimientos posibles\n",
        "  según las reglas del juego\n",
        "  \"\"\"\n",
        "  @property\n",
        "  def game_moves(self):\n",
        "    raise Exception('Not implemented exception')\n",
        "\n",
        "  \"\"\"\n",
        "  Ejecuta un movimiento en el juego. De ser válido, devuelve un nuevo estado con dicho movimiento ejecutado\n",
        "  \"\"\"\n",
        "  def make_move(self, m: str):\n",
        "    raise Exception('Not implemented exception')\n",
        "\n",
        "  \"\"\"\n",
        "  Todo juego debe poder mostrarse en pantalla, aunque sea una representación muy básica\n",
        "  \"\"\"\n",
        "  def __str__(self): \n",
        "    return 'Empty Game!'\n",
        "\n",
        "  \"\"\"\n",
        "  Todo juego debe poder devolver un conjunto de pares con informacion del estado interno del mismo\n",
        "  \"\"\"\n",
        "  @property\n",
        "  def data(self): \n",
        "    raise Exception('Not implemented exception')"
      ],
      "metadata": {
        "id": "_WSmWbuDVM1_"
      },
      "execution_count": 140,
      "outputs": []
    },
    {
      "cell_type": "markdown",
      "source": [
        "Cualquier implementación de esta interfaz debe implementar la igualdad y una apropiada función de hash porque el algoritmo de resolución de búsquedas trabaja con conjuntos. La implementación de set en `Python` es con tablas de hashing. \n",
        "\n",
        "A continuación exponemos una de las implementaciones posibles para realizar este trabajo, para el Juego de los 8 Números. \n"
      ],
      "metadata": {
        "id": "HS3Gu6VVuJBB"
      }
    },
    {
      "cell_type": "code",
      "source": [
        "class EightGameState(GameState):\n",
        "\n",
        "  offsets = {'f':-3 , 'b':3 , 'l':-1 , 'r':1}\n",
        "  goal_table = [1, 2, 3, 4, 5, 6, 7, 8, 0]\n",
        "\n",
        "  def __init__(self, **kwargs):\n",
        "    self.table = kwargs.get('table', EightGameState.__new_table()) # TODO: deberia ser una tupla\n",
        "    self.zero = kwargs.get('target', self.table.index(0))\n",
        "    self.__swap(self, self.zero, kwargs.get('source', self.zero)) \n",
        "\n",
        "  @staticmethod\n",
        "  def __new_table():\n",
        "    x = np.arange(9)\n",
        "    np.random.shuffle(x)\n",
        "    return x.tolist()  \n",
        "\n",
        "  @staticmethod \n",
        "  def __swap(self, n, z):\n",
        "      self.table[n], self.table[z] = self.table[z], self.table[n]\n",
        "\n",
        "  @staticmethod\n",
        "  def setGoalTable(table):\n",
        "    EightGameState.goal_table = table\n",
        "\n",
        "  @property \n",
        "  def matrix(self): \n",
        "    return np.reshape(self.table, (3, 3))\n",
        "\n",
        "  @property\n",
        "  def isobjective(self):\n",
        "    return self.table == [1, 2, 3, 4, 5, 6, 7, 8, 0]# EightGameState.goal_table\n",
        "\n",
        "  def make_move(self, m: str):\n",
        "    if m not in self.offsets.keys():\n",
        "      raise 'Invalid move code'\n",
        "\n",
        "    if (m == 'f' and self.zero < 3) \\\n",
        "      or (m == 'b' and self.zero >= 6) \\\n",
        "      or (m == 'l' and self.zero % 3 == 0 ) \\\n",
        "      or (m == 'r' and self.zero % 3 == 2 ):  \n",
        "        return None   \n",
        "    \n",
        "    new_zero = self.zero + self.offsets[m]\n",
        "    return EightGameState(table=copy.deepcopy(self.table), source=self.zero, target=new_zero)\n",
        "\n",
        "  def __hash__(self): \n",
        "    return hash(tuple(self.table))\n",
        "\n",
        "  def __eq__(self, o): \n",
        "    return isinstance(o, EightGameState) and o.table == self.table\n",
        "\n",
        "  @property\n",
        "  def game_moves(self):\n",
        "    return {'b': 1, 'f': 1, 'l': 1, 'r': 1}\n",
        "\n",
        "  def __str__(self): \n",
        "    return str(np.reshape(self.table, (3, 3)))\n",
        "\n",
        "  @property\n",
        "  def data(self):\n",
        "    d = {} \n",
        "    for pos in range(9): \n",
        "      d[str(pos+1)] = self.table[pos]\n",
        "    return d"
      ],
      "metadata": {
        "id": "BG3l2vbyVl44"
      },
      "execution_count": 141,
      "outputs": []
    },
    {
      "cell_type": "markdown",
      "source": [
        "### **Diseño de clases para el agente buscador de soluciones**"
      ],
      "metadata": {
        "id": "PW3a_7WNsHeh"
      }
    },
    {
      "cell_type": "markdown",
      "source": [
        "Empezamos implementando una clase `Node`. Ésta nos permite hacer crecer un árbol de rótulos de estados a medida que lo necesitemos. Los estamos haciendo genéricos para todos los tipos de búsqueda, pero podríamos hacer que cada tipo de búsqueda tenga su propio tipo de `Node` según corresponda. "
      ],
      "metadata": {
        "id": "Z_KLhoMbuYi_"
      }
    },
    {
      "cell_type": "code",
      "source": [
        "class Node:\n",
        "\n",
        "    LAST_ID = 0\n",
        "    LAST_EXPLORED_ORDER = 0\n",
        "\n",
        "    def __init__(self, game_state: GameState, parent, depth, cost, src_action):\n",
        "        self.game_state = game_state\n",
        "        self.children = [] \n",
        "        self.parent = parent\n",
        "        self.depth = depth\n",
        "        self.cost = cost\n",
        "        self.id = Node.LAST_ID\n",
        "        self.explore_order = -1\n",
        "        self.src_action = src_action\n",
        "        Node.LAST_ID += 1\n",
        "\n",
        "    def add(self, node):\n",
        "      self.children.append(node)\n",
        "\n",
        "    def mark_explored(self):\n",
        "      self.explore_order = Node.LAST_EXPLORED_ORDER\n",
        "      Node.LAST_EXPLORED_ORDER += 1\n",
        "\n",
        "    @property\n",
        "    def state(self): \n",
        "      return self.game_state\n",
        "\n",
        "    def __hash__(self): \n",
        "      return hash(self.game_state)\n",
        "\n",
        "    def __eq__(self, other):\n",
        "      return type(other) is Node and self.game_state == other.game_state"
      ],
      "metadata": {
        "id": "EFwlHu_yumBU"
      },
      "execution_count": 142,
      "outputs": []
    },
    {
      "cell_type": "markdown",
      "source": [
        "La implementación de los métodos de búsqueda consiste en una clase resolvedora abstracta `Solver`, que implementa un método genérico, ni informado ni no informado. \n",
        "\n",
        "Las clases que heredan de `Solver` implementan los distintos algoritmos vistos en clase. Esta implementación muestra que es una familia de algoritmos. Solo cambia la elección del próximo estado a elegir a partir del estado actual en el árbol de estados. "
      ],
      "metadata": {
        "id": "R-214AukrqYn"
      }
    },
    {
      "cell_type": "code",
      "source": [
        "class Solver():\n",
        "\n",
        "    '''\n",
        "      La funcion score es una funcion que \n",
        "      - dado un nodo representante de un estado del juego -\n",
        "      permite  saber su puntaje. Mientras menor sea el puntaje, mejor. \n",
        "      El algoritmo selecciona al que menor valor de score tiene. \n",
        "      Si se quiere seleccionar al que mayor valor de score tenga, se lo puede multiplicar por -1\n",
        "    '''\n",
        "    def score(self, node): \n",
        "      raise 'Not implemented exception'\n",
        "\n",
        "    def __init__(self, game_state: GameState):\n",
        "      self.initial_state = game_state\n",
        "      self.root = self.new_node(self.initial_state, None, 0, 0, '') \n",
        "\n",
        "    @property \n",
        "    def initial_node(self): \n",
        "      return self.root\n",
        "\n",
        "    \n",
        "    def __iter__(self):\n",
        "      # self.iter_done = False \n",
        "      self.frontier = [] # La Frontera es un Heap (AKA Priority Queue). No tiene sentido agregar y ordenar a futuro, mantenelo ordenado\n",
        "      self.explored = set() \n",
        "      heappush(self.frontier, (self.score(self.root), 0, self.root))\n",
        "      return self\n",
        "\n",
        "    ''' \n",
        "      En cada iteracion devuelve \n",
        "        Excepcion si no pudo encontrar solucion\n",
        "        Un Nodo valido si encontro solucion\n",
        "        None si sigue buscando \n",
        "      El iterador no se destruye al encontrar una solucion, va a seguir buscando y la hoja solucion muere ahi    \n",
        "    '''\n",
        "    def __next__(self):\n",
        "\n",
        "      self.check_frontier()\n",
        "      n = heappop(self.frontier)[-1]\n",
        "      self.mark_explored(n)\n",
        "\n",
        "      if n.state.isobjective: \n",
        "        return n, True  \n",
        "      \n",
        "      game_moves = n.game_state.game_moves\n",
        "      for m in game_moves.keys(): \n",
        "        new_state = n.game_state.make_move(m)\n",
        "        if new_state is not None:\n",
        "          node = self.new_node(new_state, n, n.depth + 1, n.cost + game_moves[m], m)\n",
        "          if self.should_explore(node):\n",
        "            n.add(node) \n",
        "            self.push_to_heap(node)\n",
        "    \n",
        "      return n, False\n",
        "\n",
        "    def should_explore(self, node): \n",
        "      return node.game_state not in self.explored\n",
        "\n",
        "    def new_node(self, new_state, parent, depth, cost, src_action):\n",
        "      return Node(new_state, parent, parent.depth+1 if parent != None else 0, cost, src_action)\n",
        "\n",
        "    def check_frontier(self):\n",
        "      if len(self.frontier) == 0:  # TODO: aca podriamos aplicar lo de la profundidad en una extension del metodo\n",
        "        raise StopIteration \n",
        "    \n",
        "    def push_to_heap(self, node):\n",
        "        heappush(self.frontier, (self.score(node), node.id, node)) # Le agrego el ID para romper desempates  # me esta siempre pusheando al heap \n",
        "\n",
        "    def mark_explored(self, n):\n",
        "       n.mark_explored()\n",
        "       self.explored.add(n.game_state) # como es un set, no pasa nada si ya estaba\n"
      ],
      "metadata": {
        "id": "mJ9zJqrUsJGe"
      },
      "execution_count": 143,
      "outputs": []
    },
    {
      "cell_type": "code",
      "source": [
        "class SolverBPA(Solver): \n",
        "  def score(self, node): \n",
        "    return node.depth"
      ],
      "metadata": {
        "id": "VKgNHWSyPJka"
      },
      "execution_count": 144,
      "outputs": []
    },
    {
      "cell_type": "code",
      "source": [
        "class SolverBPP(Solver):  \n",
        "  def score(self, node): \n",
        "    return -node.depth"
      ],
      "metadata": {
        "id": "sW2s9S8JQY9M"
      },
      "execution_count": 145,
      "outputs": []
    },
    {
      "cell_type": "code",
      "source": [
        "class SolverBPPV(SolverBPP):\n",
        "  # Considerar que pueden haber estados repetidos a distinta profundidad\n",
        "\n",
        "  def __init__(self, game_state: GameState, start_limit: int):\n",
        "    super().__init__(game_state)\n",
        "    self.max_depth = start_limit\n",
        "\n",
        "  def mark_explored(self, n):\n",
        "    n.mark_explored()\n",
        "    self.explored[n.game_state] = min(self.explored.get(n.game_state, n.depth), n.depth)\n",
        "\n",
        "  def __iter__(self):\n",
        "    x =  super().__iter__()\n",
        "    self.explored = {}\n",
        "    return x\n",
        "\n",
        "  def should_explore(self, node):\n",
        "    return node.game_state not in self.explored.keys() or self.explored[node.game_state] > node.depth\n",
        "\n",
        "  def push_to_heap(self, node):\n",
        "    heappush(self.frontier, ( int(node.depth / (self.max_depth + 1)), self.score(node), node.id, node)) # Le agrego el ID para romper desempates  # me esta siempre pusheando al heapeando al heap \n"
      ],
      "metadata": {
        "id": "HCuxEsixqZWw"
      },
      "execution_count": 146,
      "outputs": []
    },
    {
      "cell_type": "code",
      "source": [
        "class SolverHeuristic(Solver): \n",
        "  \n",
        "  def __init__(self, game_state: GameState, heuristic):\n",
        "    self.h = heuristic\n",
        "    super().__init__(game_state)\n",
        "\n",
        "  def score(self, node): \n",
        "    return node.heuristic\n",
        "\n",
        "  def new_node(self, new_state, parent, depth, cost, src_action):\n",
        "    n = self.HeuristicNode(new_state, parent, parent.depth+1 if parent != None else 0, cost, src_action, self.h(new_state))\n",
        "    return n\n",
        "\n",
        "  class HeuristicNode(Node):\n",
        "\n",
        "    def __init__(self, state, n, depth, cost, src_action, heuristic):\n",
        "      super().__init__(state, n, depth, cost, src_action)\n",
        "      self.heuristic = heuristic"
      ],
      "metadata": {
        "id": "jvst10ywqyGh"
      },
      "execution_count": 147,
      "outputs": []
    },
    {
      "cell_type": "code",
      "source": [
        "class SolverLocalHeuristic(SolverHeuristic):\n",
        "\n",
        "  def __init__(self, game_state: GameState, heuristic):\n",
        "    super().__init__(game_state, heuristic)\n",
        "\n",
        "  def push_to_heap(self, node):\n",
        "    heappush(self.frontier, ( -node.depth, self.score(node), node.id, node))"
      ],
      "metadata": {
        "id": "k422evSHtmp6"
      },
      "execution_count": 148,
      "outputs": []
    },
    {
      "cell_type": "code",
      "source": [
        "class SolverGlobalHeuristic(SolverHeuristic):\n",
        "\n",
        "  def __init__(self, game_state: GameState, heuristic):\n",
        "    super().__init__(game_state, heuristic)\n",
        "  \n",
        "  def push_to_heap(self, node):\n",
        "    heappush(self.frontier, (self.score(node), node.id, node))"
      ],
      "metadata": {
        "id": "bJi2Uomft2zf"
      },
      "execution_count": 149,
      "outputs": []
    },
    {
      "cell_type": "code",
      "source": [
        "class SolverWeightHeuristic(SolverHeuristic):\n",
        "  \n",
        "  def __init__(self, game_state: GameState, heuristic, w):\n",
        "    super().__init__(game_state, heuristic)\n",
        "    self.w = w\n",
        "\n",
        "  def score(self, node): \n",
        "    return node.heuristic * self.w + node.cost * (1-self.w)\n",
        "    \n",
        "  def push_to_heap(self, node):\n",
        "    heappush(self.frontier, (self.score(node), node.id, node))"
      ],
      "metadata": {
        "id": "dk8ztIw1t79Y"
      },
      "execution_count": 150,
      "outputs": []
    },
    {
      "cell_type": "markdown",
      "source": [
        "Como la clase de algoritmos informados recibe una heurística de manera arbitraria, tenemos que definir esas heurísticas por fuera, para poder pasárselas como parámetro. Exponemos a continuación las heurísticas que vamos a usar para resolver al Juego, y un análisis sobre su admisibilidad. "
      ],
      "metadata": {
        "id": "nBvgmXWY5n3t"
      }
    },
    {
      "cell_type": "markdown",
      "source": [
        "`correctnes_heuristic` cuenta casillero a casillero si el número que allí reside está bien posicionado o no. El casillero blanco no se cuenta para facilitar las demostraciones. A continuación enunciamos propiedades de está heurística. \n",
        "\n",
        "1. `correctnes_heuristic(state) == 0` sii todos los números están en su lugar. La demostración es por el absurdo. Supongamos que devuelve 0 y hay al menos un número mal ubicado. Entonces, por definición, está ocupando el casillero de otro número y la heurística devolvería un valor mayor a uno.\n",
        "\n",
        "2. `correctnes_heuristic` es admisible pues nunca sobre-estima el costo de llegar a una solución. Es decir, para todo estado `state`, `correctnes_heuristic(state) <= h_star(state)`.  La demostración es por el absurdo. Supongamos que `correctnes_heuristic` sobre-estime el costo de llegar a una solución, es decir que haya n+1 números mal puestos que puede resolverse en n movimientos (1<=n<8). La única manera que tendría el 0 de recorrer esta problemática es no volver a un lugar en el que ya estuvo. Como el 0 nunca pasa por un lugar en el que ya estuvo, tiene que inducir n+1 swaps para corregir las posiciones de los n+1 números incorrectamente posicionados en n movimientos. Absurdo. \n",
        " \n"
      ],
      "metadata": {
        "id": "SQ-0nqMY6Vo5"
      }
    },
    {
      "cell_type": "code",
      "source": [
        "def correctnes_heuristic(state): \n",
        "  table = state.data\n",
        "  count = 0\n",
        "\n",
        "  for position in table.keys():\n",
        "    number = table[position]\n",
        "    count += 1 if number != 0 and int(position) != number else 0\n",
        "\n",
        "  return count"
      ],
      "metadata": {
        "id": "RsCX_fNN6PFM"
      },
      "execution_count": 151,
      "outputs": []
    },
    {
      "cell_type": "markdown",
      "source": [
        "`manhattan_heuristic` es la suma de las distancias en norma 1 entre la posición real de cada número y la posición esperada de cada número. A continuación enunciamos propiedades de esta heurística.\n",
        "\n",
        "1. `manhattan_heuristic(state) == 0` sii todos los números están en su lugar. La demostración es directa. Como es una suma en los naturales, solo puede ser nula sii todo sumando es nulo. Si todo sumando es nulo, entonces la diferencia entre las posicones ideales y reales de cada número es nula. Es decir, están bien posicionados. \n",
        "\n",
        "2. `manhattan_heuristic` es admisible. La demostración es directa. Un número mal puesto N tiene que recorrer como mínimo la distancia manhattan al lugar donde corresponde. Sin embargo, el 0 es la única casilla que puede inducir un movimiento en el número. Si el 0 induce un movimiento dos veces consecutivas en el mismo número, entonces vuelve al estado original. Por eso, el 0 tendrá que inducir un movimiento en algún otro número antes de volver a mover a N, probando que el costo real es siempre mayor al estimado por la heurística. "
      ],
      "metadata": {
        "id": "G_Sd0FTV_pqA"
      }
    },
    {
      "cell_type": "code",
      "source": [
        "def manhattan_heuristic(state): \n",
        "  table = state.data\n",
        "  distance_sum = 0\n",
        "\n",
        "  for position in table.keys():\n",
        "    number = table[position]\n",
        "    if number == 0:\n",
        "      continue\n",
        "\n",
        "    x1 = (int(position)-1) % 3\n",
        "    y1 = int((int(position)) / 3)\n",
        "\n",
        "    x2 = (number-1) % 3\n",
        "    y2 = int((number-1) / 3)\n",
        "    \n",
        "    distance_sum += abs(x2-x1) + abs(y2-y1)\n",
        "  \n",
        "  return distance_sum"
      ],
      "metadata": {
        "id": "wfRkiJ1d_u5W"
      },
      "execution_count": 152,
      "outputs": []
    },
    {
      "cell_type": "markdown",
      "source": [
        "Por último, presentamos `manhattan_squared_heuristic`, definida igual que `manhattan_heuristic`, mas sumamos los cuadrados de las distancias en vez de sus distancias lineales. La idea es penalizar severamente a los estado que tienen a muy mal puestos a sus números, y no tanto a los que tienen a sus casilleros bien puestos. Algunas propiedades de esta heurística son: \n",
        "\n",
        "1. `manhattan_squared_heuristic(state) == 0` sii todos los números están en su lugar. La demostración es análoga a la de `manhattan_heuristic`, pero factorizando el cuadrado de cada término en el paso final y llegando a la misma conclusión. \n",
        "\n",
        "2. `manhattan_squared_heuristic` no es admisible. El contraejemplo que se muestra  tiene valor de heurística 8, pero puede resolverse en 7 movimientos.\n",
        "\n",
        "1 2 3\n",
        "\n",
        "5 6 8 \n",
        "\n",
        "4 0 7\n"
      ],
      "metadata": {
        "id": "dyDVWLyMEFcq"
      }
    },
    {
      "cell_type": "code",
      "source": [
        "def manhattan_squared_heuristic(state): \n",
        "  table = state.data\n",
        "  distance_sum = 0\n",
        "\n",
        "  for position in table.keys():\n",
        "    number = table[position]\n",
        "    if number == 0:\n",
        "      continue\n",
        "\n",
        "    x1 = (int(position)-1) % 3\n",
        "    y1 = int((int(position)) / 3)\n",
        "\n",
        "    x2 = (number-1) % 3\n",
        "    y2 = int((number-1) / 3)\n",
        "    \n",
        "    distance_sum += (abs(x2-x1) + abs(y2-y1))**2\n",
        "  \n",
        "  return distance_sum"
      ],
      "metadata": {
        "id": "2XAu9iDeEIxV"
      },
      "execution_count": 153,
      "outputs": []
    },
    {
      "cell_type": "code",
      "source": [
        "import time\n",
        "gs = EightGameState() \n",
        "\n",
        "solver = SolverGlobalHeuristic(gs, manhattan_squared_heuristic)\n",
        "iterator = iter(solver)\n",
        "\n",
        "start = time.time()\n",
        "solved = False\n",
        "n = None\n",
        "while not solved:\n",
        "  n, solved = next(iterator)\n",
        "end = time.time()\n",
        "\n",
        "print(gs.matrix)\n",
        "print(end-start)\n",
        "print(n.game_state.matrix)\n",
        "print(n.game_state.isobjective)"
      ],
      "metadata": {
        "id": "qyVMY_Nb-hXf",
        "colab": {
          "base_uri": "https://localhost:8080/"
        },
        "outputId": "c605512d-801d-464e-cbed-aab1060ae1c2"
      },
      "execution_count": 254,
      "outputs": [
        {
          "output_type": "stream",
          "name": "stdout",
          "text": [
            "[[1 5 8]\n",
            " [2 6 3]\n",
            " [4 7 0]]\n",
            "0.01705312728881836\n",
            "[[1 2 3]\n",
            " [4 5 6]\n",
            " [7 8 0]]\n",
            "True\n"
          ]
        }
      ]
    },
    {
      "cell_type": "markdown",
      "source": [
        "### **Clases para visualización del árbol de estados**"
      ],
      "metadata": {
        "id": "MSCdFqLhQ8UA"
      }
    },
    {
      "cell_type": "code",
      "source": [
        "def node_label(node): \n",
        "  string = f\"Ord: {node.explore_order}\\n\"\n",
        "  string += f\"Cost: {node.cost}\\n\"\n",
        "  if type(node) is SolverHeuristic.HeuristicNode:\n",
        "    string += f\"Heu: {node.heuristic}\\n\"\n",
        "    # string += f\"A*: {node.cost*0.5 + node.heuristic*0.5}\\n\"\n",
        "  string += f\"\\n{node.game_state}\"\n",
        "  return string\n",
        "\n",
        "def build_graphviz_tree(node, graph):\n",
        "    color = 'green' if node.game_state.isobjective else 'white' \n",
        "    graph.node(str(node.id), node_label(node), style='filled', fillcolor=color)\n",
        "\n",
        "    for child in node.children:\n",
        "        build_graphviz_tree(child, graph)\n",
        "        graph.edge(str(node.id), str(child.id), label=child.src_action)\n",
        "\n",
        "def build_graphviz_branch(node, graph):\n",
        "    color = 'green' if node.game_state.isobjective else 'white' \n",
        "    graph.node(str(node.id), node_label(node), style='filled', fillcolor=color)\n",
        "\n",
        "    if node.parent != None:\n",
        "        build_graphviz_branch(node.parent, graph)\n",
        "        graph.edge(str(node.parent.id), str(node.id), label=node.src_action)\n",
        "\n",
        "def renderTree(root):\n",
        "    graph = graphviz.Digraph('decision_tree')\n",
        "    build_graphviz_tree(root, graph)\n",
        "    graph.render(directory='out')\n",
        "\n",
        "def renderBranch(leaf):\n",
        "    graph = graphviz.Digraph('solution_branch')\n",
        "    build_graphviz_branch(leaf, graph)\n",
        "    graph.render(directory='out')\n",
        "\n",
        "def get_solution_sequence(node):\n",
        "  sequence = [{'move': node.src_action, 'state': node.state.data}]\n",
        "\n",
        "  if node.parent != None:\n",
        "    sequence += get_solution_sequence(node.parent)\n",
        "\n",
        "  return sequence"
      ],
      "metadata": {
        "id": "updYbUP6RHLv"
      },
      "execution_count": 155,
      "outputs": []
    },
    {
      "cell_type": "code",
      "source": [
        "# renderBranch(n)\n",
        "# renderTree(solver.initial_node)"
      ],
      "metadata": {
        "id": "H-Mr-cPHRxQ-"
      },
      "execution_count": 156,
      "outputs": []
    },
    {
      "cell_type": "markdown",
      "source": [
        "### **Ejecución y comparación de los métodos de búsqueda**\n"
      ],
      "metadata": {
        "id": "dQGmvW68sXNb"
      }
    },
    {
      "cell_type": "markdown",
      "source": [
        "En esta sección, correremos cada algoritmo en 1000 tableros de prueba generados de manera aleatoria. \n",
        "\n",
        "Para cada matriz generada, medimos el tiempo de ejecución empírico que costó llegar a la solución. "
      ],
      "metadata": {
        "id": "107muxIrY70k"
      }
    },
    {
      "cell_type": "code",
      "source": [
        "times = {\n",
        "    'bpp': [22.32583451271057, 20.539747714996338, 21.542377948760986, 17.787994861602783, 22.045504093170166, 18.513601541519165, 20.482506036758423, 19.275212049484253, 18.019880056381226, 19.08393931388855, 14.566848278045654, 22.396750926971436, 23.406221628189087, 19.792226314544678, 23.160140991210938, 23.8600594997406, 28.353392839431763, 18.74951481819153, 16.189167976379395, 9.405324220657349, 1.0011985301971436, 14.029363632202148, 21.218427181243896, 18.418407201766968, 15.747478723526001, 20.763107299804688, 17.029484510421753, 20.075464963912964, 10.44753360748291, 27.20359444618225, 12.279948949813843, 14.376341104507446, 19.834684133529663, 22.232869386672974, 16.66327929496765, 20.083414554595947, 25.755496501922607, 17.85313868522644, 24.337697505950928, 21.41167449951172, 20.446552276611328, 11.483887434005737, 20.59115719795227, 25.207360982894897, 18.247682571411133, 21.49602246284485, 25.493441820144653, 16.18496060371399, 16.483742475509644, 19.15613865852356, 18.595420837402344, 8.887557983398438, 17.183885097503662, 5.541960716247559, 14.94311261177063, 17.556823015213013, 18.503241062164307, 18.20371699333191, 5.848278760910034, 14.245457649230957, 16.002959489822388, 15.854312658309937, 14.404385805130005, 11.63762879371643, 19.474453926086426, 21.710545301437378, 17.729512929916382, 12.785370349884033, 17.93992042541504, 20.905149221420288, 13.651232719421387, 12.638561725616455, 14.568790197372437, 22.110466957092285, 16.314231157302856, 19.056267023086548, 20.0979905128479, 15.167109966278076, 8.07308554649353, 16.659651279449463, 17.902536630630493, 17.563793897628784, 17.692681550979614, 17.027309894561768, 18.550833463668823, 17.176450729370117, 17.907716989517212, 12.560935020446777, 17.871376276016235, 21.76480984687805, 12.459806442260742, 17.540613174438477, 18.43714952468872, 17.40391254425049, 15.891555786132812, 23.137985229492188, 17.1069917678833, 19.334691524505615, 16.1361882686615, 9.216056108474731, 14.981831789016724, 5.269827365875244, 17.466891050338745], \n",
        "    'bpa': [23.618674278259277, 2.9922618865966797, 18.483099222183228, 34.56344413757324, 44.78534245491028, 33.28125762939453, 42.98843479156494, 23.72173571586609, 39.66427230834961, 16.360487699508667, 2.7486910820007324, 27.477646589279175, 29.871706008911133, 14.528578519821167, 37.17401123046875, 29.667643070220947, 29.599334955215454, 44.57325530052185, 7.876152276992798, 7.6623687744140625, 24.443865299224854, 40.312973976135254, 38.63978862762451, 29.791071891784668, 11.479923725128174, 46.593310594558716, 23.257808446884155, 22.920502424240112, 29.006410121917725, 0.2265627384185791, 44.40449643135071, 22.391217947006226, 19.354430437088013, 26.31336236000061, 28.51556944847107, 46.57778024673462, 1.9218058586120605, 22.94426417350769, 53.735129833221436, 34.913251876831055, 28.214598655700684, 5.680801153182983, 31.43167519569397, 0.3938302993774414, 14.408876657485962, 43.10059094429016, 53.32210326194763, 15.762455701828003, 3.4834046363830566, 32.68414235115051, 21.847310781478882, 32.816298961639404, 16.55350160598755, 23.36025834083557, 32.26328635215759, 37.356279134750366, 0.13571619987487793, 11.228758096694946, 9.15742301940918, 18.508870601654053, 25.92424488067627, 33.38692021369934, 17.183117151260376, 4.713759899139404, 13.187721252441406, 43.44003868103027, 3.055983781814575, 6.8230671882629395, 29.023808479309082, 19.62679386138916, 14.564219951629639, 21.626363277435303, 13.745776891708374, 6.882163047790527, 7.45923638343811, 26.89535665512085, 1.6653189659118652, 19.74591326713562, 12.662200450897217, 2.604454278945923, 5.605015277862549, 20.1855890750885, 42.72604155540466, 3.8506805896759033, 6.71671986579895, 17.110220670700073, 24.612257480621338, 13.902509450912476, 2.286569356918335, 26.354886770248413, 1.026453971862793, 32.609267234802246, 11.216485977172852, 6.226954460144043, 4.272480010986328, 37.63589572906494, 16.94506025314331, 22.917389154434204, 5.5293967723846436, 3.4589433670043945, 13.986561059951782, 9.31533145904541, 4.529737234115601], \n",
        "    'bppv': [18.71673560142517, 18.372486114501953, 14.289278030395508, 23.526884078979492, 28.533191680908203, 30.579955339431763, 24.721739053726196, 10.463006734848022, 27.19912815093994, 13.360111951828003, 9.924283266067505, 18.163179397583008, 32.72334551811218, 15.358528137207031, 22.105807065963745, 34.4567813873291, 24.61919617652893, 22.678714752197266, 15.004565238952637, 15.68168830871582, 11.62815546989441, 23.021437406539917, 21.08309054374695, 26.127870082855225, 13.712174654006958, 25.195059537887573, 4.86605429649353, 5.004607439041138, 34.52385663986206, 0.6610288619995117, 21.458500146865845, 8.648007154464722, 4.178346157073975, 22.44462251663208, 18.970515489578247, 22.380338191986084, 0.7279200553894043, 8.286635637283325, 33.78969073295593, 23.749294996261597, 20.306154251098633, 5.2683961391448975, 20.414288997650146, 0.7228052616119385, 15.076877117156982, 24.69676160812378, 23.653277158737183, 16.826621532440186, 7.457467555999756, 17.74828004837036, 22.53854513168335, 18.89312195777893, 16.72433090209961, 24.690696954727173, 17.663000345230103, 16.083513259887695, 0.04842400550842285, 8.787723779678345, 6.203414678573608, 4.23528790473938, 19.082088708877563, 25.558350801467896, 16.253206729888916, 16.91253399848938, 2.3698854446411133, 22.2580304145813, 8.829467296600342, 6.747183799743652, 29.441306114196777, 11.609063863754272, 12.105107069015503, 12.737222909927368, 15.11190676689148, 12.785592794418335, 3.3911681175231934, 24.55937910079956, 0.4301753044128418, 8.754919052124023, 13.757846117019653, 9.610038995742798, 9.62415099143982, 8.281640768051147, 24.70233988761902, 7.833781719207764, 8.300087690353394, 11.127575159072876, 25.52483606338501, 10.01043701171875, 10.443159103393555, 22.66618061065674, 1.0128204822540283, 20.236117362976074, 6.242856502532959, 5.185708045959473, 5.1126790046691895, 18.0437228679657, 16.702998399734497, 19.444655179977417, 7.614954471588135, 6.789121389389038, 14.128310680389404, 10.762553691864014, 7.214413404464722], \n",
        "    'global_m': [0.06065559387207031, 0.04136919975280762, 0.07108616828918457, 0.03686237335205078, 0.06560587882995605, 0.0097808837890625, 0.07128381729125977, 0.05821943283081055, 0.08941841125488281, 0.009279012680053711, 1.485485315322876, 0.04277467727661133, 0.04325103759765625, 0.006738901138305664, 0.07300496101379395, 0.05045747756958008, 0.0850975513458252, 0.09409499168395996, 0.03321027755737305, 0.07700586318969727, 0.04563450813293457, 0.09419965744018555, 0.030991792678833008, 0.023515701293945312, 0.04394674301147461, 0.07698988914489746, 0.03609609603881836, 0.02893805503845215, 0.08058857917785645, 0.06424903869628906, 0.06577491760253906, 1.9808402061462402, 0.02875232696533203, 0.05468034744262695, 0.08675694465637207, 0.03703022003173828, 0.02639317512512207, 0.12035012245178223, 0.04590344429016113, 0.0456843376159668, 0.041121482849121094, 0.0676414966583252, 0.0756528377532959, 0.012477874755859375, 0.03188180923461914, 0.043927669525146484, 0.0530095100402832, 0.06659746170043945, 0.08605384826660156, 0.08066892623901367, 0.033707380294799805, 0.043488264083862305, 0.05626392364501953, 0.0974431037902832, 0.038166046142578125, 0.03451180458068848, 0.06046438217163086, 0.029791593551635742, 0.10690712928771973, 0.010408639907836914, 0.0817720890045166, 0.05909228324890137, 0.06859946250915527, 0.01933145523071289, 0.03261065483093262, 0.026713132858276367, 0.04567384719848633, 0.06894087791442871, 0.08040666580200195, 0.06941413879394531, 0.03724312782287598, 0.10274791717529297, 0.03632712364196777, 0.0063304901123046875, 0.02717280387878418, 0.02352738380432129, 0.031650543212890625, 0.008259296417236328, 0.043471336364746094, 0.01897287368774414, 0.0529935359954834, 0.037689924240112305, 0.015423774719238281, 0.08481669425964355, 0.03531169891357422, 0.03604269027709961, 0.045044898986816406, 0.04442477226257324, 0.039179325103759766, 0.03288435935974121, 0.019189119338989258, 0.055045127868652344, 0.11554884910583496, 0.050820112228393555, 0.07008886337280273, 0.032428741455078125, 0.02782607078552246, 0.10201621055603027, 0.009119749069213867, 0.05177664756774902, 0.09766006469726562, 0.032746315002441406, 0.02866959571838379], \n",
        "    'global_m2': [0.02322530746459961, 0.07163572311401367, 0.04209542274475098, 0.05123543739318848, 0.057550907135009766, 0.03066873550415039, 0.0610194206237793, 0.012376785278320312, 0.0693209171295166, 0.06569910049438477, 0.014312028884887695, 0.028284072875976562, 0.04590749740600586, 0.04679298400878906, 0.07359957695007324, 0.04707932472229004, 0.10187840461730957, 0.013997316360473633, 0.006080150604248047, 0.05349874496459961, 0.006055593490600586, 0.06254887580871582, 0.03200340270996094, 0.028853654861450195, 0.04713726043701172, 0.08086156845092773, 0.0954277515411377, 0.02799224853515625, 0.0818948745727539, 0.010703086853027344, 0.0437469482421875, 0.011339187622070312, 0.061444759368896484, 0.07247209548950195, 0.06900858879089355, 0.06539416313171387, 0.06564807891845703, 0.01833653450012207, 0.0804443359375, 0.05588674545288086, 0.012344598770141602, 0.03906822204589844, 0.07051682472229004, 0.003587961196899414, 0.007590055465698242, 0.08713936805725098, 0.06345725059509277, 0.0962979793548584, 0.046378135681152344, 0.04593539237976074, 0.034476280212402344, 0.10773944854736328, 0.08546805381774902, 0.05731916427612305, 0.02232837677001953, 0.07115364074707031, 0.08509278297424316, 0.0051555633544921875, 0.006570577621459961, 0.015719890594482422, 0.07031035423278809, 0.028277873992919922, 0.04797983169555664, 0.07169294357299805, 0.022809982299804688, 0.06737685203552246, 0.006577968597412109, 0.05731844902038574, 0.07699871063232422, 0.0408167839050293, 0.05326271057128906, 0.027425765991210938, 0.04648947715759277, 0.010920047760009766, 0.057868242263793945, 0.03718852996826172, 0.030092716217041016, 0.06313490867614746, 0.052303314208984375, 0.05784416198730469, 0.005126953125, 0.09075260162353516, 0.02426457405090332, 0.02420353889465332, 0.07070422172546387, 0.015564203262329102, 0.04993772506713867, 0.11393404006958008, 0.03352236747741699, 0.07319378852844238, 0.03835654258728027, 0.037697553634643555, 0.05901360511779785, 0.03011322021484375, 0.09044885635375977, 0.057929039001464844, 0.012563705444335938, 0.015642166137695312, 0.084228515625, 0.029090404510498047, 0.016066789627075195, 0.052295684814453125, 0.02320718765258789], \n",
        "    'global_c': [0.15075373649597168, 0.10231995582580566, 0.017745018005371094, 0.07348108291625977, 0.06372523307800293, 0.1506638526916504, 0.08929061889648438, 0.12953901290893555, 0.13677358627319336, 0.1325361728668213, 0.04945993423461914, 0.22279715538024902, 0.05780482292175293, 0.022265195846557617, 0.10307693481445312, 0.24163150787353516, 0.1164088249206543, 0.08912324905395508, 0.029410839080810547, 0.14677691459655762, 0.05269479751586914, 0.09909367561340332, 0.08876824378967285, 0.09168696403503418, 0.07325291633605957, 0.08344817161560059, 0.09409379959106445, 0.20203804969787598, 0.1224968433380127, 0.0816793441772461, 0.3634626865386963, 0.11675882339477539, 0.1784670352935791, 0.37917399406433105, 0.1976940631866455, 0.1523890495300293, 0.15414166450500488, 0.12369942665100098, 0.03953099250793457, 0.18472528457641602, 0.06828570365905762, 0.15602636337280273, 3.327589988708496, 0.011724710464477539, 0.04418468475341797, 0.1423630714416504, 0.2709052562713623, 0.11593818664550781, 0.12443923950195312, 0.09273481369018555, 0.1799309253692627, 0.18631911277770996, 0.14164400100708008, 0.11217355728149414, 0.05200910568237305, 0.15365266799926758, 0.17100834846496582, 0.12285542488098145, 0.21410417556762695, 0.08315300941467285, 0.19693732261657715, 0.27629613876342773, 0.0642249584197998, 0.27503204345703125, 0.019129276275634766, 0.1091451644897461, 0.09479570388793945, 0.06737208366394043, 0.05637097358703613, 0.038167715072631836, 0.15944957733154297, 0.09366917610168457, 0.33390212059020996, 0.015839099884033203, 0.26691532135009766, 0.18228459358215332, 0.10270929336547852, 0.08389472961425781, 0.13594627380371094, 0.09307742118835449, 0.20026063919067383, 0.1977076530456543, 0.25598812103271484, 0.12790846824645996, 0.21557068824768066, 0.23996210098266602, 0.4055039882659912, 0.2744419574737549, 0.05341053009033203, 0.15349125862121582, 0.126173734664917, 0.12584447860717773, 0.10844779014587402, 0.15895867347717285, 0.1978282928466797, 0.13094878196716309, 0.11075782775878906, 0.18312692642211914, 0.030442237854003906, 0.11699151992797852, 0.10815215110778809, 0.18322038650512695, 0.10282421112060547], \n",
        "    'local_m': [0.03583526611328125, 0.02469038963317871, 0.18995118141174316, 0.008650541305541992, 0.014748573303222656, 0.10034847259521484, 0.02049112319946289, 0.13929390907287598, 0.1506187915802002, 0.03269076347351074, 0.006073951721191406, 0.2688913345336914, 0.10072803497314453, 0.04988288879394531, 0.1446671485900879, 0.029906272888183594, 0.10470175743103027, 0.02276611328125, 0.14122343063354492, 0.1946735382080078, 0.09389829635620117, 0.06725597381591797, 0.04518890380859375, 0.03986668586730957, 0.0032401084899902344, 0.01802515983581543, 0.034223079681396484, 0.010540246963500977, 0.02217841148376465, 0.1260373592376709, 0.02301931381225586, 0.06792664527893066, 0.010743379592895508, 0.19528627395629883, 0.12749981880187988, 0.08738017082214355, 0.018756389617919922, 0.045121192932128906, 0.10323786735534668, 0.07964205741882324, 0.04231548309326172, 0.025580883026123047, 0.0912168025970459, 0.011520624160766602, 0.18683218955993652, 0.2760741710662842, 0.024863243103027344, 0.10276961326599121, 0.08185791969299316, 0.06888961791992188, 0.019347429275512695, 0.01419210433959961, 0.04728055000305176, 0.04373884201049805, 0.10053348541259766, 0.047454833984375, 0.05572676658630371, 0.2003176212310791, 0.2605726718902588, 0.014404296875, 0.10009407997131348, 0.008814096450805664, 0.09421730041503906, 0.006294727325439453, 0.006281137466430664, 0.010717630386352539, 0.020097017288208008, 0.03269219398498535, 0.023154020309448242, 0.06614089012145996, 0.023731231689453125, 0.15288519859313965, 0.04425406455993652, 0.01163792610168457, 0.047911643981933594, 0.04404282569885254, 0.14632821083068848, 0.26062798500061035, 0.04661846160888672, 0.05756640434265137, 0.05035686492919922, 0.055941104888916016, 0.03795218467712402, 0.05416369438171387, 0.016646862030029297, 0.048310279846191406, 0.047547101974487305, 0.0532379150390625, 0.06061720848083496, 0.09009599685668945, 0.006798982620239258, 0.03700685501098633, 0.018275976181030273, 0.04102683067321777, 0.28479528427124023, 0.08878779411315918, 0.04835963249206543, 0.0574183464050293, 0.05807328224182129, 0.021424055099487305, 0.07447957992553711, 0.1430971622467041, 0.009227991104125977], \n",
        "    'local_m2': [0.01165628433227539, 0.041521549224853516, 0.010550498962402344, 0.008734464645385742, 0.014105796813964844, 0.021251201629638672, 0.0467066764831543, 0.01639413833618164, 0.1274094581604004, 0.1101386547088623, 0.24903535842895508, 0.0998685359954834, 0.017603158950805664, 0.017786502838134766, 0.05145835876464844, 0.11747026443481445, 0.2117307186126709, 0.12717461585998535, 0.06270980834960938, 0.036295175552368164, 0.03982067108154297, 0.2852611541748047, 0.014089345932006836, 0.014687299728393555, 0.006849527359008789, 0.007626056671142578, 0.18825888633728027, 0.06646347045898438, 0.06980323791503906, 0.0159604549407959, 0.1358044147491455, 0.08249068260192871, 0.05908083915710449, 0.01596856117248535, 0.04913663864135742, 0.01364755630493164, 0.1314082145690918, 0.010537385940551758, 0.0948030948638916, 0.028900861740112305, 0.024660825729370117, 0.0047643184661865234, 0.1292741298675537, 0.0032308101654052734, 0.09775948524475098, 0.0502467155456543, 0.05809593200683594, 0.08709001541137695, 0.0632333755493164, 0.01507711410522461, 0.17091822624206543, 0.013893604278564453, 0.017948150634765625, 0.03362464904785156, 0.010395050048828125, 0.10833930969238281, 0.19129538536071777, 0.06003832817077637, 0.03491067886352539, 0.03676795959472656, 0.07398509979248047, 0.0371396541595459, 0.03712129592895508, 0.06317400932312012, 0.21278667449951172, 0.1808762550354004, 0.04552936553955078, 0.017940759658813477, 0.03703784942626953, 0.0794677734375, 0.027769804000854492, 0.04052877426147461, 0.016877174377441406, 0.031249046325683594, 0.03649759292602539, 0.015154838562011719, 0.005439281463623047, 0.017456769943237305, 0.16180825233459473, 0.08543181419372559, 0.01416015625, 0.11266803741455078, 0.0699758529663086, 0.016124963760375977, 0.1234889030456543, 0.02138662338256836, 0.010016441345214844, 0.06671142578125, 0.020348072052001953, 0.024470090866088867, 0.0020499229431152344, 0.10651373863220215, 0.07181334495544434, 0.1708211898803711, 0.013384819030761719, 0.01961803436279297, 0.06944727897644043, 0.018896818161010742, 0.011673212051391602, 0.04915666580200195, 0.01769113540649414, 0.016367197036743164, 0.13923430442810059], \n",
        "    'local_c': [0.44339919090270996, 0.13114285469055176, 0.343522310256958, 0.6674697399139404, 0.5049376487731934, 0.27500033378601074, 0.04421830177307129, 0.06660032272338867, 0.03104090690612793, 0.011649370193481445, 0.21811652183532715, 0.22257661819458008, 0.38977599143981934, 0.3904690742492676, 0.12053442001342773, 0.0387721061706543, 0.433837890625, 0.4371225833892822, 0.018199682235717773, 0.06137728691101074, 0.44089818000793457, 0.558490514755249, 0.445767879486084, 0.005191326141357422, 0.30805492401123047, 0.018820524215698242, 0.009829282760620117, 0.1782214641571045, 0.03289914131164551, 0.06715178489685059, 0.26445865631103516, 0.24236416816711426, 0.2815582752227783, 0.015260457992553711, 0.12279677391052246, 0.3580794334411621, 0.5309278964996338, 0.5020394325256348, 0.09870624542236328, 0.33667922019958496, 0.05370044708251953, 0.4451127052307129, 0.19332671165466309, 0.2390577793121338, 0.05084872245788574, 0.15184426307678223, 0.09224367141723633, 0.18950438499450684, 0.11757683753967285, 0.018351078033447266, 0.20757818222045898, 0.5708959102630615, 0.2775237560272217, 0.2966582775115967, 0.2826240062713623, 0.45256733894348145, 0.6882350444793701, 0.7726163864135742, 0.129638671875, 0.17661809921264648, 0.18060016632080078, 0.18925189971923828, 0.14060020446777344, 0.11453747749328613, 0.011695384979248047, 0.02130913734436035, 0.4175453186035156, 0.5752055644989014, 0.19694805145263672, 0.10578393936157227, 0.19062185287475586, 0.016743183135986328, 0.13594937324523926, 0.14830350875854492, 0.466214656829834, 0.05005455017089844, 0.46187925338745117, 0.18789124488830566, 0.03681302070617676, 0.010948657989501953, 0.21163415908813477, 0.6493337154388428, 0.5267024040222168, 0.07027268409729004, 0.12921595573425293, 0.47557902336120605, 0.9231133460998535, 0.5779240131378174, 0.38926100730895996, 0.20139312744140625, 1.7709486484527588, 0.09788846969604492, 0.43535780906677246, 0.28594350814819336, 0.1746993064880371, 0.1852254867553711, 0.06628751754760742, 0.2042405605316162, 0.628472089767456, 0.21227312088012695, 0.13040947914123535, 0.009937524795532227, 0.04281902313232422], \n",
        "    'star_m': [0.45102715492248535, 0.0731508731842041, 0.32233595848083496, 1.1352696418762207, 1.5070161819458008, 0.3253498077392578, 1.4283370971679688, 0.603696346282959, 1.1225416660308838, 0.23966574668884277, 0.09105730056762695, 0.3367605209350586, 0.887387752532959, 0.2930183410644531, 0.8291134834289551, 1.0379674434661865, 0.8990404605865479, 1.8860838413238525, 0.10020279884338379, 0.1851961612701416, 0.7162933349609375, 0.4406602382659912, 1.4293208122253418, 0.5375504493713379, 0.12062311172485352, 0.8573307991027832, 0.7092118263244629, 0.613227128982544, 1.0895659923553467, 0.02397012710571289, 1.0483801364898682, 0.354337215423584, 0.48664045333862305, 0.620201587677002, 0.47278881072998047, 1.209275722503662, 0.06552004814147949, 0.440418004989624, 3.0775821208953857, 0.43338489532470703, 0.44026637077331543, 0.07003355026245117, 1.0684711933135986, 0.005445003509521484, 0.4115126132965088, 5.826586961746216, 4.037504196166992, 0.3578219413757324, 0.14330601692199707, 1.0842602252960205, 0.7913081645965576, 0.886760950088501, 0.31580114364624023, 4.841064453125, 0.845036506652832, 1.1703994274139404, 0.009952306747436523, 0.1822049617767334, 0.30763769149780273, 0.8576614856719971, 0.49701476097106934, 0.9734859466552734, 0.42900896072387695, 0.023016691207885742, 0.22247672080993652, 1.2313306331634521, 0.09637308120727539, 0.17866802215576172, 0.5029010772705078, 0.6633055210113525, 0.11646151542663574, 0.5252141952514648, 0.2810530662536621, 0.22915315628051758, 0.10889410972595215, 0.4727969169616699, 0.05050158500671387, 0.4900360107421875, 0.18056941032409668, 0.04453849792480469, 0.0460813045501709, 0.2461719512939453, 1.9035546779632568, 0.05206418037414551, 0.20999932289123535, 0.2047736644744873, 0.498821496963501, 0.3126099109649658, 0.09767794609069824, 0.4331851005554199, 0.022876739501953125, 1.4988811016082764, 0.3810281753540039, 0.03505825996398926, 0.08582663536071777, 1.6737799644470215, 0.19030499458312988, 0.4330170154571533, 0.22564291954040527, 0.03110337257385254, 0.3100087642669678, 0.14652347564697266, 0.17325854301452637], \n",
        "    'star_m2': [0.02405858039855957, 0.005606412887573242, 0.11456155776977539, 0.14008307456970215, 0.16070008277893066, 0.03168320655822754, 0.059024810791015625, 0.03171133995056152, 0.06013298034667969, 0.2544679641723633, 0.014555931091308594, 0.03979825973510742, 0.03873419761657715, 0.01934027671813965, 0.06415200233459473, 0.09243297576904297, 0.12234997749328613, 0.1469435691833496, 0.00860595703125, 0.022588491439819336, 0.02670598030090332, 0.027096271514892578, 0.0670931339263916, 0.06964635848999023, 0.08924245834350586, 0.39557743072509766, 0.04999995231628418, 0.015846729278564453, 0.03912353515625, 0.002269744873046875, 0.05205416679382324, 0.05459451675415039, 0.013446331024169922, 0.014595985412597656, 0.051894187927246094, 0.2770981788635254, 0.06543874740600586, 0.01805424690246582, 0.2869699001312256, 0.033280134201049805, 0.03612923622131348, 0.03903079032897949, 0.08038091659545898, 0.0033080577850341797, 0.03511786460876465, 0.0393221378326416, 0.07485198974609375, 0.07143449783325195, 0.06982588768005371, 0.28862524032592773, 0.03579401969909668, 0.0503847599029541, 0.025522947311401367, 0.05988168716430664, 0.07569193840026855, 0.023291587829589844, 0.008632421493530273, 0.06895947456359863, 0.005793333053588867, 0.05640387535095215, 0.07709002494812012, 0.031176090240478516, 0.015366315841674805, 0.03792858123779297, 0.14404511451721191, 0.10979080200195312, 0.03094792366027832, 0.03854060173034668, 0.05748438835144043, 0.02915787696838379, 0.011082887649536133, 0.05889701843261719, 0.020659208297729492, 0.029302358627319336, 0.13135147094726562, 0.06408500671386719, 0.0733489990234375, 0.008687257766723633, 0.07776975631713867, 0.11007571220397949, 0.002755403518676758, 0.022536277770996094, 0.05708909034729004, 0.09544181823730469, 0.01580071449279785, 0.009077310562133789, 0.013134241104125977, 0.025142431259155273, 0.0072023868560791016, 0.04928183555603027, 0.004014492034912109, 0.12202191352844238, 0.12474489212036133, 0.1135704517364502, 0.06069326400756836, 0.019491910934448242, 0.04901909828186035, 0.13252973556518555, 0.0490725040435791, 0.013220071792602539, 0.16063547134399414, 0.1261148452758789, 0.06417655944824219], \n",
        "    'star_c': [1.25250244140625, 2.1306633949279785, 1.1728489398956299, 4.061286687850952, 8.417400121688843, 3.7383177280426025, 8.451624155044556, 5.744485378265381, 10.486375570297241, 1.339101791381836, 0.21245145797729492, 2.5794243812561035, 7.065130233764648, 0.9120514392852783, 6.068691730499268, 4.127431392669678, 3.33874249458313, 7.593409538269043, 0.5233588218688965, 0.5367431640625, 2.350287437438965, 9.617221117019653, 6.5159196853637695, 3.4793787002563477, 0.5955533981323242, 14.189321041107178, 5.687703371047974, 2.290576219558716, 4.071304798126221, 0.026027202606201172, 5.751404047012329, 2.945558547973633, 1.7047600746154785, 3.286543607711792, 2.634481191635132, 6.937457799911499, 0.17516183853149414, 2.367521047592163, 22.54378604888916, 7.478188991546631, 1.9144599437713623, 0.26667022705078125, 3.81017804145813, 0.025571107864379883, 1.1163444519042969, 9.353569746017456, 21.50389790534973, 1.462937831878662, 0.2465510368347168, 8.284664392471313, 2.882298231124878, 4.861981391906738, 1.2311069965362549, 2.697005033493042, 9.101065874099731, 6.652984142303467, 0.011435270309448242, 0.6927101612091064, 3.263378858566284, 2.630889654159546, 2.3291866779327393, 8.872679471969604, 1.4165449142456055, 0.15983247756958008, 3.837610960006714, 11.199471473693848, 0.33583521842956543, 0.5782840251922607, 3.2353568077087402, 1.577934980392456, 1.2205729484558105, 2.2971713542938232, 1.0268850326538086, 0.8183262348175049, 0.6016554832458496, 3.4430766105651855, 0.1873466968536377, 4.988866329193115, 0.9846386909484863, 0.24132370948791504, 0.31057024002075195, 1.7892420291900635, 10.899188756942749, 0.20743942260742188, 0.6458065509796143, 1.4414472579956055, 2.8491013050079346, 3.725618600845337, 0.13521051406860352, 2.8927595615386963, 0.05422472953796387, 5.643193960189819, 1.0383260250091553, 0.4582817554473877, 0.15135455131530762, 5.664640426635742, 1.4254076480865479, 2.7585182189941406, 0.40346384048461914, 0.24225568771362305, 3.5508310794830322, 0.7988462448120117, 0.42974042892456055]\n",
        "}\n",
        "depths = {\n",
        "    'bpp': [74406, 84400, 77882, 113232, 81618, 106574, 97584, 97869, 113635, 113302, 112820, 90689, 47262, 88911, 75781, 68442, 30262, 110538, 108369, 60551, 9119, 99459, 97705, 104292, 114348, 93362, 110137, 72431, 63242, 40520, 78143, 114461, 87138, 94870, 113439, 89925, 51683, 113607, 62144, 64940, 106453, 81380, 90468, 47711, 114341, 93610, 60828, 114546, 85488, 50413, 100530, 66329, 96080, 61876, 112975, 114616, 90057, 61043, 56475, 109511, 95657, 109519, 114454, 89112, 48004, 65333, 92928, 108836, 97806, 38479, 114298, 108683, 113755, 33664, 100911, 75720, 81925, 87563, 58909, 106382, 69589, 93873, 94551, 71858, 48562, 63644, 95476, 113056, 91616, 50026, 100276, 84805, 69369, 87627, 110426, 33346, 103920, 72228, 74359, 81862, 110093, 36648, 82355],       \n",
        "    'bpa': [22, 18, 22, 24, 26, 24, 26, 23, 25, 22, 18, 23, 24, 21, 25, 24, 24, 26, 19, 19, 23, 25, 25, 24, 20, 26, 23, 23, 24, 12, 25, 23, 22, 24, 23, 25, 17, 23, 28, 24, 23, 18, 24, 13, 21, 26, 28, 22, 18, 25, 24, 25, 22, 24, 25, 26, 11, 21, 21, 23, 23, 25, 22, 18, 22, 27, 18, 20, 24, 23, 22, 23, 21, 20, 19, 24, 17, 23, 21, 18, 19, 23, 27, 18, 20, 22, 24, 22, 18, 24, 16, 25, 21, 19, 18, 26, 22, 24, 19, 18, 21, 20, 19], \n",
        "    'bppv': [22, 22, 22, 26, 26, 28, 28, 23, 25, 22, 18, 23, 24, 23, 25, 24, 28, 28, 23, 23, 23, 29, 27, 24, 22, 26, 23, 23, 24, 12, 27, 23, 22, 26, 23, 29, 17, 23, 28, 26, 23, 18, 28, 17, 23, 28, 28, 22, 18, 27, 26, 29, 22, 24, 27, 28, 11, 23, 21, 23, 23, 25, 22, 18, 22, 29, 22, 22, 24, 23, 22, 23, 23, 22, 23, 28, 17, 23, 21, 22, 21, 23, 29, 18, 20, 22, 28, 22, 18, 28, 16, 29, 23, 19, 18, 28, 22, 28, 23, 18, 23, 22, 21], \n",
        "    'global_m': [34, 44, 48, 38, 62, 28, 68, 49, 47, 26, 50, 61, 48, 23, 49, 46, 62, 72, 45, 45, 35, 63, 53, 32, 66, 78, 57, 37, 36, 36, 69, 57, 62, 46, 63, 53, 41, 67, 80, 62, 39, 38, 48, 29, 31, 34, 48, 54, 52, 41, 44, 59, 48, 48, 45, 70, 43, 39, 69, 23, 59, 61, 60, 46, 34, 63, 34, 56, 66, 49, 48, 53, 49, 26, 41, 52, 37, 23, 65, 46, 73, 75, 45, 64, 48, 40, 50, 48, 52, 44, 46, 51, 43, 63, 58, 38, 44, 52, 25, 54, 41, 48, 27], \n",
        "    'global_m2': [42, 58, 78, 50, 60, 42, 76, 31, 59, 62, 28, 57, 74, 53, 57, 94, 100, 54, 19, 31, 29, 63, 53, 60, 60, 114, 99, 29, 88, 12, 47, 45, 74, 76, 75, 71, 43, 43, 88, 66, 47, 46, 60, 13, 21, 92, 64, 86, 36, 65, 44, 111, 86, 48, 45, 64, 81, 29, 25, 35, 49, 71, 102, 86, 32, 55, 26, 58, 110, 89, 58, 55, 37, 26, 41, 60, 35, 67, 53, 48, 19, 93, 33, 32, 48, 40, 62, 116, 48, 82, 46, 69, 55, 61, 96, 66, 44, 36, 87, 44, 33, 56, 35], \n",
        "    'global_c': [48, 50, 34, 40, 50, 56, 58, 53, 75, 68, 28, 45, 44, 23, 37, 80, 58, 38, 19, 55, 75, 65, 41, 80, 30, 60, 41, 55, 32, 32, 83, 57, 60, 78, 59, 53, 43, 57, 42, 60, 45, 42, 76, 23, 47, 38, 74, 38, 44, 63, 54, 45, 54, 50, 65, 54, 31, 51, 71, 37, 55, 79, 48, 70, 30, 49, 42, 44, 70, 51, 42, 57, 77, 26, 59, 62, 29, 35, 59, 44, 57, 83, 61, 42, 50, 58, 82, 48, 38, 60, 46, 45, 59, 51, 58, 46, 60, 48, 19, 54, 67, 84, 61], \n",
        "    'local_m': [294, 108, 814, 36, 62, 320, 90, 619, 633, 130, 24, 1353, 570, 213, 607, 246, 546, 92, 577, 779, 399, 303, 391, 164, 28, 136, 273, 69, 96, 480, 101, 593, 96, 864, 535, 359, 81, 199, 430, 356, 185, 104, 380, 101, 1129, 1188, 192, 440, 320, 295, 104, 63, 206, 194, 809, 208, 217, 1177, 1185, 131, 443, 75, 412, 56, 54, 93, 166, 182, 100, 279, 156, 639, 185, 94, 381, 374, 793, 1253, 395, 492, 289, 385, 323, 234, 74, 398, 312, 230, 340, 762, 60, 159, 77, 347, 1204, 404, 430, 304, 259, 86, 549, 730, 75], \n",
        "    'local_m2': [48, 174, 92, 36, 60, 92, 200, 67, 529, 534, 954, 383, 152, 77, 191, 564, 870, 864, 245, 153, 297, 1137, 113, 120, 28, 62, 759, 269, 564, 122, 483, 681, 248, 70, 209, 59, 537, 45, 386, 118, 187, 18, 532, 13, 413, 220, 220, 340, 272, 105, 714, 55, 70, 140, 87, 580, 753, 505, 279, 155, 471, 227, 312, 256, 864, 763, 200, 76, 324, 653, 114, 333, 67, 130, 149, 108, 47, 69, 699, 362, 61, 461, 289, 72, 510, 178, 44, 266, 168, 102, 16, 705, 307, 789, 58, 86, 568, 76, 51, 220, 75, 58, 685], \n",
        "    'local_c': [2246, 674, 1800, 3514, 3070, 1404, 444, 349, 159, 134, 1508, 1527, 2332, 2119, 1205, 216, 2450, 2906, 93, 325, 3347, 2805, 2287, 54, 1904, 210, 53, 1279, 296, 340, 1895, 1265, 1550, 64, 671, 1889, 2877, 3133, 1152, 2330, 281, 2376, 1014, 1139, 279, 1506, 1040, 998, 1050, 133, 1430, 3119, 2086, 3158, 1785, 2450, 3473, 5053, 695, 1017, 1085, 1047, 746, 810, 60, 119, 2220, 3142, 1068, 1153, 1046, 193, 725, 754, 2347, 286, 3161, 931, 191, 58, 1089, 4619, 2727, 398, 1242, 2470, 5380, 3010, 3434, 1090, 2436, 935, 2259, 1497, 1066, 1038, 404, 1920, 4259, 1112, 701, 54, 209], \n",
        "    'star_m': [22, 18, 22, 24, 26, 24, 26, 23, 25, 22, 18, 23, 24, 21, 25, 24, 24, 26, 19, 19, 23, 25, 25, 24, 20, 26, 23, 23, 24, 12, 25, 23, 22, 24, 23, 25, 17, 23, 28, 24, 23, 18, 24, 13, 21, 26, 28, 22, 18, 25, 24, 25, 22, 24, 25, 26, 11, 21, 21, 23, 23, 25, 22, 18, 22, 27, 18, 20, 24, 23, 22, 23, 21, 20, 19, 24, 17, 23, 21, 18, 19, 23, 27, 18, 20, 22, 24, 22, 18, 24, 16, 25, 21, 19, 18, 26, 22, 24, 19, 18, 21, 20, 19], \n",
        "    'star_m2': [24, 20, 26, 26, 30, 34, 34, 27, 31, 34, 18, 23, 30, 23, 35, 26, 24, 34, 19, 19, 23, 35, 25, 34, 30, 38, 27, 23, 24, 12, 31, 25, 28, 24, 29, 31, 17, 27, 36, 30, 25, 26, 26, 13, 21, 26, 30, 26, 24, 31, 32, 35, 24, 30, 31, 32, 11, 23, 25, 23, 25, 25, 26, 28, 24, 33, 18, 20, 30, 25, 24, 29, 23, 22, 25, 24, 17, 23, 33, 20, 19, 27, 33, 24, 20, 30, 28, 28, 18, 26, 16, 25, 25, 25, 26, 32, 36, 32, 19, 18, 21, 30, 19], \n",
        "    'star_c': [22, 18, 22, 24, 26, 24, 26, 23, 25, 22, 18, 23, 24, 21, 25, 24, 24, 26, 19, 19, 23, 25, 25, 24, 20, 26, 23, 23, 24, 12, 25, 23, 22, 24, 23, 25, 17, 23, 28, 24, 23, 18, 24, 13, 21, 26, 28, 22, 18, 25, 24, 25, 22, 24, 25, 26, 11, 21, 21, 23, 23, 25, 22, 18, 22, 27, 18, 20, 24, 23, 22, 23, 21, 20, 19, 24, 17, 23, 21, 18, 19, 23, 27, 18, 20, 22, 24, 22, 18, 24, 16, 25, 21, 19, 18, 26, 22, 24, 19, 18, 21, 20, 19]\n",
        "  }\n",
        "\n",
        "\n",
        "times = {\n",
        "    'bpp': [],\n",
        "    'bpa': [],\n",
        "    'bppv': [], \n",
        "    'global_m': [], \n",
        "    'global_m2': [], \n",
        "    'global_c': [], \n",
        "    'local_m': [], \n",
        "    'local_m2': [], \n",
        "    'local_c': [], \n",
        "    'star_m': [], \n",
        "    'star_m2': [], \n",
        "    'star_c': [], \n",
        "}\n",
        "depths = {\n",
        "    'bpp': [],\n",
        "    'bpa': [],\n",
        "    'bppv': [], \n",
        "    'global_m': [], \n",
        "    'global_m2': [], \n",
        "    'global_c': [], \n",
        "    'local_m': [], \n",
        "    'local_m2': [], \n",
        "    'local_c': [], \n",
        "    'star_m': [], \n",
        "    'star_m2': [], \n",
        "    'star_c': [], \n",
        "}\n"
      ],
      "metadata": {
        "id": "KL_qaXgJTmrF"
      },
      "execution_count": 192,
      "outputs": []
    },
    {
      "cell_type": "code",
      "source": [
        "def getInvCount(arr):\n",
        "    inv_count = 0\n",
        "    empty_value = 0\n",
        "    for i in range(0, 9):\n",
        "        for j in range(i + 1, 9):\n",
        "            if arr[j] != empty_value and arr[i] != empty_value and arr[i] > arr[j]:\n",
        "                inv_count += 1\n",
        "    return inv_count\n",
        "\n",
        "\n",
        "def isSolvable(puzzle):\n",
        "    inv_count = getInvCount([j for sub in puzzle for j in sub])\n",
        "    return (inv_count % 2 == 0)\n",
        "\n",
        "\n",
        "def solve(solver: Solver):\n",
        "\n",
        "    iterator = iter(solver)\n",
        "    solved = False\n",
        "    n = None\n",
        "    last = None\n",
        "    first = next(iterator)\n",
        "    while not solved:\n",
        "        n, solved = next(iterator)\n",
        "        if n is not None:\n",
        "            last = n\n",
        "    return last"
      ],
      "metadata": {
        "id": "zi1ZkbGEB5NS"
      },
      "execution_count": 182,
      "outputs": []
    },
    {
      "cell_type": "code",
      "source": [
        "import time \n",
        "\n",
        "for i in range(200):\n",
        "    print(\"ITER\", i)\n",
        "    state =  EightGameState()\n",
        "    if not isSolvable(state.matrix):\n",
        "        continue\n",
        "\n",
        "    print(\"State: \", state)\n",
        "    print(\"\", \"BPPV\", \"\")\n",
        "\n",
        "    start_time = time.time()\n",
        "    n = solve(SolverBPPV(state, 5))\n",
        "    end_time = time.time()\n",
        "    times[\"bppv\"].append(end_time - start_time)\n",
        "    depths[\"bppv\"].append(n.depth)\n",
        "\n",
        "    print(\"\", \"BPA\", \"\")\n",
        "\n",
        "    start_time = time.time()\n",
        "    n = solve(SolverBPA(state))\n",
        "    end_time = time.time()\n",
        "    times[\"bpa\"].append(end_time - start_time)\n",
        "    depths[\"bpa\"].append(n.depth)\n",
        "\n",
        "    print(\"\", \"BPP\", \"\")\n",
        "\n",
        "    start_time = time.time()\n",
        "    n = solve(SolverBPP(state))\n",
        "    end_time = time.time()\n",
        "    times[\"bpp\"].append(end_time - start_time)\n",
        "    depths[\"bpp\"].append(n.depth)\n",
        "\n",
        "    print(\"\", \"M\", \"\")\n",
        "\n",
        "    start_time = time.time()\n",
        "    n = solve(SolverGlobalHeuristic(state, manhattan_heuristic))\n",
        "    end_time = time.time()\n",
        "    times[\"global_m\"].append(end_time - start_time)\n",
        "    depths[\"global_m\"].append(n.depth)\n",
        "\n",
        "    start_time = time.time()\n",
        "    n = solve(SolverLocalHeuristic(state, manhattan_heuristic))\n",
        "    end_time = time.time()\n",
        "    times[\"local_m\"].append(end_time - start_time)\n",
        "    depths[\"local_m\"].append(n.depth)\n",
        "\n",
        "    start_time = time.time()\n",
        "    n = solve(SolverWeightHeuristic(state, manhattan_heuristic, 0.5))\n",
        "    end_time = time.time()\n",
        "    times[\"star_m\"].append(end_time - start_time)\n",
        "    depths[\"star_m\"].append(n.depth)\n",
        "\n",
        "    print(\"\", \"M2\", \"\")\n",
        "\n",
        "    start_time = time.time()\n",
        "    n = solve(SolverGlobalHeuristic(state, manhattan_squared_heuristic))\n",
        "    end_time = time.time()\n",
        "    times[\"global_m2\"].append(end_time - start_time)\n",
        "    depths[\"global_m2\"].append(n.depth)\n",
        "\n",
        "    start_time = time.time()\n",
        "    n = solve(SolverLocalHeuristic(state, manhattan_squared_heuristic))\n",
        "    end_time = time.time()\n",
        "    times[\"local_m2\"].append(end_time - start_time)\n",
        "    depths[\"local_m2\"].append(n.depth)\n",
        "\n",
        "    start_time = time.time()\n",
        "    n = solve(SolverWeightHeuristic(state, manhattan_squared_heuristic, 0.5))\n",
        "    end_time = time.time()\n",
        "    times[\"star_m2\"].append(end_time - start_time)\n",
        "    depths[\"star_m2\"].append(n.depth)\n",
        "\n",
        "    print(\"\", \"Correctness\", \"\")\n",
        "\n",
        "    start_time = time.time()\n",
        "    n = solve(SolverGlobalHeuristic(state, correctnes_heuristic))\n",
        "    end_time = time.time()\n",
        "    times[\"global_c\"].append(end_time - start_time)\n",
        "    depths[\"global_c\"].append(n.depth)\n",
        "\n",
        "    start_time = time.time()\n",
        "    n = solve(SolverLocalHeuristic(state, correctnes_heuristic))\n",
        "    end_time = time.time()\n",
        "    times[\"local_c\"].append(end_time - start_time)\n",
        "    depths[\"local_c\"].append(n.depth)\n",
        "\n",
        "    start_time = time.time()\n",
        "    n = solve(SolverWeightHeuristic(state, correctnes_heuristic, 0.5))\n",
        "    end_time = time.time()\n",
        "    times[\"star_c\"].append(end_time - start_time)\n",
        "    depths[\"star_c\"].append(n.depth)"
      ],
      "metadata": {
        "id": "Ps_MtfP1Y6q8"
      },
      "execution_count": null,
      "outputs": []
    },
    {
      "cell_type": "code",
      "source": [
        "print(times)\n",
        "print(depths)"
      ],
      "metadata": {
        "colab": {
          "base_uri": "https://localhost:8080/"
        },
        "id": "VRpS7MkIwxGo",
        "outputId": "7e6d6fd9-7748-4b6a-f16f-d7bdc831d6cf"
      },
      "execution_count": 191,
      "outputs": [
        {
          "output_type": "stream",
          "name": "stdout",
          "text": [
            "{'bpp': [22.32583451271057, 20.539747714996338, 21.542377948760986, 17.787994861602783, 22.045504093170166, 18.513601541519165, 20.482506036758423, 19.275212049484253, 18.019880056381226, 19.08393931388855, 14.566848278045654, 22.396750926971436, 23.406221628189087, 19.792226314544678, 23.160140991210938, 23.8600594997406, 28.353392839431763, 18.74951481819153, 16.189167976379395, 9.405324220657349, 1.0011985301971436, 14.029363632202148, 21.218427181243896, 18.418407201766968, 15.747478723526001, 20.763107299804688, 17.029484510421753, 20.075464963912964, 10.44753360748291, 27.20359444618225, 12.279948949813843, 14.376341104507446, 19.834684133529663, 22.232869386672974, 16.66327929496765, 20.083414554595947, 25.755496501922607, 17.85313868522644, 24.337697505950928, 21.41167449951172, 20.446552276611328, 11.483887434005737, 20.59115719795227, 25.207360982894897, 18.247682571411133, 21.49602246284485, 25.493441820144653, 16.18496060371399, 16.483742475509644, 19.15613865852356, 18.595420837402344, 8.887557983398438, 17.183885097503662, 5.541960716247559, 14.94311261177063, 17.556823015213013, 18.503241062164307, 18.20371699333191, 5.848278760910034, 14.245457649230957, 16.002959489822388, 15.854312658309937, 14.404385805130005, 11.63762879371643, 19.474453926086426, 21.710545301437378, 17.729512929916382, 12.785370349884033, 17.93992042541504, 20.905149221420288, 13.651232719421387, 12.638561725616455, 14.568790197372437, 22.110466957092285, 16.314231157302856, 19.056267023086548, 20.0979905128479, 15.167109966278076, 8.07308554649353, 16.659651279449463, 17.902536630630493, 17.563793897628784, 17.692681550979614, 17.027309894561768, 18.550833463668823, 17.176450729370117, 17.907716989517212, 12.560935020446777, 17.871376276016235, 21.76480984687805, 12.459806442260742, 17.540613174438477, 18.43714952468872, 17.40391254425049, 15.891555786132812, 23.137985229492188, 17.1069917678833, 19.334691524505615, 16.1361882686615, 9.216056108474731, 14.981831789016724, 5.269827365875244, 17.466891050338745], 'bpa': [23.618674278259277, 2.9922618865966797, 18.483099222183228, 34.56344413757324, 44.78534245491028, 33.28125762939453, 42.98843479156494, 23.72173571586609, 39.66427230834961, 16.360487699508667, 2.7486910820007324, 27.477646589279175, 29.871706008911133, 14.528578519821167, 37.17401123046875, 29.667643070220947, 29.599334955215454, 44.57325530052185, 7.876152276992798, 7.6623687744140625, 24.443865299224854, 40.312973976135254, 38.63978862762451, 29.791071891784668, 11.479923725128174, 46.593310594558716, 23.257808446884155, 22.920502424240112, 29.006410121917725, 0.2265627384185791, 44.40449643135071, 22.391217947006226, 19.354430437088013, 26.31336236000061, 28.51556944847107, 46.57778024673462, 1.9218058586120605, 22.94426417350769, 53.735129833221436, 34.913251876831055, 28.214598655700684, 5.680801153182983, 31.43167519569397, 0.3938302993774414, 14.408876657485962, 43.10059094429016, 53.32210326194763, 15.762455701828003, 3.4834046363830566, 32.68414235115051, 21.847310781478882, 32.816298961639404, 16.55350160598755, 23.36025834083557, 32.26328635215759, 37.356279134750366, 0.13571619987487793, 11.228758096694946, 9.15742301940918, 18.508870601654053, 25.92424488067627, 33.38692021369934, 17.183117151260376, 4.713759899139404, 13.187721252441406, 43.44003868103027, 3.055983781814575, 6.8230671882629395, 29.023808479309082, 19.62679386138916, 14.564219951629639, 21.626363277435303, 13.745776891708374, 6.882163047790527, 7.45923638343811, 26.89535665512085, 1.6653189659118652, 19.74591326713562, 12.662200450897217, 2.604454278945923, 5.605015277862549, 20.1855890750885, 42.72604155540466, 3.8506805896759033, 6.71671986579895, 17.110220670700073, 24.612257480621338, 13.902509450912476, 2.286569356918335, 26.354886770248413, 1.026453971862793, 32.609267234802246, 11.216485977172852, 6.226954460144043, 4.272480010986328, 37.63589572906494, 16.94506025314331, 22.917389154434204, 5.5293967723846436, 3.4589433670043945, 13.986561059951782, 9.31533145904541, 4.529737234115601], 'bppv': [18.71673560142517, 18.372486114501953, 14.289278030395508, 23.526884078979492, 28.533191680908203, 30.579955339431763, 24.721739053726196, 10.463006734848022, 27.19912815093994, 13.360111951828003, 9.924283266067505, 18.163179397583008, 32.72334551811218, 15.358528137207031, 22.105807065963745, 34.4567813873291, 24.61919617652893, 22.678714752197266, 15.004565238952637, 15.68168830871582, 11.62815546989441, 23.021437406539917, 21.08309054374695, 26.127870082855225, 13.712174654006958, 25.195059537887573, 4.86605429649353, 5.004607439041138, 34.52385663986206, 0.6610288619995117, 21.458500146865845, 8.648007154464722, 4.178346157073975, 22.44462251663208, 18.970515489578247, 22.380338191986084, 0.7279200553894043, 8.286635637283325, 33.78969073295593, 23.749294996261597, 20.306154251098633, 5.2683961391448975, 20.414288997650146, 0.7228052616119385, 15.076877117156982, 24.69676160812378, 23.653277158737183, 16.826621532440186, 7.457467555999756, 17.74828004837036, 22.53854513168335, 18.89312195777893, 16.72433090209961, 24.690696954727173, 17.663000345230103, 16.083513259887695, 0.04842400550842285, 8.787723779678345, 6.203414678573608, 4.23528790473938, 19.082088708877563, 25.558350801467896, 16.253206729888916, 16.91253399848938, 2.3698854446411133, 22.2580304145813, 8.829467296600342, 6.747183799743652, 29.441306114196777, 11.609063863754272, 12.105107069015503, 12.737222909927368, 15.11190676689148, 12.785592794418335, 3.3911681175231934, 24.55937910079956, 0.4301753044128418, 8.754919052124023, 13.757846117019653, 9.610038995742798, 9.62415099143982, 8.281640768051147, 24.70233988761902, 7.833781719207764, 8.300087690353394, 11.127575159072876, 25.52483606338501, 10.01043701171875, 10.443159103393555, 22.66618061065674, 1.0128204822540283, 20.236117362976074, 6.242856502532959, 5.185708045959473, 5.1126790046691895, 18.0437228679657, 16.702998399734497, 19.444655179977417, 7.614954471588135, 6.789121389389038, 14.128310680389404, 10.762553691864014, 7.214413404464722], 'global_m': [0.06065559387207031, 0.04136919975280762, 0.07108616828918457, 0.03686237335205078, 0.06560587882995605, 0.0097808837890625, 0.07128381729125977, 0.05821943283081055, 0.08941841125488281, 0.009279012680053711, 1.485485315322876, 0.04277467727661133, 0.04325103759765625, 0.006738901138305664, 0.07300496101379395, 0.05045747756958008, 0.0850975513458252, 0.09409499168395996, 0.03321027755737305, 0.07700586318969727, 0.04563450813293457, 0.09419965744018555, 0.030991792678833008, 0.023515701293945312, 0.04394674301147461, 0.07698988914489746, 0.03609609603881836, 0.02893805503845215, 0.08058857917785645, 0.06424903869628906, 0.06577491760253906, 1.9808402061462402, 0.02875232696533203, 0.05468034744262695, 0.08675694465637207, 0.03703022003173828, 0.02639317512512207, 0.12035012245178223, 0.04590344429016113, 0.0456843376159668, 0.041121482849121094, 0.0676414966583252, 0.0756528377532959, 0.012477874755859375, 0.03188180923461914, 0.043927669525146484, 0.0530095100402832, 0.06659746170043945, 0.08605384826660156, 0.08066892623901367, 0.033707380294799805, 0.043488264083862305, 0.05626392364501953, 0.0974431037902832, 0.038166046142578125, 0.03451180458068848, 0.06046438217163086, 0.029791593551635742, 0.10690712928771973, 0.010408639907836914, 0.0817720890045166, 0.05909228324890137, 0.06859946250915527, 0.01933145523071289, 0.03261065483093262, 0.026713132858276367, 0.04567384719848633, 0.06894087791442871, 0.08040666580200195, 0.06941413879394531, 0.03724312782287598, 0.10274791717529297, 0.03632712364196777, 0.0063304901123046875, 0.02717280387878418, 0.02352738380432129, 0.031650543212890625, 0.008259296417236328, 0.043471336364746094, 0.01897287368774414, 0.0529935359954834, 0.037689924240112305, 0.015423774719238281, 0.08481669425964355, 0.03531169891357422, 0.03604269027709961, 0.045044898986816406, 0.04442477226257324, 0.039179325103759766, 0.03288435935974121, 0.019189119338989258, 0.055045127868652344, 0.11554884910583496, 0.050820112228393555, 0.07008886337280273, 0.032428741455078125, 0.02782607078552246, 0.10201621055603027, 0.009119749069213867, 0.05177664756774902, 0.09766006469726562, 0.032746315002441406, 0.02866959571838379], 'global_m2': [0.02322530746459961, 0.07163572311401367, 0.04209542274475098, 0.05123543739318848, 0.057550907135009766, 0.03066873550415039, 0.0610194206237793, 0.012376785278320312, 0.0693209171295166, 0.06569910049438477, 0.014312028884887695, 0.028284072875976562, 0.04590749740600586, 0.04679298400878906, 0.07359957695007324, 0.04707932472229004, 0.10187840461730957, 0.013997316360473633, 0.006080150604248047, 0.05349874496459961, 0.006055593490600586, 0.06254887580871582, 0.03200340270996094, 0.028853654861450195, 0.04713726043701172, 0.08086156845092773, 0.0954277515411377, 0.02799224853515625, 0.0818948745727539, 0.010703086853027344, 0.0437469482421875, 0.011339187622070312, 0.061444759368896484, 0.07247209548950195, 0.06900858879089355, 0.06539416313171387, 0.06564807891845703, 0.01833653450012207, 0.0804443359375, 0.05588674545288086, 0.012344598770141602, 0.03906822204589844, 0.07051682472229004, 0.003587961196899414, 0.007590055465698242, 0.08713936805725098, 0.06345725059509277, 0.0962979793548584, 0.046378135681152344, 0.04593539237976074, 0.034476280212402344, 0.10773944854736328, 0.08546805381774902, 0.05731916427612305, 0.02232837677001953, 0.07115364074707031, 0.08509278297424316, 0.0051555633544921875, 0.006570577621459961, 0.015719890594482422, 0.07031035423278809, 0.028277873992919922, 0.04797983169555664, 0.07169294357299805, 0.022809982299804688, 0.06737685203552246, 0.006577968597412109, 0.05731844902038574, 0.07699871063232422, 0.0408167839050293, 0.05326271057128906, 0.027425765991210938, 0.04648947715759277, 0.010920047760009766, 0.057868242263793945, 0.03718852996826172, 0.030092716217041016, 0.06313490867614746, 0.052303314208984375, 0.05784416198730469, 0.005126953125, 0.09075260162353516, 0.02426457405090332, 0.02420353889465332, 0.07070422172546387, 0.015564203262329102, 0.04993772506713867, 0.11393404006958008, 0.03352236747741699, 0.07319378852844238, 0.03835654258728027, 0.037697553634643555, 0.05901360511779785, 0.03011322021484375, 0.09044885635375977, 0.057929039001464844, 0.012563705444335938, 0.015642166137695312, 0.084228515625, 0.029090404510498047, 0.016066789627075195, 0.052295684814453125, 0.02320718765258789], 'global_c': [0.15075373649597168, 0.10231995582580566, 0.017745018005371094, 0.07348108291625977, 0.06372523307800293, 0.1506638526916504, 0.08929061889648438, 0.12953901290893555, 0.13677358627319336, 0.1325361728668213, 0.04945993423461914, 0.22279715538024902, 0.05780482292175293, 0.022265195846557617, 0.10307693481445312, 0.24163150787353516, 0.1164088249206543, 0.08912324905395508, 0.029410839080810547, 0.14677691459655762, 0.05269479751586914, 0.09909367561340332, 0.08876824378967285, 0.09168696403503418, 0.07325291633605957, 0.08344817161560059, 0.09409379959106445, 0.20203804969787598, 0.1224968433380127, 0.0816793441772461, 0.3634626865386963, 0.11675882339477539, 0.1784670352935791, 0.37917399406433105, 0.1976940631866455, 0.1523890495300293, 0.15414166450500488, 0.12369942665100098, 0.03953099250793457, 0.18472528457641602, 0.06828570365905762, 0.15602636337280273, 3.327589988708496, 0.011724710464477539, 0.04418468475341797, 0.1423630714416504, 0.2709052562713623, 0.11593818664550781, 0.12443923950195312, 0.09273481369018555, 0.1799309253692627, 0.18631911277770996, 0.14164400100708008, 0.11217355728149414, 0.05200910568237305, 0.15365266799926758, 0.17100834846496582, 0.12285542488098145, 0.21410417556762695, 0.08315300941467285, 0.19693732261657715, 0.27629613876342773, 0.0642249584197998, 0.27503204345703125, 0.019129276275634766, 0.1091451644897461, 0.09479570388793945, 0.06737208366394043, 0.05637097358703613, 0.038167715072631836, 0.15944957733154297, 0.09366917610168457, 0.33390212059020996, 0.015839099884033203, 0.26691532135009766, 0.18228459358215332, 0.10270929336547852, 0.08389472961425781, 0.13594627380371094, 0.09307742118835449, 0.20026063919067383, 0.1977076530456543, 0.25598812103271484, 0.12790846824645996, 0.21557068824768066, 0.23996210098266602, 0.4055039882659912, 0.2744419574737549, 0.05341053009033203, 0.15349125862121582, 0.126173734664917, 0.12584447860717773, 0.10844779014587402, 0.15895867347717285, 0.1978282928466797, 0.13094878196716309, 0.11075782775878906, 0.18312692642211914, 0.030442237854003906, 0.11699151992797852, 0.10815215110778809, 0.18322038650512695, 0.10282421112060547], 'local_m': [0.03583526611328125, 0.02469038963317871, 0.18995118141174316, 0.008650541305541992, 0.014748573303222656, 0.10034847259521484, 0.02049112319946289, 0.13929390907287598, 0.1506187915802002, 0.03269076347351074, 0.006073951721191406, 0.2688913345336914, 0.10072803497314453, 0.04988288879394531, 0.1446671485900879, 0.029906272888183594, 0.10470175743103027, 0.02276611328125, 0.14122343063354492, 0.1946735382080078, 0.09389829635620117, 0.06725597381591797, 0.04518890380859375, 0.03986668586730957, 0.0032401084899902344, 0.01802515983581543, 0.034223079681396484, 0.010540246963500977, 0.02217841148376465, 0.1260373592376709, 0.02301931381225586, 0.06792664527893066, 0.010743379592895508, 0.19528627395629883, 0.12749981880187988, 0.08738017082214355, 0.018756389617919922, 0.045121192932128906, 0.10323786735534668, 0.07964205741882324, 0.04231548309326172, 0.025580883026123047, 0.0912168025970459, 0.011520624160766602, 0.18683218955993652, 0.2760741710662842, 0.024863243103027344, 0.10276961326599121, 0.08185791969299316, 0.06888961791992188, 0.019347429275512695, 0.01419210433959961, 0.04728055000305176, 0.04373884201049805, 0.10053348541259766, 0.047454833984375, 0.05572676658630371, 0.2003176212310791, 0.2605726718902588, 0.014404296875, 0.10009407997131348, 0.008814096450805664, 0.09421730041503906, 0.006294727325439453, 0.006281137466430664, 0.010717630386352539, 0.020097017288208008, 0.03269219398498535, 0.023154020309448242, 0.06614089012145996, 0.023731231689453125, 0.15288519859313965, 0.04425406455993652, 0.01163792610168457, 0.047911643981933594, 0.04404282569885254, 0.14632821083068848, 0.26062798500061035, 0.04661846160888672, 0.05756640434265137, 0.05035686492919922, 0.055941104888916016, 0.03795218467712402, 0.05416369438171387, 0.016646862030029297, 0.048310279846191406, 0.047547101974487305, 0.0532379150390625, 0.06061720848083496, 0.09009599685668945, 0.006798982620239258, 0.03700685501098633, 0.018275976181030273, 0.04102683067321777, 0.28479528427124023, 0.08878779411315918, 0.04835963249206543, 0.0574183464050293, 0.05807328224182129, 0.021424055099487305, 0.07447957992553711, 0.1430971622467041, 0.009227991104125977], 'local_m2': [0.01165628433227539, 0.041521549224853516, 0.010550498962402344, 0.008734464645385742, 0.014105796813964844, 0.021251201629638672, 0.0467066764831543, 0.01639413833618164, 0.1274094581604004, 0.1101386547088623, 0.24903535842895508, 0.0998685359954834, 0.017603158950805664, 0.017786502838134766, 0.05145835876464844, 0.11747026443481445, 0.2117307186126709, 0.12717461585998535, 0.06270980834960938, 0.036295175552368164, 0.03982067108154297, 0.2852611541748047, 0.014089345932006836, 0.014687299728393555, 0.006849527359008789, 0.007626056671142578, 0.18825888633728027, 0.06646347045898438, 0.06980323791503906, 0.0159604549407959, 0.1358044147491455, 0.08249068260192871, 0.05908083915710449, 0.01596856117248535, 0.04913663864135742, 0.01364755630493164, 0.1314082145690918, 0.010537385940551758, 0.0948030948638916, 0.028900861740112305, 0.024660825729370117, 0.0047643184661865234, 0.1292741298675537, 0.0032308101654052734, 0.09775948524475098, 0.0502467155456543, 0.05809593200683594, 0.08709001541137695, 0.0632333755493164, 0.01507711410522461, 0.17091822624206543, 0.013893604278564453, 0.017948150634765625, 0.03362464904785156, 0.010395050048828125, 0.10833930969238281, 0.19129538536071777, 0.06003832817077637, 0.03491067886352539, 0.03676795959472656, 0.07398509979248047, 0.0371396541595459, 0.03712129592895508, 0.06317400932312012, 0.21278667449951172, 0.1808762550354004, 0.04552936553955078, 0.017940759658813477, 0.03703784942626953, 0.0794677734375, 0.027769804000854492, 0.04052877426147461, 0.016877174377441406, 0.031249046325683594, 0.03649759292602539, 0.015154838562011719, 0.005439281463623047, 0.017456769943237305, 0.16180825233459473, 0.08543181419372559, 0.01416015625, 0.11266803741455078, 0.0699758529663086, 0.016124963760375977, 0.1234889030456543, 0.02138662338256836, 0.010016441345214844, 0.06671142578125, 0.020348072052001953, 0.024470090866088867, 0.0020499229431152344, 0.10651373863220215, 0.07181334495544434, 0.1708211898803711, 0.013384819030761719, 0.01961803436279297, 0.06944727897644043, 0.018896818161010742, 0.011673212051391602, 0.04915666580200195, 0.01769113540649414, 0.016367197036743164, 0.13923430442810059], 'local_c': [0.44339919090270996, 0.13114285469055176, 0.343522310256958, 0.6674697399139404, 0.5049376487731934, 0.27500033378601074, 0.04421830177307129, 0.06660032272338867, 0.03104090690612793, 0.011649370193481445, 0.21811652183532715, 0.22257661819458008, 0.38977599143981934, 0.3904690742492676, 0.12053442001342773, 0.0387721061706543, 0.433837890625, 0.4371225833892822, 0.018199682235717773, 0.06137728691101074, 0.44089818000793457, 0.558490514755249, 0.445767879486084, 0.005191326141357422, 0.30805492401123047, 0.018820524215698242, 0.009829282760620117, 0.1782214641571045, 0.03289914131164551, 0.06715178489685059, 0.26445865631103516, 0.24236416816711426, 0.2815582752227783, 0.015260457992553711, 0.12279677391052246, 0.3580794334411621, 0.5309278964996338, 0.5020394325256348, 0.09870624542236328, 0.33667922019958496, 0.05370044708251953, 0.4451127052307129, 0.19332671165466309, 0.2390577793121338, 0.05084872245788574, 0.15184426307678223, 0.09224367141723633, 0.18950438499450684, 0.11757683753967285, 0.018351078033447266, 0.20757818222045898, 0.5708959102630615, 0.2775237560272217, 0.2966582775115967, 0.2826240062713623, 0.45256733894348145, 0.6882350444793701, 0.7726163864135742, 0.129638671875, 0.17661809921264648, 0.18060016632080078, 0.18925189971923828, 0.14060020446777344, 0.11453747749328613, 0.011695384979248047, 0.02130913734436035, 0.4175453186035156, 0.5752055644989014, 0.19694805145263672, 0.10578393936157227, 0.19062185287475586, 0.016743183135986328, 0.13594937324523926, 0.14830350875854492, 0.466214656829834, 0.05005455017089844, 0.46187925338745117, 0.18789124488830566, 0.03681302070617676, 0.010948657989501953, 0.21163415908813477, 0.6493337154388428, 0.5267024040222168, 0.07027268409729004, 0.12921595573425293, 0.47557902336120605, 0.9231133460998535, 0.5779240131378174, 0.38926100730895996, 0.20139312744140625, 1.7709486484527588, 0.09788846969604492, 0.43535780906677246, 0.28594350814819336, 0.1746993064880371, 0.1852254867553711, 0.06628751754760742, 0.2042405605316162, 0.628472089767456, 0.21227312088012695, 0.13040947914123535, 0.009937524795532227, 0.04281902313232422], 'star_m': [0.45102715492248535, 0.0731508731842041, 0.32233595848083496, 1.1352696418762207, 1.5070161819458008, 0.3253498077392578, 1.4283370971679688, 0.603696346282959, 1.1225416660308838, 0.23966574668884277, 0.09105730056762695, 0.3367605209350586, 0.887387752532959, 0.2930183410644531, 0.8291134834289551, 1.0379674434661865, 0.8990404605865479, 1.8860838413238525, 0.10020279884338379, 0.1851961612701416, 0.7162933349609375, 0.4406602382659912, 1.4293208122253418, 0.5375504493713379, 0.12062311172485352, 0.8573307991027832, 0.7092118263244629, 0.613227128982544, 1.0895659923553467, 0.02397012710571289, 1.0483801364898682, 0.354337215423584, 0.48664045333862305, 0.620201587677002, 0.47278881072998047, 1.209275722503662, 0.06552004814147949, 0.440418004989624, 3.0775821208953857, 0.43338489532470703, 0.44026637077331543, 0.07003355026245117, 1.0684711933135986, 0.005445003509521484, 0.4115126132965088, 5.826586961746216, 4.037504196166992, 0.3578219413757324, 0.14330601692199707, 1.0842602252960205, 0.7913081645965576, 0.886760950088501, 0.31580114364624023, 4.841064453125, 0.845036506652832, 1.1703994274139404, 0.009952306747436523, 0.1822049617767334, 0.30763769149780273, 0.8576614856719971, 0.49701476097106934, 0.9734859466552734, 0.42900896072387695, 0.023016691207885742, 0.22247672080993652, 1.2313306331634521, 0.09637308120727539, 0.17866802215576172, 0.5029010772705078, 0.6633055210113525, 0.11646151542663574, 0.5252141952514648, 0.2810530662536621, 0.22915315628051758, 0.10889410972595215, 0.4727969169616699, 0.05050158500671387, 0.4900360107421875, 0.18056941032409668, 0.04453849792480469, 0.0460813045501709, 0.2461719512939453, 1.9035546779632568, 0.05206418037414551, 0.20999932289123535, 0.2047736644744873, 0.498821496963501, 0.3126099109649658, 0.09767794609069824, 0.4331851005554199, 0.022876739501953125, 1.4988811016082764, 0.3810281753540039, 0.03505825996398926, 0.08582663536071777, 1.6737799644470215, 0.19030499458312988, 0.4330170154571533, 0.22564291954040527, 0.03110337257385254, 0.3100087642669678, 0.14652347564697266, 0.17325854301452637], 'star_m2': [0.02405858039855957, 0.005606412887573242, 0.11456155776977539, 0.14008307456970215, 0.16070008277893066, 0.03168320655822754, 0.059024810791015625, 0.03171133995056152, 0.06013298034667969, 0.2544679641723633, 0.014555931091308594, 0.03979825973510742, 0.03873419761657715, 0.01934027671813965, 0.06415200233459473, 0.09243297576904297, 0.12234997749328613, 0.1469435691833496, 0.00860595703125, 0.022588491439819336, 0.02670598030090332, 0.027096271514892578, 0.0670931339263916, 0.06964635848999023, 0.08924245834350586, 0.39557743072509766, 0.04999995231628418, 0.015846729278564453, 0.03912353515625, 0.002269744873046875, 0.05205416679382324, 0.05459451675415039, 0.013446331024169922, 0.014595985412597656, 0.051894187927246094, 0.2770981788635254, 0.06543874740600586, 0.01805424690246582, 0.2869699001312256, 0.033280134201049805, 0.03612923622131348, 0.03903079032897949, 0.08038091659545898, 0.0033080577850341797, 0.03511786460876465, 0.0393221378326416, 0.07485198974609375, 0.07143449783325195, 0.06982588768005371, 0.28862524032592773, 0.03579401969909668, 0.0503847599029541, 0.025522947311401367, 0.05988168716430664, 0.07569193840026855, 0.023291587829589844, 0.008632421493530273, 0.06895947456359863, 0.005793333053588867, 0.05640387535095215, 0.07709002494812012, 0.031176090240478516, 0.015366315841674805, 0.03792858123779297, 0.14404511451721191, 0.10979080200195312, 0.03094792366027832, 0.03854060173034668, 0.05748438835144043, 0.02915787696838379, 0.011082887649536133, 0.05889701843261719, 0.020659208297729492, 0.029302358627319336, 0.13135147094726562, 0.06408500671386719, 0.0733489990234375, 0.008687257766723633, 0.07776975631713867, 0.11007571220397949, 0.002755403518676758, 0.022536277770996094, 0.05708909034729004, 0.09544181823730469, 0.01580071449279785, 0.009077310562133789, 0.013134241104125977, 0.025142431259155273, 0.0072023868560791016, 0.04928183555603027, 0.004014492034912109, 0.12202191352844238, 0.12474489212036133, 0.1135704517364502, 0.06069326400756836, 0.019491910934448242, 0.04901909828186035, 0.13252973556518555, 0.0490725040435791, 0.013220071792602539, 0.16063547134399414, 0.1261148452758789, 0.06417655944824219], 'star_c': [1.25250244140625, 2.1306633949279785, 1.1728489398956299, 4.061286687850952, 8.417400121688843, 3.7383177280426025, 8.451624155044556, 5.744485378265381, 10.486375570297241, 1.339101791381836, 0.21245145797729492, 2.5794243812561035, 7.065130233764648, 0.9120514392852783, 6.068691730499268, 4.127431392669678, 3.33874249458313, 7.593409538269043, 0.5233588218688965, 0.5367431640625, 2.350287437438965, 9.617221117019653, 6.5159196853637695, 3.4793787002563477, 0.5955533981323242, 14.189321041107178, 5.687703371047974, 2.290576219558716, 4.071304798126221, 0.026027202606201172, 5.751404047012329, 2.945558547973633, 1.7047600746154785, 3.286543607711792, 2.634481191635132, 6.937457799911499, 0.17516183853149414, 2.367521047592163, 22.54378604888916, 7.478188991546631, 1.9144599437713623, 0.26667022705078125, 3.81017804145813, 0.025571107864379883, 1.1163444519042969, 9.353569746017456, 21.50389790534973, 1.462937831878662, 0.2465510368347168, 8.284664392471313, 2.882298231124878, 4.861981391906738, 1.2311069965362549, 2.697005033493042, 9.101065874099731, 6.652984142303467, 0.011435270309448242, 0.6927101612091064, 3.263378858566284, 2.630889654159546, 2.3291866779327393, 8.872679471969604, 1.4165449142456055, 0.15983247756958008, 3.837610960006714, 11.199471473693848, 0.33583521842956543, 0.5782840251922607, 3.2353568077087402, 1.577934980392456, 1.2205729484558105, 2.2971713542938232, 1.0268850326538086, 0.8183262348175049, 0.6016554832458496, 3.4430766105651855, 0.1873466968536377, 4.988866329193115, 0.9846386909484863, 0.24132370948791504, 0.31057024002075195, 1.7892420291900635, 10.899188756942749, 0.20743942260742188, 0.6458065509796143, 1.4414472579956055, 2.8491013050079346, 3.725618600845337, 0.13521051406860352, 2.8927595615386963, 0.05422472953796387, 5.643193960189819, 1.0383260250091553, 0.4582817554473877, 0.15135455131530762, 5.664640426635742, 1.4254076480865479, 2.7585182189941406, 0.40346384048461914, 0.24225568771362305, 3.5508310794830322, 0.7988462448120117, 0.42974042892456055]}\n",
            "{'bpp': [74406, 84400, 77882, 113232, 81618, 106574, 97584, 97869, 113635, 113302, 112820, 90689, 47262, 88911, 75781, 68442, 30262, 110538, 108369, 60551, 9119, 99459, 97705, 104292, 114348, 93362, 110137, 72431, 63242, 40520, 78143, 114461, 87138, 94870, 113439, 89925, 51683, 113607, 62144, 64940, 106453, 81380, 90468, 47711, 114341, 93610, 60828, 114546, 85488, 50413, 100530, 66329, 96080, 61876, 112975, 114616, 90057, 61043, 56475, 109511, 95657, 109519, 114454, 89112, 48004, 65333, 92928, 108836, 97806, 38479, 114298, 108683, 113755, 33664, 100911, 75720, 81925, 87563, 58909, 106382, 69589, 93873, 94551, 71858, 48562, 63644, 95476, 113056, 91616, 50026, 100276, 84805, 69369, 87627, 110426, 33346, 103920, 72228, 74359, 81862, 110093, 36648, 82355], 'bpa': [22, 18, 22, 24, 26, 24, 26, 23, 25, 22, 18, 23, 24, 21, 25, 24, 24, 26, 19, 19, 23, 25, 25, 24, 20, 26, 23, 23, 24, 12, 25, 23, 22, 24, 23, 25, 17, 23, 28, 24, 23, 18, 24, 13, 21, 26, 28, 22, 18, 25, 24, 25, 22, 24, 25, 26, 11, 21, 21, 23, 23, 25, 22, 18, 22, 27, 18, 20, 24, 23, 22, 23, 21, 20, 19, 24, 17, 23, 21, 18, 19, 23, 27, 18, 20, 22, 24, 22, 18, 24, 16, 25, 21, 19, 18, 26, 22, 24, 19, 18, 21, 20, 19], 'bppv': [22, 22, 22, 26, 26, 28, 28, 23, 25, 22, 18, 23, 24, 23, 25, 24, 28, 28, 23, 23, 23, 29, 27, 24, 22, 26, 23, 23, 24, 12, 27, 23, 22, 26, 23, 29, 17, 23, 28, 26, 23, 18, 28, 17, 23, 28, 28, 22, 18, 27, 26, 29, 22, 24, 27, 28, 11, 23, 21, 23, 23, 25, 22, 18, 22, 29, 22, 22, 24, 23, 22, 23, 23, 22, 23, 28, 17, 23, 21, 22, 21, 23, 29, 18, 20, 22, 28, 22, 18, 28, 16, 29, 23, 19, 18, 28, 22, 28, 23, 18, 23, 22, 21], 'global_m': [34, 44, 48, 38, 62, 28, 68, 49, 47, 26, 50, 61, 48, 23, 49, 46, 62, 72, 45, 45, 35, 63, 53, 32, 66, 78, 57, 37, 36, 36, 69, 57, 62, 46, 63, 53, 41, 67, 80, 62, 39, 38, 48, 29, 31, 34, 48, 54, 52, 41, 44, 59, 48, 48, 45, 70, 43, 39, 69, 23, 59, 61, 60, 46, 34, 63, 34, 56, 66, 49, 48, 53, 49, 26, 41, 52, 37, 23, 65, 46, 73, 75, 45, 64, 48, 40, 50, 48, 52, 44, 46, 51, 43, 63, 58, 38, 44, 52, 25, 54, 41, 48, 27], 'global_m2': [42, 58, 78, 50, 60, 42, 76, 31, 59, 62, 28, 57, 74, 53, 57, 94, 100, 54, 19, 31, 29, 63, 53, 60, 60, 114, 99, 29, 88, 12, 47, 45, 74, 76, 75, 71, 43, 43, 88, 66, 47, 46, 60, 13, 21, 92, 64, 86, 36, 65, 44, 111, 86, 48, 45, 64, 81, 29, 25, 35, 49, 71, 102, 86, 32, 55, 26, 58, 110, 89, 58, 55, 37, 26, 41, 60, 35, 67, 53, 48, 19, 93, 33, 32, 48, 40, 62, 116, 48, 82, 46, 69, 55, 61, 96, 66, 44, 36, 87, 44, 33, 56, 35], 'global_c': [48, 50, 34, 40, 50, 56, 58, 53, 75, 68, 28, 45, 44, 23, 37, 80, 58, 38, 19, 55, 75, 65, 41, 80, 30, 60, 41, 55, 32, 32, 83, 57, 60, 78, 59, 53, 43, 57, 42, 60, 45, 42, 76, 23, 47, 38, 74, 38, 44, 63, 54, 45, 54, 50, 65, 54, 31, 51, 71, 37, 55, 79, 48, 70, 30, 49, 42, 44, 70, 51, 42, 57, 77, 26, 59, 62, 29, 35, 59, 44, 57, 83, 61, 42, 50, 58, 82, 48, 38, 60, 46, 45, 59, 51, 58, 46, 60, 48, 19, 54, 67, 84, 61], 'local_m': [294, 108, 814, 36, 62, 320, 90, 619, 633, 130, 24, 1353, 570, 213, 607, 246, 546, 92, 577, 779, 399, 303, 391, 164, 28, 136, 273, 69, 96, 480, 101, 593, 96, 864, 535, 359, 81, 199, 430, 356, 185, 104, 380, 101, 1129, 1188, 192, 440, 320, 295, 104, 63, 206, 194, 809, 208, 217, 1177, 1185, 131, 443, 75, 412, 56, 54, 93, 166, 182, 100, 279, 156, 639, 185, 94, 381, 374, 793, 1253, 395, 492, 289, 385, 323, 234, 74, 398, 312, 230, 340, 762, 60, 159, 77, 347, 1204, 404, 430, 304, 259, 86, 549, 730, 75], 'local_m2': [48, 174, 92, 36, 60, 92, 200, 67, 529, 534, 954, 383, 152, 77, 191, 564, 870, 864, 245, 153, 297, 1137, 113, 120, 28, 62, 759, 269, 564, 122, 483, 681, 248, 70, 209, 59, 537, 45, 386, 118, 187, 18, 532, 13, 413, 220, 220, 340, 272, 105, 714, 55, 70, 140, 87, 580, 753, 505, 279, 155, 471, 227, 312, 256, 864, 763, 200, 76, 324, 653, 114, 333, 67, 130, 149, 108, 47, 69, 699, 362, 61, 461, 289, 72, 510, 178, 44, 266, 168, 102, 16, 705, 307, 789, 58, 86, 568, 76, 51, 220, 75, 58, 685], 'local_c': [2246, 674, 1800, 3514, 3070, 1404, 444, 349, 159, 134, 1508, 1527, 2332, 2119, 1205, 216, 2450, 2906, 93, 325, 3347, 2805, 2287, 54, 1904, 210, 53, 1279, 296, 340, 1895, 1265, 1550, 64, 671, 1889, 2877, 3133, 1152, 2330, 281, 2376, 1014, 1139, 279, 1506, 1040, 998, 1050, 133, 1430, 3119, 2086, 3158, 1785, 2450, 3473, 5053, 695, 1017, 1085, 1047, 746, 810, 60, 119, 2220, 3142, 1068, 1153, 1046, 193, 725, 754, 2347, 286, 3161, 931, 191, 58, 1089, 4619, 2727, 398, 1242, 2470, 5380, 3010, 3434, 1090, 2436, 935, 2259, 1497, 1066, 1038, 404, 1920, 4259, 1112, 701, 54, 209], 'star_m': [22, 18, 22, 24, 26, 24, 26, 23, 25, 22, 18, 23, 24, 21, 25, 24, 24, 26, 19, 19, 23, 25, 25, 24, 20, 26, 23, 23, 24, 12, 25, 23, 22, 24, 23, 25, 17, 23, 28, 24, 23, 18, 24, 13, 21, 26, 28, 22, 18, 25, 24, 25, 22, 24, 25, 26, 11, 21, 21, 23, 23, 25, 22, 18, 22, 27, 18, 20, 24, 23, 22, 23, 21, 20, 19, 24, 17, 23, 21, 18, 19, 23, 27, 18, 20, 22, 24, 22, 18, 24, 16, 25, 21, 19, 18, 26, 22, 24, 19, 18, 21, 20, 19], 'star_m2': [24, 20, 26, 26, 30, 34, 34, 27, 31, 34, 18, 23, 30, 23, 35, 26, 24, 34, 19, 19, 23, 35, 25, 34, 30, 38, 27, 23, 24, 12, 31, 25, 28, 24, 29, 31, 17, 27, 36, 30, 25, 26, 26, 13, 21, 26, 30, 26, 24, 31, 32, 35, 24, 30, 31, 32, 11, 23, 25, 23, 25, 25, 26, 28, 24, 33, 18, 20, 30, 25, 24, 29, 23, 22, 25, 24, 17, 23, 33, 20, 19, 27, 33, 24, 20, 30, 28, 28, 18, 26, 16, 25, 25, 25, 26, 32, 36, 32, 19, 18, 21, 30, 19], 'star_c': [22, 18, 22, 24, 26, 24, 26, 23, 25, 22, 18, 23, 24, 21, 25, 24, 24, 26, 19, 19, 23, 25, 25, 24, 20, 26, 23, 23, 24, 12, 25, 23, 22, 24, 23, 25, 17, 23, 28, 24, 23, 18, 24, 13, 21, 26, 28, 22, 18, 25, 24, 25, 22, 24, 25, 26, 11, 21, 21, 23, 23, 25, 22, 18, 22, 27, 18, 20, 24, 23, 22, 23, 21, 20, 19, 24, 17, 23, 21, 18, 19, 23, 27, 18, 20, 22, 24, 22, 18, 24, 16, 25, 21, 19, 18, 26, 22, 24, 19, 18, 21, 20, 19]}\n"
          ]
        }
      ]
    },
    {
      "cell_type": "code",
      "source": [
        "import numpy as np\n",
        "import matplotlib.pyplot as plt\n",
        "\n",
        "\n",
        "result = times['bpp']\n",
        "result2 = times['bpa']\n",
        "\n",
        "print(max(result))\n",
        "print(len(result))\n",
        "fig = plt.figure()\n",
        "ax = fig.add_subplot(111)\n",
        "n, bins, patches = ax.hist(np.array(result), bins=20,\n",
        "                           density=False, cumulative=0, alpha=0.4)\n",
        "n, bins, patches = ax.hist(np.array(result2), bins=20,\n",
        "                           density=False, cumulative=0, alpha=0.4)\n",
        "ax.set_xlabel('Bins', size=20)\n",
        "ax.set_ylabel('Frequency', size=20)\n",
        "ax.legend\n",
        "plt.show()"
      ],
      "metadata": {
        "colab": {
          "base_uri": "https://localhost:8080/",
          "height": 324
        },
        "id": "8YqgESTIzPTF",
        "outputId": "55bb7f62-4d50-4350-9496-bd5f06196adf"
      },
      "execution_count": 188,
      "outputs": [
        {
          "output_type": "stream",
          "name": "stdout",
          "text": [
            "22.32583451271057\n",
            "11\n"
          ]
        },
        {
          "output_type": "display_data",
          "data": {
            "text/plain": [
              "<Figure size 432x288 with 1 Axes>"
            ],
            "image/png": "[encoded data removed]"
          },
          "metadata": {
            "needs_background": "light"
          }
        }
      ]
    },
    {
      "cell_type": "code",
      "source": [
        "labels = [\"star\"]\n",
        "\n",
        "cats = { \n",
        "    \"c\": [], \n",
        "    \"m\": [], \n",
        "    \"m2\": []\n",
        "}\n",
        "\n",
        "print(times[\"global_c\"])\n",
        "\n",
        "for x in ['m', 'm2', 'c']: \n",
        "  # cats[x].append(np.average(times[\"global_\"+x]))\n",
        "  # cats[x].append(np.average(times[\"local_\"+x]))\n",
        "  cats[x].append(np.average(times[\"star_\"+x]))\n",
        "\n",
        "\n",
        "X_axis = np.arange(len(labels))\n",
        "  \n",
        "plt.bar(X_axis-0.2, cats['c'], 0.2, label = 'Correctness')\n",
        "plt.bar(X_axis, cats['m'], 0.2, label = 'Manhattan')\n",
        "plt.bar(X_axis+0.2, cats['m2'], 0.2, label = 'Manhattan^2')\n",
        "\n",
        "plt.xticks(X_axis, labels)\n",
        "\n",
        "# plt.bar(X_axis+0.2, means, 0.4, label = 'Promedio de tiempo')\n",
        "\n",
        "\n",
        "# fig = plt.figure()\n",
        "# ax = fig.add_subplot(111)\n",
        "# n, bins, patches = ax.hist(np.array(times[\"bppv\"]), bins=20,\n",
        "#                            density=False, cumulative=0, alpha=0.4, label='bppv')\n",
        "# n, bins, patches = ax.hist(np.array(times[\"bpp\"]), bins=20,\n",
        "#                            density=False, cumulative=0, alpha=0.4, label='bpp')\n",
        "\n",
        "  \n",
        "# plt.xticks(X_axis, labels)\n",
        "plt.xlabel(\"Método de búsqueda\")\n",
        "plt.title(\"Tiempos de ejecución para heurísticas\")\n",
        "plt.legend()\n",
        "plt.show()"
      ],
      "metadata": {
        "colab": {
          "base_uri": "https://localhost:8080/",
          "height": 335
        },
        "id": "LA05P17NsiKR",
        "outputId": "fa3383c5-9b64-4b8a-f9dc-bbd79570bf48"
      },
      "execution_count": 238,
      "outputs": [
        {
          "output_type": "stream",
          "name": "stdout",
          "text": [
            "[0.15075373649597168, 0.10231995582580566, 0.017745018005371094, 0.07348108291625977, 0.06372523307800293, 0.1506638526916504, 0.08929061889648438, 0.12953901290893555, 0.13677358627319336, 0.1325361728668213, 0.04945993423461914, 0.22279715538024902, 0.05780482292175293, 0.022265195846557617, 0.10307693481445312, 0.24163150787353516, 0.1164088249206543, 0.08912324905395508, 0.029410839080810547, 0.14677691459655762, 0.05269479751586914, 0.09909367561340332, 0.08876824378967285, 0.09168696403503418, 0.07325291633605957, 0.08344817161560059, 0.09409379959106445, 0.20203804969787598, 0.1224968433380127, 0.0816793441772461, 0.3634626865386963, 0.11675882339477539, 0.1784670352935791, 0.37917399406433105, 0.1976940631866455, 0.1523890495300293, 0.15414166450500488, 0.12369942665100098, 0.03953099250793457, 0.18472528457641602, 0.06828570365905762, 0.15602636337280273, 3.327589988708496, 0.011724710464477539, 0.04418468475341797, 0.1423630714416504, 0.2709052562713623, 0.11593818664550781, 0.12443923950195312, 0.09273481369018555, 0.1799309253692627, 0.18631911277770996, 0.14164400100708008, 0.11217355728149414, 0.05200910568237305, 0.15365266799926758, 0.17100834846496582, 0.12285542488098145, 0.21410417556762695, 0.08315300941467285, 0.19693732261657715, 0.27629613876342773, 0.0642249584197998, 0.27503204345703125, 0.019129276275634766, 0.1091451644897461, 0.09479570388793945, 0.06737208366394043, 0.05637097358703613, 0.038167715072631836, 0.15944957733154297, 0.09366917610168457, 0.33390212059020996, 0.015839099884033203, 0.26691532135009766, 0.18228459358215332, 0.10270929336547852, 0.08389472961425781, 0.13594627380371094, 0.09307742118835449, 0.20026063919067383, 0.1977076530456543, 0.25598812103271484, 0.12790846824645996, 0.21557068824768066, 0.23996210098266602, 0.4055039882659912, 0.2744419574737549, 0.05341053009033203, 0.15349125862121582, 0.126173734664917, 0.12584447860717773, 0.10844779014587402, 0.15895867347717285, 0.1978282928466797, 0.13094878196716309, 0.11075782775878906, 0.18312692642211914, 0.030442237854003906, 0.11699151992797852, 0.10815215110778809, 0.18322038650512695, 0.10282421112060547]\n"
          ]
        },
        {
          "output_type": "display_data",
          "data": {
            "text/plain": [
              "<Figure size 432x288 with 1 Axes>"
            ],
            "image/png": "[encoded data removed]"
          },
          "metadata": {
            "needs_background": "light"
          }
        }
      ]
    },
    {
      "cell_type": "code",
      "source": [
        "avg_time_manhattan = sum(times[\"global_m\"])/len(times[\"global_m\"])\n",
        "avg_moves_manhattan = sum(depths[\"global_m\"])/len(depths[\"global_m\"])\n",
        "avg_time_manhattan2 = sum(times[\"global_m2\"])/len(times[\"global_m2\"])\n",
        "avg_moves_manhattan2 = sum(depths[\"global_m2\"])/len(depths[\"global_m2\"])\n",
        "\n",
        "print(avg_time_manhattan)\n",
        "print(avg_moves_manhattan)\n",
        "print(avg_time_manhattan2)\n",
        "print(avg_moves_manhattan2)\n"
      ],
      "metadata": {
        "colab": {
          "base_uri": "https://localhost:8080/"
        },
        "id": "lK7pH8B-h0lx",
        "outputId": "67bd8650-90fb-4592-bd5c-5d40d22b6af5"
      },
      "execution_count": 195,
      "outputs": [
        {
          "output_type": "stream",
          "name": "stdout",
          "text": [
            "0.0834678423057482\n",
            "48.90291262135922\n",
            "0.047294602810757834\n",
            "57.44660194174757\n"
          ]
        }
      ]
    }
  ]
}