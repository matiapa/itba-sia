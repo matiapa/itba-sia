{
  "nbformat": 4,
  "nbformat_minor": 0,
  "metadata": {
    "colab": {
      "name": "TPE1.ipynb",
      "provenance": [],
      "collapsed_sections": []
    },
    "kernelspec": {
      "name": "python3",
      "display_name": "Python 3"
    },
    "language_info": {
      "name": "python"
    }
  },
  "cells": [
    {
      "cell_type": "markdown",
      "source": [
        "# **TPE 1: Métodos de Búsqueda**"
      ],
      "metadata": {
        "id": "ILRHRztjhiSU"
      }
    },
    {
      "cell_type": "markdown",
      "source": [
        "## **Datos del trabajo** "
      ],
      "metadata": {
        "id": "k23ve3AcnG4c"
      }
    },
    {
      "cell_type": "markdown",
      "source": [
        "### Alumnos: \n",
        "- Apa, Mati (61223) \n",
        "- Beade, Gonzalo (61223)\n",
        "- D'Agostino, Leonardo Agustín (61223)\n"
      ],
      "metadata": {
        "id": "aWChGV2SnLMh"
      }
    },
    {
      "cell_type": "markdown",
      "source": [
        "### Docentes:\n",
        "- Rodrigo Ramele\n",
        "- Juliana Gambini \n",
        "- Juan Santos \n",
        "- Paula Oseroff\n",
        "- Eugenia Piñeiro\n",
        "- Santiago Reyes\n"
      ],
      "metadata": {
        "id": "QxRUyhlvoFOq"
      }
    },
    {
      "cell_type": "markdown",
      "source": [
        "### Fecha:\n",
        "- Primer Cuatrimestre 2022"
      ],
      "metadata": {
        "id": "HbSktge_oIW-"
      }
    },
    {
      "cell_type": "markdown",
      "source": [
        "## **Introducción** "
      ],
      "metadata": {
        "id": "ImjcaHv1nh74"
      }
    },
    {
      "cell_type": "markdown",
      "source": [
        "En el siguiente trabajo práctico implementamos estrategias de búsqueda \n",
        "(tanto informadas como no informadas) y las comparamos según su desempeño a la hora de resolver de un desafío. El desarrollo del trabajo gira en torno a la resolución del **Juego de los 8 números** (de ahora en más, \\' el Juego\\') , cuyas reglas se describen a continuación. \n"
      ],
      "metadata": {
        "id": "DF-2OyoPn5jc"
      }
    },
    {
      "cell_type": "markdown",
      "source": [
        "## Reglas del Juego: \n",
        "Dada una tabla de 3x3 rellena con casillas numéricas del 1 al 8 y una casilla vacía o blanca, distribuidas de manera azarosa, el Juego termina al ordenar de menor a mayor los contenidos del cuadrado, siendo la casilla blanca la cola de la sucesión. \n",
        "\n",
        "Los únicos movimientos permitidos son aquellos que permutan la casilla vacía con una casilla númerica inmediata, en sentido vertical u horizontal. \n"
      ],
      "metadata": {
        "id": "B0FfB9y5n8Ar"
      }
    },
    {
      "cell_type": "markdown",
      "source": [
        "## Estado del Juego: \n",
        "\n",
        "Decimos que una disposición de casillas dentro de la tabla de 3x3 representa un estado del Juego. Al permutar la casilla blanca con otra, se induce un nuevo estado en el Juego."
      ],
      "metadata": {
        "id": "aw44EhbtugSY"
      }
    },
    {
      "cell_type": "markdown",
      "source": [
        "## **Desarrollo** \n",
        "\n",
        "Si se va a ejecutar código desde el notebook, correr todos los módulos en el orden en el que lo exponemos. "
      ],
      "metadata": {
        "id": "WsDJ1bfZon38"
      }
    },
    {
      "cell_type": "markdown",
      "source": [
        "### **Importación de librerías a utilizar**"
      ],
      "metadata": {
        "id": "DZ0PAH2-rqi5"
      }
    },
    {
      "cell_type": "markdown",
      "source": [
        "Para este trabajo, vamos a utilizar las librerías:\n",
        "\n",
        "1.   `matplotlib` para hacer análisis de datos. \n",
        "2.   `numpy` para hacer algunas conversiones matemáticas eficientemente. \n",
        "3.   `heapq` porque Python no tiene implementación nativa de la estructura de datos heap. \n",
        "4.   `graphviz` para producir árboles de estados\n",
        "\n"
      ],
      "metadata": {
        "id": "4ZosE6CYsyT-"
      }
    },
    {
      "cell_type": "code",
      "source": [
        "from matplotlib import pyplot as plt \n",
        "import numpy as np\n",
        "import copy\n",
        "from heapq import *\n",
        "import graphviz"
      ],
      "metadata": {
        "id": "RlREP2h4sx9e"
      },
      "execution_count": 4,
      "outputs": []
    },
    {
      "cell_type": "markdown",
      "source": [
        "### **Implementación de la API del Juego**\n"
      ],
      "metadata": {
        "id": "ouarPXY5r4bc"
      }
    },
    {
      "cell_type": "markdown",
      "source": [
        "Empezamos creando una interfaz que represente el estado de un juego cualquier, llamada GameState en nuestra implementación. \n",
        "\n",
        "La interfaz se desprende de la tarea en inteligencia artificial y provee métodos que permitirían jugar a cualquier juego de un solo jugador en general. "
      ],
      "metadata": {
        "id": "z8GVK1n5UpMt"
      }
    },
    {
      "cell_type": "code",
      "source": [
        "class GameState():\n",
        "\n",
        "  \"\"\" Devuelve verdadero si el estado es objetivo/ganador\"\"\"\n",
        "  @property\n",
        "  def isobjective(self):\n",
        "    raise Exception('Not implemented exception')\n",
        "\n",
        "  \"\"\"\n",
        "  Devuelve un conjunto de strings representando movimientos posibles\n",
        "  según las reglas del juego\n",
        "  \"\"\"\n",
        "  @property\n",
        "  def game_moves(self):\n",
        "    raise Exception('Not implemented exception')\n",
        "\n",
        "  \"\"\"\n",
        "  Ejecuta un movimiento en el juego. De ser válido, devuelve un nuevo estado con dicho movimiento ejecutado\n",
        "  \"\"\"\n",
        "  def make_move(self, m: str):\n",
        "    raise Exception('Not implemented exception')\n",
        "\n",
        "  \"\"\"\n",
        "  Todo juego debe poder mostrarse en pantalla, aunque sea una representación muy básica\n",
        "  \"\"\"\n",
        "  def __str__(self): \n",
        "    return 'Empty Game!'\n",
        "\n",
        "  \"\"\"\n",
        "  Todo juego debe poder devolver un conjunto de pares con informacion del estado interno del mismo\n",
        "  \"\"\"\n",
        "  @property\n",
        "  def data(self): \n",
        "    raise Exception('Not implemented exception')"
      ],
      "metadata": {
        "id": "_WSmWbuDVM1_"
      },
      "execution_count": 5,
      "outputs": []
    },
    {
      "cell_type": "markdown",
      "source": [
        "Cualquier implementación de esta interfaz debe implementar la igualdad y una apropiada función de hash porque el algoritmo de resolución de búsquedas trabaja con conjuntos. La implementación de set en `Python` es con tablas de hashing. \n",
        "\n",
        "A continuación exponemos una de las implementaciones posibles para realizar este trabajo, para el Juego de los 8 Números. \n"
      ],
      "metadata": {
        "id": "HS3Gu6VVuJBB"
      }
    },
    {
      "cell_type": "code",
      "source": [
        "class EightGameState(GameState):\n",
        "\n",
        "  offsets = {'f':-3 , 'b':3 , 'l':-1 , 'r':1}\n",
        "  goal_table = None\n",
        "\n",
        "  def __init__(self, **kwargs):\n",
        "    self.table = kwargs.get('table', EightGameState.__new_table()) # TODO: deberia ser una tupla\n",
        "    self.zero = kwargs.get('target', self.table.index(0))\n",
        "    self.__swap(self, self.zero, kwargs.get('source', self.zero)) \n",
        "\n",
        "  @staticmethod\n",
        "  def __new_table():\n",
        "    x = np.arange(9)\n",
        "    np.random.shuffle(x)\n",
        "    return x.tolist()  \n",
        "\n",
        "  @staticmethod \n",
        "  def __swap(self, n, z):\n",
        "      self.table[n], self.table[z] = self.table[z], self.table[n]\n",
        "\n",
        "  @staticmethod\n",
        "  def setGoalTable(table):\n",
        "    EightGameState.goal_table = table\n",
        "\n",
        "  @property \n",
        "  def matrix(self): \n",
        "    return np.reshape(self.table, (3, 3))\n",
        "\n",
        "  @property\n",
        "  def isobjective(self):\n",
        "    return self.table == EightGameState.goal_table\n",
        "\n",
        "  def make_move(self, m: str):\n",
        "    if m not in self.offsets.keys():\n",
        "      raise 'Invalid move code'\n",
        "\n",
        "    if (m == 'f' and self.zero < 3) \\\n",
        "      or (m == 'b' and self.zero >= 6) \\\n",
        "      or (m == 'l' and self.zero % 3 == 0 ) \\\n",
        "      or (m == 'r' and self.zero % 3 == 2 ):  \n",
        "        return None   \n",
        "    \n",
        "    new_zero = self.zero + self.offsets[m]\n",
        "    return EightGameState(table=copy.deepcopy(self.table), source=self.zero, target=new_zero)\n",
        "\n",
        "  def __hash__(self): \n",
        "    return hash(tuple(self.table))\n",
        "\n",
        "  def __eq__(self, o): \n",
        "    return isinstance(o, EightGameState) and o.table == self.table\n",
        "\n",
        "  @property\n",
        "  def game_moves(self):\n",
        "    return {'b': 1, 'f': 1, 'l': 1, 'r': 1}\n",
        "\n",
        "  def __str__(self): \n",
        "    return str(np.reshape(self.table, (3, 3)))\n",
        "\n",
        "  @property\n",
        "  def data(self):\n",
        "    d = {} \n",
        "    for pos in range(9): \n",
        "      d[str(pos+1)] = self.table[pos]\n",
        "    return d\n",
        "\n",
        "\n",
        "\n"
      ],
      "metadata": {
        "id": "BG3l2vbyVl44"
      },
      "execution_count": 6,
      "outputs": []
    },
    {
      "cell_type": "markdown",
      "source": [
        "### **Diseño de clases para el agente buscador de soluciones**"
      ],
      "metadata": {
        "id": "PW3a_7WNsHeh"
      }
    },
    {
      "cell_type": "markdown",
      "source": [
        "Empezamos implementando una clase `Node`. Ésta nos permite hacer crecer un árbol de rótulos de estados a medida que lo necesitemos. Los estamos haciendo genéricos para todos los tipos de búsqueda, pero podríamos hacer que cada tipo de búsqueda tenga su propio tipo de `Node` según corresponda. "
      ],
      "metadata": {
        "id": "Z_KLhoMbuYi_"
      }
    },
    {
      "cell_type": "code",
      "source": [
        "class Node:\n",
        "\n",
        "    LAST_ID = 0\n",
        "    LAST_EXPLORED_ORDER = 0\n",
        "\n",
        "    def __init__(self, game_state: GameState, parent, depth, cost):\n",
        "        self.game_state = game_state\n",
        "        self.children = [] \n",
        "        self.parent = parent\n",
        "        self.depth = depth\n",
        "        self.cost = cost\n",
        "        self.id = Node.LAST_ID\n",
        "        self.explore_order = -1\n",
        "        Node.LAST_ID += 1\n",
        "\n",
        "    def add(self, node):\n",
        "      self.children.append(node)\n",
        "\n",
        "    def mark_explored(self):\n",
        "      self.explore_order = Node.LAST_EXPLORED_ORDER\n",
        "      Node.LAST_EXPLORED_ORDER += 1\n",
        "\n",
        "    @property\n",
        "    def state(self): \n",
        "      return self.game_state\n",
        "\n",
        "    def __hash__(self): \n",
        "      return hash(self.game_state)\n",
        "\n",
        "    def __eq__(self, other):\n",
        "      return type(other) is Node and self.game_state == other.game_state"
      ],
      "metadata": {
        "id": "EFwlHu_yumBU"
      },
      "execution_count": 7,
      "outputs": []
    },
    {
      "cell_type": "markdown",
      "source": [
        "La implementación de los métodos de búsqueda consiste en una clase resolvedora abstracta `Solver`, que implementa un método genérico, ni informado ni no informado. \n",
        "\n",
        "Las clases que heredan de `Solver` implementan los distintos algoritmos vistos en clase. Esta implementación muestra que es una familia de algoritmos. Solo cambia la elección del próximo estado a elegir a partir del estado actual en el árbol de estados. "
      ],
      "metadata": {
        "id": "R-214AukrqYn"
      }
    },
    {
      "cell_type": "code",
      "source": [
        "class Solver():\n",
        "\n",
        "    '''\n",
        "      La funcion score es una funcion que \n",
        "      - dado un nodo representante de un estado del juego -\n",
        "      permite  saber su puntaje. Mientras menor sea el puntaje, mejor. \n",
        "      El algoritmo selecciona al que menor valor de score tiene. \n",
        "      Si se quiere seleccionar al que mayor valor de score tenga, se lo puede multiplicar por -1\n",
        "    '''\n",
        "    def score(self, node): \n",
        "      raise 'Not implemented exception'\n",
        "\n",
        "    def __init__(self, game_state: GameState):\n",
        "      self.initial_state = game_state\n",
        "      self.root = self.new_node(self.initial_state, None, 0, 0) \n",
        "\n",
        "    @property \n",
        "    def initial_node(self): \n",
        "      return self.root\n",
        "\n",
        "    \n",
        "    def __iter__(self):\n",
        "      self.frontier = [] # La Frontera es un Heap (AKA Priority Queue). No tiene sentido agregar y ordenar a futuro, mantenelo ordenado\n",
        "      self.explored = set() \n",
        "      heappush(self.frontier, (self.score(self.root), 0, self.root))\n",
        "      return self\n",
        "\n",
        "    ''' \n",
        "      En cada iteracion devuelve \n",
        "        StopIteration Exception si no pudo encontrar solucion\n",
        "        Un Nodo como primer valor devuelto\n",
        "        Un buleano para determinar si ese nodo es o no solución como segundo valor devuelto \n",
        "      El iterador no se destruye al encontrar una solucion, va a seguir buscando y la hoja solucion muere ahi    \n",
        "    '''\n",
        "    def __next__(self):\n",
        "\n",
        "      self.check_frontier()\n",
        "      n = heappop(self.frontier)[-1]\n",
        "      self.mark_explored(n)\n",
        "\n",
        "      if n.state.isobjective: \n",
        "        return n, True  \n",
        "      \n",
        "      game_moves = n.game_state.game_moves\n",
        "      for m in game_moves.keys(): \n",
        "        new_state = n.game_state.make_move(m)\n",
        "        if new_state is not None:\n",
        "          node = self.new_node(new_state, n, n.depth + 1, n.cost + game_moves[m])\n",
        "          if self.should_explore(node):  \n",
        "            n.add(node) \n",
        "            self.push_to_heap(node)\n",
        "    \n",
        "      # print(n.game_state)\n",
        "      return n, False\n",
        "\n",
        "    def should_explore(self, node): \n",
        "      return node.game_state not in self.explored\n",
        "\n",
        "    def new_node(self, new_state, parent, depth, cost):\n",
        "      return Node(new_state, parent, parent.depth+1 if parent != None else 0, cost)\n",
        "\n",
        "    def check_frontier(self):\n",
        "      if len(self.frontier) == 0:  # TODO: aca podriamos aplicar lo de la profundidad en una extension del metodo\n",
        "        raise StopIteration \n",
        "    \n",
        "    def push_to_heap(self, node):\n",
        "        heappush(self.frontier, (self.score(node), node.id, node)) # Le agrego el ID para romper desempates  # me esta siempre pusheando al heap \n",
        "\n",
        "    def mark_explored(self, n):\n",
        "       n.mark_explored()\n",
        "       self.explored.add(n.game_state) # como es un set, no pasa nada si ya estaba  \n",
        "\n"
      ],
      "metadata": {
        "id": "mJ9zJqrUsJGe"
      },
      "execution_count": 8,
      "outputs": []
    },
    {
      "cell_type": "code",
      "source": [
        "class SolverBPA(Solver): \n",
        "  def score(self, node): \n",
        "    return node.depth"
      ],
      "metadata": {
        "id": "VKgNHWSyPJka"
      },
      "execution_count": 9,
      "outputs": []
    },
    {
      "cell_type": "code",
      "source": [
        "class SolverBPP(Solver):  \n",
        "  def score(self, node): \n",
        "    return -node.depth"
      ],
      "metadata": {
        "id": "sW2s9S8JQY9M"
      },
      "execution_count": 10,
      "outputs": []
    },
    {
      "cell_type": "code",
      "source": [
        "class SolverBPPV(SolverBPP):\n",
        "  # Considerar que pueden haber estados repetidos a distinta profundidad\n",
        "\n",
        "  def __init__(self, game_state: GameState, max_depth: int):\n",
        "    super().__init__(game_state)\n",
        "    self.max_depth = max_depth\n",
        "\n",
        "  def mark_explored(self, n):\n",
        "    n.mark_explored()\n",
        "    self.explored[n.game_state] = min(self.explored.get(n.game_state, n.depth), n.depth)\n",
        "\n",
        "  def __iter__(self):\n",
        "    x =  super().__iter__()\n",
        "    self.explored = {}\n",
        "    return x\n",
        "\n",
        "  def should_explore(self, node):\n",
        "    return node.game_state not in self.explored.keys() or self.explored[node.game_state] > node.depth\n",
        "\n",
        "  def push_to_heap(self, node):\n",
        "    heappush(self.frontier, ( int(node.depth / (self.max_depth + 1)), self.score(node), node.id, node)) # Le agrego el ID para romper desempates  # me esta siempre pusheando al heap \n"
      ],
      "metadata": {
        "id": "HCuxEsixqZWw"
      },
      "execution_count": 11,
      "outputs": []
    },
    {
      "cell_type": "code",
      "source": [
        "class SolverHeuristic(Solver): \n",
        "  \n",
        "  def __init__(self, game_state: GameState, heuristic):\n",
        "    self.h = heuristic\n",
        "    super().__init__(game_state)\n",
        "\n",
        "  def score(self, node): \n",
        "    return node.heuristic\n",
        "\n",
        "  def new_node(self, new_state, parent, depth, cost, src_action):\n",
        "    n = self.HeuristicNode(new_state, parent, parent.depth+1 if parent != None else 0, cost, src_action, self.h(new_state))\n",
        "    return n\n",
        "\n",
        "  class HeuristicNode(Node):\n",
        "\n",
        "    def __init__(self, state, n, depth, cost, src_action, heuristic):\n",
        "      super().__init__(state, n, depth, cost, src_action)\n",
        "      self.heuristic = heuristic"
      ],
      "metadata": {
        "id": "jvst10ywqyGh"
      },
      "execution_count": 12,
      "outputs": []
    },
    {
      "cell_type": "code",
      "source": [
        "class SolverLocalHeuristic(SolverHeuristic):\n",
        "\n",
        "  def __init__(self, game_state: GameState, heuristic):\n",
        "    super().__init__(game_state, heuristic)\n",
        "\n",
        "  def push_to_heap(self, node):\n",
        "    heappush(self.frontier, ( -node.depth, self.score(node), node.id, node))\n",
        "  "
      ],
      "metadata": {
        "id": "k422evSHtmp6"
      },
      "execution_count": 13,
      "outputs": []
    },
    {
      "cell_type": "code",
      "source": [
        "class SolverGlobalHeuristic(SolverHeuristic):\n",
        "\n",
        "  def __init__(self, game_state: GameState, heuristic):\n",
        "    super().__init__(game_state, heuristic)\n",
        "  \n",
        "  def push_to_heap(self, node):\n",
        "    heappush(self.frontier, (self.score(node), node.id, node))"
      ],
      "metadata": {
        "id": "bJi2Uomft2zf"
      },
      "execution_count": 14,
      "outputs": []
    },
    {
      "cell_type": "code",
      "source": [
        "class SolverWeightHeuristic(SolverHeuristic):\n",
        "  \n",
        "  def __init__(self, game_state: GameState, heuristic, w):\n",
        "    super().__init__(game_state, heuristic)\n",
        "    self.w = w\n",
        "\n",
        "  def score(self, node): \n",
        "    return node.heuristic * self.w + node.cost * (1-self.w)\n",
        "    \n",
        "  def push_to_heap(self, node):\n",
        "    heappush(self.frontier, (self.score(node), node.id, node))"
      ],
      "metadata": {
        "id": "dk8ztIw1t79Y"
      },
      "execution_count": 15,
      "outputs": []
    },
    {
      "cell_type": "markdown",
      "source": [
        "Como la clase de algoritmos informados recibe una heurística de manera arbitraria, tenemos que definir esas heurísticas por fuera, para poder pasárselas como parámetro. Exponemos a continuación las heurísticas que vamos a usar para resolver al Juego, y un análisis sobre su admisibilidad. "
      ],
      "metadata": {
        "id": "nBvgmXWY5n3t"
      }
    },
    {
      "cell_type": "markdown",
      "source": [
        "`correctnes_heuristic` cuenta casillero a casillero si el número que allí reside está bien posicionado o no. El casillero blanco no se cuenta para facilitar las demostraciones. A continuación enunciamos propiedades de está heurística. \n",
        "\n",
        "1. `correctnes_heuristic(state) == 0` sii todos los números están en su lugar. La demostración es por el absurdo. Supongamos que devuelve 0 y hay al menos un número mal ubicado. Entonces, por definición, está ocupando el casillero de otro número y la heurística devolvería un valor mayor a uno.\n",
        "\n",
        "2. `correctnes_heuristic` es admisible pues nunca sobre-estima el costo de llegar a una solución. Es decir, para todo estado `state`, `correctnes_heuristic(state) <= h_star(state)`.  La demostración es por el absurdo. Supongamos que `correctnes_heuristic` sobre-estime el costo de llegar a una solución, es decir que haya n+1 números mal puestos que puede resolverse en n movimientos (1<=n<8). La única manera que tendría el 0 de recorrer esta problemática es no volver a un lugar en el que ya estuvo. Como el 0 nunca pasa por un lugar en el que ya estuvo, tiene que inducir n+1 swaps para corregir las posiciones de los n+1 números incorrectamente posicionados en n movimientos. Absurdo. \n",
        " \n"
      ],
      "metadata": {
        "id": "SQ-0nqMY6Vo5"
      }
    },
    {
      "cell_type": "code",
      "source": [
        "def correctnes_heuristic(state): \n",
        "  table = state.data\n",
        "  count = 0\n",
        "\n",
        "  for position in table.keys():\n",
        "    number = table[position]\n",
        "    count += 1 if number != 0 and int(position) != number else 0\n",
        "\n",
        "  return count"
      ],
      "metadata": {
        "id": "RsCX_fNN6PFM"
      },
      "execution_count": 16,
      "outputs": []
    },
    {
      "cell_type": "markdown",
      "source": [
        "`manhattan_heuristic` es la suma de las distancias en norma 1 entre la posición real de cada número y la posición esperada de cada número. A continuación enunciamos propiedades de esta heurística.\n",
        "\n",
        "1. `manhattan_heuristic(state) == 0` sii todos los números están en su lugar. La demostración es directa. Como es una suma en los naturales, solo puede ser nula sii todo sumando es nulo. Si todo sumando es nulo, entonces la diferencia entre las posicones ideales y reales de cada número es nula. Es decir, están bien posicionados. \n",
        "\n",
        "2. `manhattan_heuristic` es admisible. La demostración es directa. Un número mal puesto N tiene que recorrer como mínimo la distancia manhattan al lugar donde corresponde. Sin embargo, el 0 es la única casilla que puede inducir un movimiento en el número. Si el 0 induce un movimiento dos veces consecutivas en el mismo número, entonces vuelve al estado original. Por eso, el 0 tendrá que inducir un movimiento en algún otro número antes de volver a mover a N, probando que el costo real es siempre mayor al estimado por la heurística. "
      ],
      "metadata": {
        "id": "G_Sd0FTV_pqA"
      }
    },
    {
      "cell_type": "code",
      "source": [
        "def manhattan_heuristic(state): \n",
        "  table = state.data\n",
        "  distance_sum = 0\n",
        "\n",
        "  for position in table.keys():\n",
        "    number = table[position]\n",
        "    if number == 0:\n",
        "      continue\n",
        "\n",
        "    x1 = int(position) % 3\n",
        "    y1 = int(int(position) / 3)\n",
        "\n",
        "    x2 = (number-1) % 3\n",
        "    y2 = int((number-1) / 3)\n",
        "    \n",
        "    distance_sum += x2-x1 + y2-y1\n",
        "  \n",
        "  return distance_sum"
      ],
      "metadata": {
        "id": "wfRkiJ1d_u5W"
      },
      "execution_count": 17,
      "outputs": []
    },
    {
      "cell_type": "markdown",
      "source": [
        "Por último, presentamos `manhattan_squared_heuristic`, definida igual que `manhattan_heuristic`, mas sumamos los cuadrados de las distancias en vez de sus distancias lineales. La idea es penalizar severamente a los estado que tienen a muy mal puestos a sus números, y no tanto a los que tienen a sus casilleros bien puestos. Algunas propiedades de esta heurística son: \n",
        "\n",
        "1. `manhattan_squared_heuristic(state) == 0` sii todos los números están en su lugar. La demostración es análoga a la de `manhattan_heuristic`, pero factorizando el cuadrado de cada término en el paso final y llegando a la misma conclusión. \n",
        "\n",
        "2. `manhattan_squared_heuristic` no es admisible. El contraejemplo que se muestra  tiene valor de heurística 8, pero puede resolverse en 7 movimientos.\n",
        "\n",
        "1 2 3\n",
        "\n",
        "5 6 8 \n",
        "\n",
        "4 0 7\n"
      ],
      "metadata": {
        "id": "dyDVWLyMEFcq"
      }
    },
    {
      "cell_type": "code",
      "source": [
        "def manhattan_squared_heuristic(state): \n",
        "  table = state.data\n",
        "  distance_sum = 0\n",
        "\n",
        "  for position in table.keys():\n",
        "    number = table[position]\n",
        "    if number == 0:\n",
        "      continue\n",
        "\n",
        "    x1 = int(position) % 3\n",
        "    y1 = int(int(position) / 3)\n",
        "\n",
        "    x2 = (number-1) % 3\n",
        "    y2 = int((number-1) / 3)\n",
        "    \n",
        "    distance_sum += (x2-x1 + y2-y1)^2\n",
        "  \n",
        "  return distance_sum"
      ],
      "metadata": {
        "id": "2XAu9iDeEIxV"
      },
      "execution_count": 18,
      "outputs": []
    },
    {
      "cell_type": "code",
      "source": [
        "# Este es un ejemplo sencillo que tiene enrocados los ultimos 4 valores \n",
        "# En un par de pasos lo encuentra \n",
        "# gs = GameState(table=[1, 2, 3, 4, 8, 5, 7, 6, 0], target=5, source=5) \n",
        "\n",
        "gs = EightGameState(table=[1, 2, 3, 5, 6, 0, 4, 7, 8], target=5, source=5)\n",
        "\n",
        "def h1(state): \n",
        "  table = state.data\n",
        "  count = 0\n",
        "  for position in table.keys():\n",
        "    number = table[position]\n",
        "    count += 1 if number != 0 and int(position) != number else 0\n",
        "  return count\n",
        "\n",
        "solver = SolverWeightHeuristic(gs, h1, 0.5)\n",
        "iterator = iter(solver)\n",
        "\n",
        "solved = False\n",
        "n = None\n",
        "while not solved:\n",
        "# for i in range(30):\n",
        "  n, solved = next(iterator)\n",
        "\n",
        "print(n.game_state.matrix)\n",
        "print(n.game_state.isobjective)"
      ],
      "metadata": {
        "id": "qyVMY_Nb-hXf",
        "colab": {
          "base_uri": "https://localhost:8080/",
          "height": 381
        },
        "outputId": "b521e9e2-a542-4a7d-9f15-99fa21cf4f24"
      },
      "execution_count": 19,
      "outputs": [
        {
          "output_type": "error",
          "ename": "TypeError",
          "evalue": "ignored",
          "traceback": [
            "\u001b[0;31m---------------------------------------------------------------------------\u001b[0m",
            "\u001b[0;31mTypeError\u001b[0m                                 Traceback (most recent call last)",
            "\u001b[0;32m<ipython-input-19-b9e3894d099c>\u001b[0m in \u001b[0;36m<module>\u001b[0;34m()\u001b[0m\n\u001b[1;32m     13\u001b[0m   \u001b[0;32mreturn\u001b[0m \u001b[0mcount\u001b[0m\u001b[0;34m\u001b[0m\u001b[0;34m\u001b[0m\u001b[0m\n\u001b[1;32m     14\u001b[0m \u001b[0;34m\u001b[0m\u001b[0m\n\u001b[0;32m---> 15\u001b[0;31m \u001b[0msolver\u001b[0m \u001b[0;34m=\u001b[0m \u001b[0mSolverWeightHeuristic\u001b[0m\u001b[0;34m(\u001b[0m\u001b[0mgs\u001b[0m\u001b[0;34m,\u001b[0m \u001b[0mh1\u001b[0m\u001b[0;34m,\u001b[0m \u001b[0;36m0.5\u001b[0m\u001b[0;34m)\u001b[0m\u001b[0;34m\u001b[0m\u001b[0;34m\u001b[0m\u001b[0m\n\u001b[0m\u001b[1;32m     16\u001b[0m \u001b[0miterator\u001b[0m \u001b[0;34m=\u001b[0m \u001b[0miter\u001b[0m\u001b[0;34m(\u001b[0m\u001b[0msolver\u001b[0m\u001b[0;34m)\u001b[0m\u001b[0;34m\u001b[0m\u001b[0;34m\u001b[0m\u001b[0m\n\u001b[1;32m     17\u001b[0m \u001b[0;34m\u001b[0m\u001b[0m\n",
            "\u001b[0;32m<ipython-input-15-a2a35c5583aa>\u001b[0m in \u001b[0;36m__init__\u001b[0;34m(self, game_state, heuristic, w)\u001b[0m\n\u001b[1;32m      2\u001b[0m \u001b[0;34m\u001b[0m\u001b[0m\n\u001b[1;32m      3\u001b[0m   \u001b[0;32mdef\u001b[0m \u001b[0m__init__\u001b[0m\u001b[0;34m(\u001b[0m\u001b[0mself\u001b[0m\u001b[0;34m,\u001b[0m \u001b[0mgame_state\u001b[0m\u001b[0;34m:\u001b[0m \u001b[0mGameState\u001b[0m\u001b[0;34m,\u001b[0m \u001b[0mheuristic\u001b[0m\u001b[0;34m,\u001b[0m \u001b[0mw\u001b[0m\u001b[0;34m)\u001b[0m\u001b[0;34m:\u001b[0m\u001b[0;34m\u001b[0m\u001b[0;34m\u001b[0m\u001b[0m\n\u001b[0;32m----> 4\u001b[0;31m     \u001b[0msuper\u001b[0m\u001b[0;34m(\u001b[0m\u001b[0;34m)\u001b[0m\u001b[0;34m.\u001b[0m\u001b[0m__init__\u001b[0m\u001b[0;34m(\u001b[0m\u001b[0mgame_state\u001b[0m\u001b[0;34m,\u001b[0m \u001b[0mheuristic\u001b[0m\u001b[0;34m)\u001b[0m\u001b[0;34m\u001b[0m\u001b[0;34m\u001b[0m\u001b[0m\n\u001b[0m\u001b[1;32m      5\u001b[0m     \u001b[0mself\u001b[0m\u001b[0;34m.\u001b[0m\u001b[0mw\u001b[0m \u001b[0;34m=\u001b[0m \u001b[0mw\u001b[0m\u001b[0;34m\u001b[0m\u001b[0;34m\u001b[0m\u001b[0m\n\u001b[1;32m      6\u001b[0m \u001b[0;34m\u001b[0m\u001b[0m\n",
            "\u001b[0;32m<ipython-input-12-5591289cade7>\u001b[0m in \u001b[0;36m__init__\u001b[0;34m(self, game_state, heuristic)\u001b[0m\n\u001b[1;32m      3\u001b[0m   \u001b[0;32mdef\u001b[0m \u001b[0m__init__\u001b[0m\u001b[0;34m(\u001b[0m\u001b[0mself\u001b[0m\u001b[0;34m,\u001b[0m \u001b[0mgame_state\u001b[0m\u001b[0;34m:\u001b[0m \u001b[0mGameState\u001b[0m\u001b[0;34m,\u001b[0m \u001b[0mheuristic\u001b[0m\u001b[0;34m)\u001b[0m\u001b[0;34m:\u001b[0m\u001b[0;34m\u001b[0m\u001b[0;34m\u001b[0m\u001b[0m\n\u001b[1;32m      4\u001b[0m     \u001b[0mself\u001b[0m\u001b[0;34m.\u001b[0m\u001b[0mh\u001b[0m \u001b[0;34m=\u001b[0m \u001b[0mheuristic\u001b[0m\u001b[0;34m\u001b[0m\u001b[0;34m\u001b[0m\u001b[0m\n\u001b[0;32m----> 5\u001b[0;31m     \u001b[0msuper\u001b[0m\u001b[0;34m(\u001b[0m\u001b[0;34m)\u001b[0m\u001b[0;34m.\u001b[0m\u001b[0m__init__\u001b[0m\u001b[0;34m(\u001b[0m\u001b[0mgame_state\u001b[0m\u001b[0;34m)\u001b[0m\u001b[0;34m\u001b[0m\u001b[0;34m\u001b[0m\u001b[0m\n\u001b[0m\u001b[1;32m      6\u001b[0m \u001b[0;34m\u001b[0m\u001b[0m\n\u001b[1;32m      7\u001b[0m   \u001b[0;32mdef\u001b[0m \u001b[0mscore\u001b[0m\u001b[0;34m(\u001b[0m\u001b[0mself\u001b[0m\u001b[0;34m,\u001b[0m \u001b[0mnode\u001b[0m\u001b[0;34m)\u001b[0m\u001b[0;34m:\u001b[0m\u001b[0;34m\u001b[0m\u001b[0;34m\u001b[0m\u001b[0m\n",
            "\u001b[0;32m<ipython-input-8-bda4113c3051>\u001b[0m in \u001b[0;36m__init__\u001b[0;34m(self, game_state)\u001b[0m\n\u001b[1;32m     13\u001b[0m     \u001b[0;32mdef\u001b[0m \u001b[0m__init__\u001b[0m\u001b[0;34m(\u001b[0m\u001b[0mself\u001b[0m\u001b[0;34m,\u001b[0m \u001b[0mgame_state\u001b[0m\u001b[0;34m:\u001b[0m \u001b[0mGameState\u001b[0m\u001b[0;34m)\u001b[0m\u001b[0;34m:\u001b[0m\u001b[0;34m\u001b[0m\u001b[0;34m\u001b[0m\u001b[0m\n\u001b[1;32m     14\u001b[0m       \u001b[0mself\u001b[0m\u001b[0;34m.\u001b[0m\u001b[0minitial_state\u001b[0m \u001b[0;34m=\u001b[0m \u001b[0mgame_state\u001b[0m\u001b[0;34m\u001b[0m\u001b[0;34m\u001b[0m\u001b[0m\n\u001b[0;32m---> 15\u001b[0;31m       \u001b[0mself\u001b[0m\u001b[0;34m.\u001b[0m\u001b[0mroot\u001b[0m \u001b[0;34m=\u001b[0m \u001b[0mself\u001b[0m\u001b[0;34m.\u001b[0m\u001b[0mnew_node\u001b[0m\u001b[0;34m(\u001b[0m\u001b[0mself\u001b[0m\u001b[0;34m.\u001b[0m\u001b[0minitial_state\u001b[0m\u001b[0;34m,\u001b[0m \u001b[0;32mNone\u001b[0m\u001b[0;34m,\u001b[0m \u001b[0;36m0\u001b[0m\u001b[0;34m,\u001b[0m \u001b[0;36m0\u001b[0m\u001b[0;34m)\u001b[0m\u001b[0;34m\u001b[0m\u001b[0;34m\u001b[0m\u001b[0m\n\u001b[0m\u001b[1;32m     16\u001b[0m \u001b[0;34m\u001b[0m\u001b[0m\n\u001b[1;32m     17\u001b[0m     \u001b[0;34m@\u001b[0m\u001b[0mproperty\u001b[0m\u001b[0;34m\u001b[0m\u001b[0;34m\u001b[0m\u001b[0m\n",
            "\u001b[0;31mTypeError\u001b[0m: new_node() missing 1 required positional argument: 'src_action'"
          ]
        }
      ]
    },
    {
      "cell_type": "markdown",
      "source": [
        "### **Clases para visualización del árbol de estados**"
      ],
      "metadata": {
        "id": "MSCdFqLhQ8UA"
      }
    },
    {
      "cell_type": "code",
      "source": [
        "def node_label(node): \n",
        "  string = f\"Ord: {node.explore_order}\\n\"\n",
        "  string += f\"Cost: {node.cost}\\n\"\n",
        "  if type(node) is SolverHeuristic.HeuristicNode:\n",
        "    string += f\"Heu: {node.heuristic}\\n\"\n",
        "    # string += f\"A*: {node.cost*0.5 + node.heuristic*0.5}\\n\"\n",
        "  string += f\"\\n{node.game_state.matrix}\"\n",
        "  return string\n",
        "\n",
        "def build_graphviz_tree(node, graph):\n",
        "    graph.node(str(node.id), node_label(node))\n",
        "    for child in node.children:\n",
        "        build_graphviz_tree(child, graph)\n",
        "        graph.edge(str(node.id), str(child.id))\n",
        "\n",
        "def build_graphviz_branch(node, graph):\n",
        "    graph.node(str(node.id), node_label(node))\n",
        "\n",
        "    if node.parent != None:\n",
        "        build_graphviz_branch(node.parent, graph)\n",
        "        graph.edge(str(node.parent.id), str(node.id))\n",
        "\n",
        "def renderTree(root):\n",
        "    graph = graphviz.Digraph('Decision tree')\n",
        "    build_graphviz_tree(root, graph)\n",
        "    graph.render(directory='out', view=True)\n",
        "\n",
        "def renderBranch(leaf):\n",
        "    graph = graphviz.Digraph('Solution branch')\n",
        "    build_graphviz_branch(leaf, graph)\n",
        "    graph.render(directory='out', view=True)"
      ],
      "metadata": {
        "id": "updYbUP6RHLv"
      },
      "execution_count": null,
      "outputs": []
    },
    {
      "cell_type": "code",
      "source": [
        "renderBranch(n)\n",
        "renderTree(solver.initial_node)"
      ],
      "metadata": {
        "id": "H-Mr-cPHRxQ-"
      },
      "execution_count": null,
      "outputs": []
    },
    {
      "cell_type": "markdown",
      "source": [
        "### **Ejecución y comparación de los métodos de búsqueda**\n"
      ],
      "metadata": {
        "id": "dQGmvW68sXNb"
      }
    },
    {
      "cell_type": "code",
      "source": [
        "## TREMENDO TODO"
      ],
      "metadata": {
        "id": "KL_qaXgJTmrF"
      },
      "execution_count": null,
      "outputs": []
    }
  ]
}