{
  "nbformat": 4,
  "nbformat_minor": 0,
  "metadata": {
    "colab": {
      "name": "TPE1.ipynb",
      "provenance": [],
      "collapsed_sections": []
    },
    "kernelspec": {
      "name": "python3",
      "display_name": "Python 3"
    },
    "language_info": {
      "name": "python"
    }
  },
  "cells": [
    {
      "cell_type": "markdown",
      "source": [
        "# **TPE 1: Métodos de Búsqueda**"
      ],
      "metadata": {
        "id": "ILRHRztjhiSU"
      }
    },
    {
      "cell_type": "markdown",
      "source": [
        "## **Datos del trabajo** "
      ],
      "metadata": {
        "id": "k23ve3AcnG4c"
      }
    },
    {
      "cell_type": "markdown",
      "source": [
        "### Alumnos: \n",
        "- Apa, Mati (61223) \n",
        "- Beade, Gonzalo (61223)\n",
        "- D'Agostino, Leonardo Agustín (61223)\n"
      ],
      "metadata": {
        "id": "aWChGV2SnLMh"
      }
    },
    {
      "cell_type": "markdown",
      "source": [
        "### Docentes:\n",
        "- Rodrigo Ramele\n",
        "- Juliana Gambini \n",
        "- Juan Santos \n",
        "- Paula Oseroff\n",
        "- Eugenia Piñeiro\n",
        "- Santiago Reyes\n"
      ],
      "metadata": {
        "id": "QxRUyhlvoFOq"
      }
    },
    {
      "cell_type": "markdown",
      "source": [
        "### Fecha:\n",
        "- Primer Cuatrimestre 2022"
      ],
      "metadata": {
        "id": "HbSktge_oIW-"
      }
    },
    {
      "cell_type": "markdown",
      "source": [
        "## **Introducción** "
      ],
      "metadata": {
        "id": "ImjcaHv1nh74"
      }
    },
    {
      "cell_type": "markdown",
      "source": [
        "En el siguiente trabajo práctico implementamos estrategias de búsqueda \n",
        "(tanto informadas como no informadas) y las comparamos según su desempeño a la hora de resolver de un desafío. El desarrollo del trabajo gira en torno a la resolución del **Juego de los 8 números** (de ahora en más, \\' el Juego\\') , cuyas reglas se describen a continuación. \n"
      ],
      "metadata": {
        "id": "DF-2OyoPn5jc"
      }
    },
    {
      "cell_type": "markdown",
      "source": [
        "### Reglas del Juego: \n",
        "Dada una tabla de 3x3 rellena con casillas numéricas del 1 al 8 y una casilla vacía o blanca, distribuidas de manera azarosa, el Juego termina al ordenar de menor a mayor los contenidos del cuadrado, siendo la casilla blanca la cola de la sucesión. \n",
        "\n",
        "Los únicos movimientos permitidos son aquellos que permutan la casilla vacía con una casilla númerica inmediata, en sentido vertical u horizontal. \n"
      ],
      "metadata": {
        "id": "B0FfB9y5n8Ar"
      }
    },
    {
      "cell_type": "markdown",
      "source": [
        "## Estado del Juego: \n",
        "\n",
        "Decimos que una disposición de casillas dentro de la tabla de 3x3 representa un estado del Juego. Al permutar la casilla blanca con otra, se induce un nuevo estado en el Juego."
      ],
      "metadata": {
        "id": "aw44EhbtugSY"
      }
    },
    {
      "cell_type": "markdown",
      "source": [
        "## **Desarrollo** \n",
        "\n",
        "Si se va a ejecutar código desde el notebook, correr todos los módulos en el orden en el que lo exponemos. "
      ],
      "metadata": {
        "id": "WsDJ1bfZon38"
      }
    },
    {
      "cell_type": "markdown",
      "source": [
        "### **Importación de librerías a utilizar**"
      ],
      "metadata": {
        "id": "DZ0PAH2-rqi5"
      }
    },
    {
      "cell_type": "markdown",
      "source": [
        "Para este trabajo, vamos a utilizar la librería `matplotlib` y algunas de sus sublibrerías para realizar la representación gráfica del juego. "
      ],
      "metadata": {
        "id": "4ZosE6CYsyT-"
      }
    },
    {
      "cell_type": "code",
      "source": [
        "from matplotlib import pyplot as plt \n",
        "from matplotlib import animation as ani\n",
        "import numpy as np\n",
        "import copy\n",
        "from heapq import *\n",
        "import graphviz"
      ],
      "metadata": {
        "id": "RlREP2h4sx9e"
      },
      "execution_count": 569,
      "outputs": []
    },
    {
      "cell_type": "markdown",
      "source": [
        "### **Implementación de la API del Juego**\n"
      ],
      "metadata": {
        "id": "ouarPXY5r4bc"
      }
    },
    {
      "cell_type": "markdown",
      "source": [
        "Empezamos creando una interfaz que represente el estado de un juego cualquier, llamada GameState en nuestra implementación. \n",
        "\n",
        "La interfaz se desprende de la tarea en inteligencia artificial y provee métodos que permitirían jugar a cualquier juego de un solo jugador en general. "
      ],
      "metadata": {
        "id": "z8GVK1n5UpMt"
      }
    },
    {
      "cell_type": "code",
      "source": [
        "class GameState():\n",
        "\n",
        "  \"\"\" Devuelve verdadero si el estado es objetivo/ganador\"\"\"\n",
        "  @property\n",
        "  def isobjective(self):\n",
        "    raise 'Not implemented exception'\n",
        "\n",
        "  \"\"\"\n",
        "  Devuelve un conjunto de strings representando movimientos posibles\n",
        "  según las reglas del juego\n",
        "  \"\"\"\n",
        "  @property\n",
        "  def game_moves(self):\n",
        "    raise 'Not implemented exception'\n",
        "\n",
        "  \"\"\"\n",
        "  Ejecuta un movimiento en el juego. De ser válido, devuelve un nuevo estado con dicho movimiento ejecutado\n",
        "  \"\"\"\n",
        "  def make_move(self, m: str):\n",
        "    raise 'Not implemented exception'\n",
        "\n",
        "  \"\"\"\n",
        "  Todo juego debe poder mostrarse en pantalla, aunque sea una representación muy básica\n",
        "  \"\"\"\n",
        "  def __str__(self): \n",
        "    return 'Empty Game!'\n",
        "\n",
        "  \"\"\"\n",
        "  Todo juego debe poder devolver un conjunto de pares con informacion del estado interno del mismo\n",
        "  \"\"\"\n",
        "  @property\n",
        "  def data(self): \n",
        "    raise 'Not implemented exception'"
      ],
      "metadata": {
        "id": "_WSmWbuDVM1_"
      },
      "execution_count": 570,
      "outputs": []
    },
    {
      "cell_type": "markdown",
      "source": [
        "Cualquier implementación de esta interfaz debe implementar la igualdad y una apropiada función de hash porque el algoritmo de resolución de búsquedas trabaja con conjuntos. La implementación de set en `Python` es con tablas de hashing. \n"
      ],
      "metadata": {
        "id": "HS3Gu6VVuJBB"
      }
    },
    {
      "cell_type": "code",
      "source": [
        "# TODO: podriamos aprender a hacerla inmutable \n",
        "class EightGameState(GameState):\n",
        "\n",
        "  offsets = {'f':-3 , 'b':3 , 'l':-1 , 'r':1}\n",
        "\n",
        "  def __init__(self, **kwargs):\n",
        "    self.table = kwargs.get('table', EightGameState.__new_table()) # TODO: deberia ser una tupla\n",
        "    self.zero = kwargs.get('target', self.table.index(0))\n",
        "    self.__swap(self, self.zero, kwargs.get('source', self.zero)) \n",
        "\n",
        "  @staticmethod\n",
        "  def __new_table():\n",
        "    x = np.arange(9)\n",
        "    np.random.shuffle(x)\n",
        "    return x.tolist()  \n",
        "\n",
        "  @staticmethod \n",
        "  def __swap(self, n, z):\n",
        "      self.table[n], self.table[z] = self.table[z], self.table[n]\n",
        "\n",
        "  @property \n",
        "  def matrix(self): \n",
        "    return np.reshape(self.table, (3, 3))\n",
        "\n",
        "  @property\n",
        "  def isobjective(self):\n",
        "    return self.table == [1, 2, 3, 4, 5, 6, 7, 8, 0]  \n",
        "\n",
        "  def make_move(self, m: str):\n",
        "    if m not in self.offsets.keys():\n",
        "      raise 'Invalid move code'\n",
        "\n",
        "    if (m == 'f' and self.zero < 3) \\\n",
        "      or (m == 'b' and self.zero >= 6) \\\n",
        "      or (m == 'l' and self.zero % 3 == 0 ) \\\n",
        "      or (m == 'r' and self.zero % 3 == 2 ):  \n",
        "        return None   \n",
        "    \n",
        "    new_zero = self.zero + self.offsets[m]\n",
        "    return EightGameState(table=copy.deepcopy(self.table), source=self.zero, target=new_zero)\n",
        "\n",
        "  def __hash__(self): \n",
        "    return hash(tuple(self.table))\n",
        "\n",
        "  def __eq__(self, o): \n",
        "    return isinstance(o, EightGameState) and o.table == self.table\n",
        "\n",
        "  @property\n",
        "  def game_moves(self):\n",
        "    return {'b': 1, 'f': 1, 'l': 1, 'r': 1}\n",
        "\n",
        "  def __str__(self): \n",
        "    return str(np.reshape(self.table, (3, 3)))\n",
        "\n",
        "  @property\n",
        "  def data(self):\n",
        "    d = {} \n",
        "    for pos in range(9): \n",
        "      d[str(pos+1)] = self.table[pos]\n",
        "    return d\n",
        "\n",
        "\n",
        "\n"
      ],
      "metadata": {
        "id": "BG3l2vbyVl44"
      },
      "execution_count": 571,
      "outputs": []
    },
    {
      "cell_type": "code",
      "source": [
        "# Tests para igualdad y hashes, OK \n",
        "# x = EightGameState() \n",
        "# print(x)\n",
        "# y = x.make_move('f')\n",
        "# print(y)\n",
        "# x2 = y.make_move('b')\n",
        "# print(x2)\n",
        "# print(x == x2)\n",
        "# print(hash(x))\n",
        "# print(hash(x2))"
      ],
      "metadata": {
        "id": "rIu8CZOaG_a5"
      },
      "execution_count": 572,
      "outputs": []
    },
    {
      "cell_type": "markdown",
      "source": [
        "### **Diseño de clases para el agente buscador de soluciones**"
      ],
      "metadata": {
        "id": "PW3a_7WNsHeh"
      }
    },
    {
      "cell_type": "markdown",
      "source": [
        "Empezamos implementando una clase `Node`. Esta nos permite hacer crecer un árbol de rótulos de estados a medida que lo necesitemos. Los estamos haciendo genérico para todos los tipos de búsqueda, pero podríamos hacer que cada tipo de búsqueda tenga su propio tipo de `Node` según corresponda. "
      ],
      "metadata": {
        "id": "Z_KLhoMbuYi_"
      }
    },
    {
      "cell_type": "code",
      "source": [
        "class Node:\n",
        "\n",
        "    LAST_ID = 0\n",
        "    LAST_EXPLORED_ORDER = 0\n",
        "\n",
        "    def __init__(self, game_state: GameState, parent, depth, cost):\n",
        "        self.game_state = game_state\n",
        "        self.children = [] # TODO: idealmente es un set pero I'll allow it :) \n",
        "        self.parent = parent\n",
        "        self.depth = depth\n",
        "        self.cost = cost\n",
        "        self.id = Node.LAST_ID\n",
        "        self.explore_order = -1\n",
        "        Node.LAST_ID += 1\n",
        "\n",
        "    def add(self, node):\n",
        "      self.children.append(node)\n",
        "\n",
        "    def mark_explored(self):\n",
        "      self.explore_order = Node.LAST_EXPLORED_ORDER\n",
        "      Node.LAST_EXPLORED_ORDER += 1\n",
        "\n",
        "    @property\n",
        "    def state(self): \n",
        "      return self.game_state\n",
        "\n",
        "    def __hash__(self): \n",
        "      return hash(self.game_state)\n",
        "\n",
        "    def __eq__(self, other):\n",
        "      return type(other) is Node and self.game_state == other.game_state"
      ],
      "metadata": {
        "id": "EFwlHu_yumBU"
      },
      "execution_count": 573,
      "outputs": []
    },
    {
      "cell_type": "markdown",
      "source": [
        "La implementación de los métodos de búsqueda consiste en una clase resolvedora abstracta `Solver`, que implementa un método genérico, ni informado ni no informado. \n",
        "\n",
        "Las clases que heredan de `Solver` implementan los distintos algoritmos vistos en clase. Esta implementación muestra que es una familia de algoritmos, y solo cambia la elección del próximo estado a elegir a partir del estado actual en el árbol de estados. "
      ],
      "metadata": {
        "id": "R-214AukrqYn"
      }
    },
    {
      "cell_type": "code",
      "source": [
        "class Solver():\n",
        "\n",
        "    '''\n",
        "      La funcion score es una funcion que \n",
        "      - dado un nodo representante de un estado del juego -\n",
        "      permite  saber su puntaje. Mientras menor sea el puntaje, mejor. \n",
        "      El algoritmo selecciona al que menor valor de score tiene. \n",
        "      Si se quiere seleccionar al que mayor valor de score tenga, se lo puede multiplicar por -1\n",
        "    '''\n",
        "    def score(self, node): \n",
        "      raise 'Not implemented exception'\n",
        "\n",
        "    def __init__(self, game_state: GameState):\n",
        "      self.initial_state = game_state\n",
        "      self.root = self.new_node(self.initial_state, None, 0, 0) \n",
        "\n",
        "    @property \n",
        "    def initial_node(self): \n",
        "      return self.root\n",
        "\n",
        "    \n",
        "    def __iter__(self):\n",
        "      # self.iter_done = False \n",
        "      self.frontier = [] # La Frontera es un Heap (AKA Priority Queue). No tiene sentido agregar y ordenar a futuro, mantenelo ordenado\n",
        "      self.explored = set() \n",
        "      heappush(self.frontier, (self.score(self.root), 0, self.root))\n",
        "      return self\n",
        "\n",
        "    ''' \n",
        "      En cada iteracion devuelve \n",
        "        Excepcion si no pudo encontrar solucion\n",
        "        Un Nodo valido si encontro solucion\n",
        "        None si sigue buscando \n",
        "      El iterador no se destruye al encontrar una solucion, va a seguir buscando y la hoja solucion muere ahi    \n",
        "    '''\n",
        "    def __next__(self):\n",
        "\n",
        "      self.check_frontier()\n",
        "      n = heappop(self.frontier)[-1]\n",
        "      self.mark_explored(n)\n",
        "\n",
        "      if n.state.isobjective: \n",
        "        return n, True  \n",
        "      \n",
        "      game_moves = n.game_state.game_moves\n",
        "      for m in game_moves.keys(): \n",
        "        new_state = n.game_state.make_move(m)\n",
        "        if new_state is not None:\n",
        "          node = self.new_node(new_state, n, n.depth + 1, n.cost + game_moves[m])\n",
        "          if self.should_explore(node):  \n",
        "            n.add(node) \n",
        "            self.push_to_heap(node)\n",
        "    \n",
        "      # print(n.game_state)\n",
        "      return n, False\n",
        "\n",
        "    def should_explore(self, node): \n",
        "      return node.game_state not in self.explored\n",
        "\n",
        "    def new_node(self, new_state, parent, depth, cost):\n",
        "      return Node(new_state, parent, parent.depth+1 if parent != None else 0, cost)\n",
        "\n",
        "    def check_frontier(self):\n",
        "      if len(self.frontier) == 0:  # TODO: aca podriamos aplicar lo de la profundidad en una extension del metodo\n",
        "        raise StopIteration \n",
        "    \n",
        "    def push_to_heap(self, node):\n",
        "        heappush(self.frontier, (self.score(node), node.id, node)) # Le agrego el ID para romper desempates  # me esta siempre pusheando al heap \n",
        "\n",
        "    def mark_explored(self, n):\n",
        "       n.mark_explored()\n",
        "       self.explored.add(n.game_state) # como es un set, no pasa nada si ya estaba  \n",
        "\n"
      ],
      "metadata": {
        "id": "mJ9zJqrUsJGe"
      },
      "execution_count": 574,
      "outputs": []
    },
    {
      "cell_type": "code",
      "source": [
        "class SolverBPA(Solver): \n",
        "  def score(self, node): \n",
        "    return node.depth"
      ],
      "metadata": {
        "id": "VKgNHWSyPJka"
      },
      "execution_count": 575,
      "outputs": []
    },
    {
      "cell_type": "code",
      "source": [
        "class SolverBPP(Solver):  \n",
        "  def score(self, node): \n",
        "    return -node.depth"
      ],
      "metadata": {
        "id": "sW2s9S8JQY9M"
      },
      "execution_count": 576,
      "outputs": []
    },
    {
      "cell_type": "code",
      "source": [
        "class SolverBPPV(SolverBPP):\n",
        "  # Considerar que pueden haber estados repetidos a distinta profundidad\n",
        "\n",
        "  def __init__(self, game_state: GameState, max_depth: int):\n",
        "    super().__init__(game_state)\n",
        "    self.max_depth = max_depth\n",
        "\n",
        "  def mark_explored(self, n):\n",
        "    n.mark_explored()\n",
        "    self.explored[n.game_state] = min(self.explored.get(n.game_state, n.depth), n.depth)\n",
        "\n",
        "  def __iter__(self):\n",
        "    x =  super().__iter__()\n",
        "    self.explored = {}\n",
        "    return x\n",
        "\n",
        "  def should_explore(self, node):\n",
        "    return node.game_state not in self.explored.keys() or self.explored[node.game_state] > node.depth\n",
        "\n",
        "  def push_to_heap(self, node):\n",
        "    heappush(self.frontier, ( int(node.depth / (self.max_depth + 1)), self.score(node), node.id, node)) # Le agrego el ID para romper desempates  # me esta siempre pusheando al heap \n"
      ],
      "metadata": {
        "id": "HCuxEsixqZWw"
      },
      "execution_count": 577,
      "outputs": []
    },
    {
      "cell_type": "code",
      "source": [
        "class SolverHeuristic(Solver): \n",
        "  \n",
        "  def __init__(self, game_state: GameState, heuristic):\n",
        "    self.h = heuristic\n",
        "    super().__init__(game_state)\n",
        "\n",
        "  def score(self, node): \n",
        "    return node.heuristic\n",
        "\n",
        "  def new_node(self, new_state, parent, depth, cost):\n",
        "    n = self.HeuristicNode(new_state, parent, parent.depth+1 if parent != None else 0, cost, self.h(new_state))\n",
        "    return n\n",
        "\n",
        "  class HeuristicNode(Node):\n",
        "\n",
        "    def __init__(self, state, n, depth, cost, heuristic):\n",
        "      super().__init__(state, n, depth, cost)\n",
        "      self.heuristic = heuristic"
      ],
      "metadata": {
        "id": "jvst10ywqyGh"
      },
      "execution_count": 578,
      "outputs": []
    },
    {
      "cell_type": "code",
      "source": [
        "class SolverLocalHeuristic(SolverHeuristic):\n",
        "\n",
        "  def __init__(self, game_state: GameState, heuristic):\n",
        "    super().__init__(game_state, heuristic)\n",
        "\n",
        "  def push_to_heap(self, node):\n",
        "    heappush(self.frontier, ( -node.depth, self.score(node), node.id, node))\n",
        "  "
      ],
      "metadata": {
        "id": "k422evSHtmp6"
      },
      "execution_count": 579,
      "outputs": []
    },
    {
      "cell_type": "code",
      "source": [
        "class SolverGlobalHeuristic(SolverHeuristic):\n",
        "\n",
        "  def __init__(self, game_state: GameState, heuristic):\n",
        "    super().__init__(game_state, heuristic)\n",
        "  \n",
        "  def push_to_heap(self, node):\n",
        "    heappush(self.frontier, (self.score(node), node.id, node))"
      ],
      "metadata": {
        "id": "bJi2Uomft2zf"
      },
      "execution_count": 580,
      "outputs": []
    },
    {
      "cell_type": "code",
      "source": [
        "class SolverWeightHeuristic(SolverHeuristic):\n",
        "  \n",
        "  def __init__(self, game_state: GameState, heuristic, w):\n",
        "    super().__init__(game_state, heuristic)\n",
        "    self.w = w\n",
        "\n",
        "  def score(self, node): \n",
        "    return node.heuristic * self.w + node.cost * (1-self.w)\n",
        "    \n",
        "  def push_to_heap(self, node):\n",
        "    heappush(self.frontier, (self.score(node), node.id, node)) "
      ],
      "metadata": {
        "id": "dk8ztIw1t79Y"
      },
      "execution_count": 581,
      "outputs": []
    },
    {
      "cell_type": "code",
      "source": [
        "# Este es un ejemplo sencillo que tiene enrocados los ultimos 4 valores \n",
        "# En un par de pasos lo encuentra \n",
        "# gs = GameState(table=[1, 2, 3, 4, 8, 5, 7, 6, 0], target=5, source=5) \n",
        "\n",
        "gs = EightGameState(table=[1, 2, 3, 5, 6, 0, 4, 7, 8], target=5, source=5)\n",
        "\n",
        "def h1(state): \n",
        "  table = state.data\n",
        "  count = 0\n",
        "  for position in table.keys():\n",
        "    number = table[position]\n",
        "    count += 1 if number != 0 and int(position) != number else 0\n",
        "  return count\n",
        "\n",
        "solver = SolverWeightHeuristic(gs, h1, 0.5)\n",
        "iterator = iter(solver)\n",
        "\n",
        "solved = False\n",
        "n = None\n",
        "while not solved:\n",
        "# for i in range(30):\n",
        "  n, solved = next(iterator)\n",
        "\n",
        "print(n.game_state.matrix)\n",
        "print(n.game_state.isobjective)"
      ],
      "metadata": {
        "id": "qyVMY_Nb-hXf",
        "colab": {
          "base_uri": "https://localhost:8080/"
        },
        "outputId": "7fc23ed0-6b0d-4fc8-c336-b37f279c4de5"
      },
      "execution_count": 582,
      "outputs": [
        {
          "output_type": "stream",
          "name": "stdout",
          "text": [
            "[[1 2 3]\n",
            " [4 5 6]\n",
            " [7 8 0]]\n",
            "True\n"
          ]
        }
      ]
    },
    {
      "cell_type": "markdown",
      "source": [
        ""
      ],
      "metadata": {
        "id": "gL8KnxSsBvHo"
      }
    },
    {
      "cell_type": "markdown",
      "source": [
        "### **Clases para visualización del árbol de estados**"
      ],
      "metadata": {
        "id": "MSCdFqLhQ8UA"
      }
    },
    {
      "cell_type": "code",
      "source": [
        "def node_label(node): \n",
        "  string = f\"Ord: {node.explore_order}\\n\"\n",
        "  string += f\"Cost: {node.cost}\\n\"\n",
        "  if type(node) is SolverHeuristic.HeuristicNode:\n",
        "    string += f\"Heu: {node.heuristic}\\n\"\n",
        "    # string += f\"A*: {node.cost*0.5 + node.heuristic*0.5}\\n\"\n",
        "  string += f\"\\n{node.game_state.matrix}\"\n",
        "  return string\n",
        "\n",
        "def build_graphviz_tree(node, graph):\n",
        "    graph.node(str(node.id), node_label(node))\n",
        "    for child in node.children:\n",
        "        build_graphviz_tree(child, graph)\n",
        "        graph.edge(str(node.id), str(child.id))\n",
        "\n",
        "def build_graphviz_branch(node, graph):\n",
        "    graph.node(str(node.id), node_label(node))\n",
        "\n",
        "    if node.parent != None:\n",
        "        build_graphviz_branch(node.parent, graph)\n",
        "        graph.edge(str(node.parent.id), str(node.id))\n",
        "\n",
        "def renderTree(root):\n",
        "    graph = graphviz.Digraph('Decision tree')\n",
        "    build_graphviz_tree(root, graph)\n",
        "    graph.render(directory='out', view=True)\n",
        "\n",
        "def renderBranch(leaf):\n",
        "    graph = graphviz.Digraph('Solution branch')\n",
        "    build_graphviz_branch(leaf, graph)\n",
        "    graph.render(directory='out', view=True)"
      ],
      "metadata": {
        "id": "updYbUP6RHLv"
      },
      "execution_count": 583,
      "outputs": []
    },
    {
      "cell_type": "code",
      "source": [
        "renderBranch(n)\n",
        "renderTree(solver.initial_node)"
      ],
      "metadata": {
        "id": "H-Mr-cPHRxQ-"
      },
      "execution_count": 584,
      "outputs": []
    },
    {
      "cell_type": "markdown",
      "source": [
        "### **Implementación de la visualización del juego**"
      ],
      "metadata": {
        "id": "guK65aCjTJ0T"
      }
    },
    {
      "cell_type": "code",
      "source": [
        "## TREMENDO TODO"
      ],
      "metadata": {
        "id": "D3HPktnxTkZX"
      },
      "execution_count": 585,
      "outputs": []
    },
    {
      "cell_type": "markdown",
      "source": [
        "### **Ejecución y comparación de los métodos de búsqueda**\n"
      ],
      "metadata": {
        "id": "dQGmvW68sXNb"
      }
    },
    {
      "cell_type": "code",
      "source": [
        "## TREMENDO TODO"
      ],
      "metadata": {
        "id": "KL_qaXgJTmrF"
      },
      "execution_count": 586,
      "outputs": []
    }
  ]
}