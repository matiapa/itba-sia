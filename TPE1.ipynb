{
  "nbformat": 4,
  "nbformat_minor": 0,
  "metadata": {
    "colab": {
      "name": "TPE1.ipynb",
      "provenance": [],
      "collapsed_sections": []
    },
    "kernelspec": {
      "name": "python3",
      "display_name": "Python 3"
    },
    "language_info": {
      "name": "python"
    }
  },
  "cells": [
    {
      "cell_type": "markdown",
      "source": [
        "# **TPE 1: Métodos de Búsqueda**"
      ],
      "metadata": {
        "id": "ILRHRztjhiSU"
      }
    },
    {
      "cell_type": "markdown",
      "source": [
        "## **Datos del trabajo** "
      ],
      "metadata": {
        "id": "k23ve3AcnG4c"
      }
    },
    {
      "cell_type": "markdown",
      "source": [
        "### Alumnos: \n",
        "- Apablaza, Matías (59714)\n",
        "- Beade, Gonzalo (61223)\n",
        "- D'Agostino, Leonardo Agustín (60335)\n"
      ],
      "metadata": {
        "id": "aWChGV2SnLMh"
      }
    },
    {
      "cell_type": "markdown",
      "source": [
        "### Docentes:\n",
        "- Rodrigo Ramele\n",
        "- Juliana Gambini \n",
        "- Juan Santos \n",
        "- Paula Oseroff\n",
        "- Eugenia Piñeiro\n",
        "- Santiago Reyes\n"
      ],
      "metadata": {
        "id": "QxRUyhlvoFOq"
      }
    },
    {
      "cell_type": "markdown",
      "source": [
        "### Fecha:\n",
        "- Primer Cuatrimestre 2022"
      ],
      "metadata": {
        "id": "HbSktge_oIW-"
      }
    },
    {
      "cell_type": "markdown",
      "source": [
        "## **Introducción** "
      ],
      "metadata": {
        "id": "ImjcaHv1nh74"
      }
    },
    {
      "cell_type": "markdown",
      "source": [
        "En el siguiente trabajo práctico implementamos estrategias de búsqueda \n",
        "(tanto informadas como no informadas) y las comparamos según su desempeño a la hora de resolver de un desafío. El desarrollo del trabajo gira en torno a la resolución del **Juego de los 8 números** (de ahora en más, \\' el Juego\\') , cuyas reglas se describen a continuación. \n"
      ],
      "metadata": {
        "id": "DF-2OyoPn5jc"
      }
    },
    {
      "cell_type": "markdown",
      "source": [
        "## Reglas del Juego: \n",
        "Dada una tabla de 3x3 rellena con casillas numéricas del 1 al 8 y una casilla vacía o blanca, distribuidas de manera azarosa, el Juego termina al ordenar de menor a mayor los contenidos del cuadrado, siendo la casilla blanca la cola de la sucesión. \n",
        "\n",
        "Los únicos movimientos permitidos son aquellos que permutan la casilla vacía con una casilla númerica inmediata, en sentido vertical u horizontal. \n"
      ],
      "metadata": {
        "id": "B0FfB9y5n8Ar"
      }
    },
    {
      "cell_type": "markdown",
      "source": [
        "## Estado del Juego: \n",
        "\n",
        "Decimos que una disposición de casillas dentro de la tabla de 3x3 representa un estado del Juego. Al permutar la casilla blanca con otra, se induce un nuevo estado en el Juego."
      ],
      "metadata": {
        "id": "aw44EhbtugSY"
      }
    },
    {
      "cell_type": "markdown",
      "source": [
        "## **Desarrollo** \n",
        "\n",
        "Si se va a ejecutar código desde el notebook, correr todos los módulos en el orden en el que lo exponemos. "
      ],
      "metadata": {
        "id": "WsDJ1bfZon38"
      }
    },
    {
      "cell_type": "markdown",
      "source": [
        "### **Importación de librerías a utilizar**"
      ],
      "metadata": {
        "id": "DZ0PAH2-rqi5"
      }
    },
    {
      "cell_type": "markdown",
      "source": [
        "Para este trabajo, vamos a utilizar las librerías:\n",
        "\n",
        "1.   `matplotlib` para hacer análisis de datos. \n",
        "2.   `numpy` para hacer algunas conversiones matemáticas eficientemente. \n",
        "3.   `heapq` porque Python no tiene implementación nativa de la estructura de datos heap. \n",
        "4.   `graphviz` para producir árboles de estados\n",
        "\n"
      ],
      "metadata": {
        "id": "4ZosE6CYsyT-"
      }
    },
    {
      "cell_type": "code",
      "source": [
        "from matplotlib import pyplot as plt \n",
        "import numpy as np\n",
        "import copy\n",
        "from heapq import *\n",
        "import graphviz"
      ],
      "metadata": {
        "id": "RlREP2h4sx9e"
      },
      "execution_count": null,
      "outputs": []
    },
    {
      "cell_type": "markdown",
      "source": [
        "### **Implementación de la API del Juego**\n"
      ],
      "metadata": {
        "id": "ouarPXY5r4bc"
      }
    },
    {
      "cell_type": "markdown",
      "source": [
        "Empezamos creando una interfaz que represente el estado de un juego cualquier, llamada GameState en nuestra implementación. \n",
        "\n",
        "La interfaz se desprende de la tarea en inteligencia artificial y provee métodos que permitirían jugar a cualquier juego de un solo jugador en general. "
      ],
      "metadata": {
        "id": "z8GVK1n5UpMt"
      }
    },
    {
      "cell_type": "code",
      "source": [
        "class GameState():\n",
        "\n",
        "  \"\"\" Devuelve verdadero si el estado es objetivo/ganador\"\"\"\n",
        "  @property\n",
        "  def isobjective(self):\n",
        "    raise Exception('Not implemented exception')\n",
        "\n",
        "  \"\"\"\n",
        "  Devuelve un conjunto de strings representando movimientos posibles\n",
        "  según las reglas del juego\n",
        "  \"\"\"\n",
        "  @property\n",
        "  def game_moves(self):\n",
        "    raise Exception('Not implemented exception')\n",
        "\n",
        "  \"\"\"\n",
        "  Ejecuta un movimiento en el juego. De ser válido, devuelve un nuevo estado con dicho movimiento ejecutado\n",
        "  \"\"\"\n",
        "  def make_move(self, m: str):\n",
        "    raise Exception('Not implemented exception')\n",
        "\n",
        "  \"\"\"\n",
        "  Todo juego debe poder mostrarse en pantalla, aunque sea una representación muy básica\n",
        "  \"\"\"\n",
        "  def __str__(self): \n",
        "    return 'Empty Game!'\n",
        "\n",
        "  \"\"\"\n",
        "  Todo juego debe poder devolver un conjunto de pares con informacion del estado interno del mismo\n",
        "  \"\"\"\n",
        "  @property\n",
        "  def data(self): \n",
        "    raise Exception('Not implemented exception')"
      ],
      "metadata": {
        "id": "_WSmWbuDVM1_"
      },
      "execution_count": null,
      "outputs": []
    },
    {
      "cell_type": "markdown",
      "source": [
        "Cualquier implementación de esta interfaz debe implementar la igualdad y una apropiada función de hash porque el algoritmo de resolución de búsquedas trabaja con conjuntos. La implementación de set en `Python` es con tablas de hashing. \n",
        "\n",
        "A continuación exponemos una de las implementaciones posibles para realizar este trabajo, para el Juego de los 8 Números. \n"
      ],
      "metadata": {
        "id": "HS3Gu6VVuJBB"
      }
    },
    {
      "cell_type": "code",
      "source": [
        "class EightGameState(GameState):\n",
        "\n",
        "  offsets = {'f':-3 , 'b':3 , 'l':-1 , 'r':1}\n",
        "  goal_table = [1, 2, 3, 4, 5, 6, 7, 8, 0]\n",
        "\n",
        "  def __init__(self, **kwargs):\n",
        "    self.table = kwargs.get('table', EightGameState.__new_table()) # TODO: deberia ser una tupla\n",
        "    self.zero = kwargs.get('target', self.table.index(0))\n",
        "    self.__swap(self, self.zero, kwargs.get('source', self.zero)) \n",
        "\n",
        "  @staticmethod\n",
        "  def __new_table():\n",
        "    x = np.arange(9)\n",
        "    np.random.shuffle(x)\n",
        "    return x.tolist()  \n",
        "\n",
        "  @staticmethod \n",
        "  def __swap(self, n, z):\n",
        "      self.table[n], self.table[z] = self.table[z], self.table[n]\n",
        "\n",
        "  @staticmethod\n",
        "  def setGoalTable(table):\n",
        "    EightGameState.goal_table = table\n",
        "\n",
        "  @property \n",
        "  def matrix(self): \n",
        "    return np.reshape(self.table, (3, 3))\n",
        "\n",
        "  @property\n",
        "  def isobjective(self):\n",
        "    return self.table == [1, 2, 3, 4, 5, 6, 7, 8, 0]# EightGameState.goal_table\n",
        "\n",
        "  def make_move(self, m: str):\n",
        "    if m not in self.offsets.keys():\n",
        "      raise 'Invalid move code'\n",
        "\n",
        "    if (m == 'f' and self.zero < 3) \\\n",
        "      or (m == 'b' and self.zero >= 6) \\\n",
        "      or (m == 'l' and self.zero % 3 == 0 ) \\\n",
        "      or (m == 'r' and self.zero % 3 == 2 ):  \n",
        "        return None   \n",
        "    \n",
        "    new_zero = self.zero + self.offsets[m]\n",
        "    return EightGameState(table=copy.deepcopy(self.table), source=self.zero, target=new_zero)\n",
        "\n",
        "  def __hash__(self): \n",
        "    return hash(tuple(self.table))\n",
        "\n",
        "  def __eq__(self, o): \n",
        "    return isinstance(o, EightGameState) and o.table == self.table\n",
        "\n",
        "  @property\n",
        "  def game_moves(self):\n",
        "    return {'b': 1, 'f': 1, 'l': 1, 'r': 1}\n",
        "\n",
        "  def __str__(self): \n",
        "    return str(np.reshape(self.table, (3, 3)))\n",
        "\n",
        "  @property\n",
        "  def data(self):\n",
        "    d = {} \n",
        "    for pos in range(9): \n",
        "      d[str(pos+1)] = self.table[pos]\n",
        "    return d"
      ],
      "metadata": {
        "id": "BG3l2vbyVl44"
      },
      "execution_count": null,
      "outputs": []
    },
    {
      "cell_type": "markdown",
      "source": [
        "### **Diseño de clases para el agente buscador de soluciones**"
      ],
      "metadata": {
        "id": "PW3a_7WNsHeh"
      }
    },
    {
      "cell_type": "markdown",
      "source": [
        "Empezamos implementando una clase `Node`. Ésta nos permite hacer crecer un árbol de rótulos de estados a medida que lo necesitemos. Los estamos haciendo genéricos para todos los tipos de búsqueda, pero podríamos hacer que cada tipo de búsqueda tenga su propio tipo de `Node` según corresponda. "
      ],
      "metadata": {
        "id": "Z_KLhoMbuYi_"
      }
    },
    {
      "cell_type": "code",
      "source": [
        "class Node:\n",
        "\n",
        "    LAST_ID = 0\n",
        "    LAST_EXPLORED_ORDER = 0\n",
        "\n",
        "    def __init__(self, game_state: GameState, parent, depth, cost, src_action):\n",
        "        self.game_state = game_state\n",
        "        self.children = [] \n",
        "        self.parent = parent\n",
        "        self.depth = depth\n",
        "        self.cost = cost\n",
        "        self.id = Node.LAST_ID\n",
        "        self.explore_order = -1\n",
        "        self.src_action = src_action\n",
        "        Node.LAST_ID += 1\n",
        "\n",
        "    def add(self, node):\n",
        "      self.children.append(node)\n",
        "\n",
        "    def mark_explored(self):\n",
        "      self.explore_order = Node.LAST_EXPLORED_ORDER\n",
        "      Node.LAST_EXPLORED_ORDER += 1\n",
        "\n",
        "    @property\n",
        "    def state(self): \n",
        "      return self.game_state\n",
        "\n",
        "    def __hash__(self): \n",
        "      return hash(self.game_state)\n",
        "\n",
        "    def __eq__(self, other):\n",
        "      return type(other) is Node and self.game_state == other.game_state"
      ],
      "metadata": {
        "id": "EFwlHu_yumBU"
      },
      "execution_count": null,
      "outputs": []
    },
    {
      "cell_type": "markdown",
      "source": [
        "La implementación de los métodos de búsqueda consiste en una clase resolvedora abstracta `Solver`, que implementa un método genérico, ni informado ni no informado. \n",
        "\n",
        "Las clases que heredan de `Solver` implementan los distintos algoritmos vistos en clase. Esta implementación muestra que es una familia de algoritmos. Solo cambia la elección del próximo estado a elegir a partir del estado actual en el árbol de estados. "
      ],
      "metadata": {
        "id": "R-214AukrqYn"
      }
    },
    {
      "cell_type": "code",
      "source": [
        "class Solver():\n",
        "\n",
        "    '''\n",
        "      La funcion score es una funcion que \n",
        "      - dado un nodo representante de un estado del juego -\n",
        "      permite  saber su puntaje. Mientras menor sea el puntaje, mejor. \n",
        "      El algoritmo selecciona al que menor valor de score tiene. \n",
        "      Si se quiere seleccionar al que mayor valor de score tenga, se lo puede multiplicar por -1\n",
        "    '''\n",
        "    def score(self, node): \n",
        "      raise 'Not implemented exception'\n",
        "\n",
        "    def __init__(self, game_state: GameState):\n",
        "      self.initial_state = game_state\n",
        "      self.root = self.new_node(self.initial_state, None, 0, 0, '') \n",
        "\n",
        "    @property \n",
        "    def initial_node(self): \n",
        "      return self.root\n",
        "\n",
        "    \n",
        "    def __iter__(self):\n",
        "      # self.iter_done = False \n",
        "      self.frontier = [] # La Frontera es un Heap (AKA Priority Queue). No tiene sentido agregar y ordenar a futuro, mantenelo ordenado\n",
        "      self.explored = set() \n",
        "      heappush(self.frontier, (self.score(self.root), 0, self.root))\n",
        "      return self\n",
        "\n",
        "    ''' \n",
        "      En cada iteracion devuelve \n",
        "        Excepcion si no pudo encontrar solucion\n",
        "        Un Nodo valido si encontro solucion\n",
        "        None si sigue buscando \n",
        "      El iterador no se destruye al encontrar una solucion, va a seguir buscando y la hoja solucion muere ahi    \n",
        "    '''\n",
        "    def __next__(self):\n",
        "\n",
        "      self.check_frontier()\n",
        "      n = heappop(self.frontier)[-1]\n",
        "      self.mark_explored(n)\n",
        "\n",
        "      if n.state.isobjective: \n",
        "        return n, True  \n",
        "      \n",
        "      game_moves = n.game_state.game_moves\n",
        "      for m in game_moves.keys(): \n",
        "        new_state = n.game_state.make_move(m)\n",
        "        if new_state is not None:\n",
        "          node = self.new_node(new_state, n, n.depth + 1, n.cost + game_moves[m], m)\n",
        "          if self.should_explore(node):\n",
        "            n.add(node) \n",
        "            self.push_to_heap(node)\n",
        "    \n",
        "      return n, False\n",
        "\n",
        "    def should_explore(self, node): \n",
        "      return node.game_state not in self.explored\n",
        "\n",
        "    def new_node(self, new_state, parent, depth, cost, src_action):\n",
        "      return Node(new_state, parent, parent.depth+1 if parent != None else 0, cost, src_action)\n",
        "\n",
        "    def check_frontier(self):\n",
        "      if len(self.frontier) == 0:  # TODO: aca podriamos aplicar lo de la profundidad en una extension del metodo\n",
        "        raise StopIteration \n",
        "    \n",
        "    def push_to_heap(self, node):\n",
        "        heappush(self.frontier, (self.score(node), node.id, node)) # Le agrego el ID para romper desempates  # me esta siempre pusheando al heap \n",
        "\n",
        "    def mark_explored(self, n):\n",
        "       n.mark_explored()\n",
        "       self.explored.add(n.game_state) # como es un set, no pasa nada si ya estaba\n"
      ],
      "metadata": {
        "id": "mJ9zJqrUsJGe"
      },
      "execution_count": null,
      "outputs": []
    },
    {
      "cell_type": "code",
      "source": [
        "class SolverBPA(Solver): \n",
        "  def score(self, node): \n",
        "    return node.depth"
      ],
      "metadata": {
        "id": "VKgNHWSyPJka"
      },
      "execution_count": null,
      "outputs": []
    },
    {
      "cell_type": "code",
      "source": [
        "class SolverBPP(Solver):  \n",
        "  def score(self, node): \n",
        "    return -node.depth"
      ],
      "metadata": {
        "id": "sW2s9S8JQY9M"
      },
      "execution_count": null,
      "outputs": []
    },
    {
      "cell_type": "code",
      "source": [
        "class SolverBPPV(SolverBPP):\n",
        "  # Considerar que pueden haber estados repetidos a distinta profundidad\n",
        "\n",
        "  def __init__(self, game_state: GameState, start_limit: int):\n",
        "    super().__init__(game_state)\n",
        "    self.max_depth = start_limit\n",
        "\n",
        "  def mark_explored(self, n):\n",
        "    n.mark_explored()\n",
        "    self.explored[n.game_state] = min(self.explored.get(n.game_state, n.depth), n.depth)\n",
        "\n",
        "  def __iter__(self):\n",
        "    x =  super().__iter__()\n",
        "    self.explored = {}\n",
        "    return x\n",
        "\n",
        "  def should_explore(self, node):\n",
        "    return node.game_state not in self.explored.keys() or self.explored[node.game_state] > node.depth\n",
        "\n",
        "  def push_to_heap(self, node):\n",
        "    heappush(self.frontier, ( int(node.depth / (self.max_depth + 1)), self.score(node), node.id, node)) # Le agrego el ID para romper desempates  # me esta siempre pusheando al heapeando al heap \n"
      ],
      "metadata": {
        "id": "HCuxEsixqZWw"
      },
      "execution_count": null,
      "outputs": []
    },
    {
      "cell_type": "code",
      "source": [
        "class SolverHeuristic(Solver): \n",
        "  \n",
        "  def __init__(self, game_state: GameState, heuristic):\n",
        "    self.h = heuristic\n",
        "    super().__init__(game_state)\n",
        "\n",
        "  def score(self, node): \n",
        "    return node.heuristic\n",
        "\n",
        "  def new_node(self, new_state, parent, depth, cost, src_action):\n",
        "    n = self.HeuristicNode(new_state, parent, parent.depth+1 if parent != None else 0, cost, src_action, self.h(new_state))\n",
        "    return n\n",
        "\n",
        "  class HeuristicNode(Node):\n",
        "\n",
        "    def __init__(self, state, n, depth, cost, src_action, heuristic):\n",
        "      super().__init__(state, n, depth, cost, src_action)\n",
        "      self.heuristic = heuristic"
      ],
      "metadata": {
        "id": "jvst10ywqyGh"
      },
      "execution_count": null,
      "outputs": []
    },
    {
      "cell_type": "code",
      "source": [
        "class SolverLocalHeuristic(SolverHeuristic):\n",
        "\n",
        "  def __init__(self, game_state: GameState, heuristic):\n",
        "    super().__init__(game_state, heuristic)\n",
        "\n",
        "  def push_to_heap(self, node):\n",
        "    heappush(self.frontier, ( -node.depth, self.score(node), node.id, node))"
      ],
      "metadata": {
        "id": "k422evSHtmp6"
      },
      "execution_count": null,
      "outputs": []
    },
    {
      "cell_type": "code",
      "source": [
        "class SolverGlobalHeuristic(SolverHeuristic):\n",
        "\n",
        "  def __init__(self, game_state: GameState, heuristic):\n",
        "    super().__init__(game_state, heuristic)\n",
        "  \n",
        "  def push_to_heap(self, node):\n",
        "    heappush(self.frontier, (self.score(node), node.id, node))"
      ],
      "metadata": {
        "id": "bJi2Uomft2zf"
      },
      "execution_count": null,
      "outputs": []
    },
    {
      "cell_type": "code",
      "source": [
        "class SolverWeightHeuristic(SolverHeuristic):\n",
        "  \n",
        "  def __init__(self, game_state: GameState, heuristic, w):\n",
        "    super().__init__(game_state, heuristic)\n",
        "    self.w = w\n",
        "\n",
        "  def score(self, node): \n",
        "    return node.heuristic * self.w + node.cost * (1-self.w)\n",
        "    \n",
        "  def push_to_heap(self, node):\n",
        "    heappush(self.frontier, (self.score(node), node.id, node))"
      ],
      "metadata": {
        "id": "dk8ztIw1t79Y"
      },
      "execution_count": null,
      "outputs": []
    },
    {
      "cell_type": "markdown",
      "source": [
        "Como la clase de algoritmos informados recibe una heurística de manera arbitraria, tenemos que definir esas heurísticas por fuera, para poder pasárselas como parámetro. Exponemos a continuación las heurísticas que vamos a usar para resolver al Juego, y un análisis sobre su admisibilidad. "
      ],
      "metadata": {
        "id": "nBvgmXWY5n3t"
      }
    },
    {
      "cell_type": "markdown",
      "source": [
        "`correctnes_heuristic` cuenta casillero a casillero si el número que allí reside está bien posicionado o no. El casillero blanco no se cuenta para facilitar las demostraciones. A continuación enunciamos propiedades de está heurística. \n",
        "\n",
        "1. `correctnes_heuristic(state) == 0` sii todos los números están en su lugar. La demostración es por el absurdo. Supongamos que devuelve 0 y hay al menos un número mal ubicado. Entonces, por definición, está ocupando el casillero de otro número y la heurística devolvería un valor mayor a uno.\n",
        "\n",
        "2. `correctnes_heuristic` es admisible pues nunca sobre-estima el costo de llegar a una solución. Es decir, para todo estado `state`, `correctnes_heuristic(state) <= h_star(state)`.  La demostración es por el absurdo. Supongamos que `correctnes_heuristic` sobre-estime el costo de llegar a una solución, es decir que haya n+1 números mal puestos que puede resolverse en n movimientos (1<=n<8). La única manera que tendría el 0 de recorrer esta problemática es no volver a un lugar en el que ya estuvo. Como el 0 nunca pasa por un lugar en el que ya estuvo, tiene que inducir n+1 swaps para corregir las posiciones de los n+1 números incorrectamente posicionados en n movimientos. Absurdo. \n",
        " \n"
      ],
      "metadata": {
        "id": "SQ-0nqMY6Vo5"
      }
    },
    {
      "cell_type": "code",
      "source": [
        "def correctnes_heuristic(state): \n",
        "  table = state.data\n",
        "  count = 0\n",
        "\n",
        "  for position in table.keys():\n",
        "    number = table[position]\n",
        "    count += 1 if number != 0 and int(position) != number else 0\n",
        "\n",
        "  return count"
      ],
      "metadata": {
        "id": "RsCX_fNN6PFM"
      },
      "execution_count": null,
      "outputs": []
    },
    {
      "cell_type": "markdown",
      "source": [
        "`manhattan_heuristic` es la suma de las distancias en norma 1 entre la posición real de cada número y la posición esperada de cada número. A continuación enunciamos propiedades de esta heurística.\n",
        "\n",
        "1. `manhattan_heuristic(state) == 0` sii todos los números están en su lugar. La demostración es directa. Como es una suma en los naturales, solo puede ser nula sii todo sumando es nulo. Si todo sumando es nulo, entonces la diferencia entre las posicones ideales y reales de cada número es nula. Es decir, están bien posicionados. \n",
        "\n",
        "2. `manhattan_heuristic` es admisible. La demostración es directa. Un número mal puesto N tiene que recorrer como mínimo la distancia manhattan al lugar donde corresponde. Sin embargo, el 0 es la única casilla que puede inducir un movimiento en el número. Si el 0 induce un movimiento dos veces consecutivas en el mismo número, entonces vuelve al estado original. Por eso, el 0 tendrá que inducir un movimiento en algún otro número antes de volver a mover a N, probando que el costo real es siempre mayor al estimado por la heurística. "
      ],
      "metadata": {
        "id": "G_Sd0FTV_pqA"
      }
    },
    {
      "cell_type": "code",
      "source": [
        "def manhattan_heuristic(state): \n",
        "  table = state.data\n",
        "  distance_sum = 0\n",
        "\n",
        "  for position in table.keys():\n",
        "    number = table[position]\n",
        "    if number == 0:\n",
        "      continue\n",
        "\n",
        "    x1 = (int(position)-1) % 3\n",
        "    y1 = int((int(position)) / 3)\n",
        "\n",
        "    x2 = (number-1) % 3\n",
        "    y2 = int((number-1) / 3)\n",
        "    \n",
        "    distance_sum += abs(x2-x1) + abs(y2-y1)\n",
        "  \n",
        "  return distance_sum"
      ],
      "metadata": {
        "id": "wfRkiJ1d_u5W"
      },
      "execution_count": null,
      "outputs": []
    },
    {
      "cell_type": "markdown",
      "source": [
        "Por último, presentamos `manhattan_squared_heuristic`, definida igual que `manhattan_heuristic`, mas sumamos los cuadrados de las distancias en vez de sus distancias lineales. La idea es penalizar severamente a los estado que tienen a muy mal puestos a sus números, y no tanto a los que tienen a sus casilleros bien puestos. Algunas propiedades de esta heurística son: \n",
        "\n",
        "1. `manhattan_squared_heuristic(state) == 0` sii todos los números están en su lugar. La demostración es análoga a la de `manhattan_heuristic`, pero factorizando el cuadrado de cada término en el paso final y llegando a la misma conclusión. \n",
        "\n",
        "2. `manhattan_squared_heuristic` no es admisible. El contraejemplo que se muestra  tiene valor de heurística 8, pero puede resolverse en 7 movimientos.\n",
        "\n",
        "1 2 3\n",
        "\n",
        "5 6 8 \n",
        "\n",
        "4 0 7\n"
      ],
      "metadata": {
        "id": "dyDVWLyMEFcq"
      }
    },
    {
      "cell_type": "code",
      "source": [
        "def manhattan_heuristic(state): \n",
        "  table = state.data\n",
        "  distance_sum = 0\n",
        "\n",
        "  for position in table.keys():\n",
        "    number = table[position]\n",
        "    if number == 0:\n",
        "      continue\n",
        "\n",
        "    x1 = (int(position)-1) % 3\n",
        "    y1 = int((int(position)) / 3)\n",
        "\n",
        "    x2 = (number-1) % 3\n",
        "    y2 = int((number-1) / 3)\n",
        "    \n",
        "    distance_sum += (abs(x2-x1) + abs(y2-y1))**2\n",
        "  \n",
        "  return distance_sum"
      ],
      "metadata": {
        "id": "2XAu9iDeEIxV"
      },
      "execution_count": null,
      "outputs": []
    },
    {
      "cell_type": "code",
      "source": [
        "# # Este es un ejemplo sencillo que tiene enrocados los ultimos 4 valores \n",
        "# # En un par de pasos lo encuentra \n",
        "# gs = EightGameState(table=[8, 1, 2, 3, 4, 0, 7, 6, 5], target=5, source=5) \n",
        "\n",
        "# solver = SolverGlobalHeuristic(gs, correctnes_heuristic)\n",
        "# iterator = iter(solver)\n",
        "\n",
        "# solved = False\n",
        "# n = None\n",
        "# while not solved:\n",
        "# # for i in range(100):\n",
        "#   n, solved = next(iterator)\n",
        "#   #print(n.game_state)\n",
        "#   #i += 1\n",
        "\n",
        "# print(n.game_state.matrix)\n",
        "# print(n.game_state.isobjective)"
      ],
      "metadata": {
        "id": "qyVMY_Nb-hXf"
      },
      "execution_count": null,
      "outputs": []
    },
    {
      "cell_type": "markdown",
      "source": [
        "### **Clases para visualización del árbol de estados**"
      ],
      "metadata": {
        "id": "MSCdFqLhQ8UA"
      }
    },
    {
      "cell_type": "code",
      "source": [
        "def node_label(node): \n",
        "  string = f\"Ord: {node.explore_order}\\n\"\n",
        "  string += f\"Cost: {node.cost}\\n\"\n",
        "  if type(node) is SolverHeuristic.HeuristicNode:\n",
        "    string += f\"Heu: {node.heuristic}\\n\"\n",
        "    # string += f\"A*: {node.cost*0.5 + node.heuristic*0.5}\\n\"\n",
        "  string += f\"\\n{node.game_state}\"\n",
        "  return string\n",
        "\n",
        "def build_graphviz_tree(node, graph):\n",
        "    color = 'green' if node.game_state.isobjective else 'white' \n",
        "    graph.node(str(node.id), node_label(node), style='filled', fillcolor=color)\n",
        "\n",
        "    for child in node.children:\n",
        "        build_graphviz_tree(child, graph)\n",
        "        graph.edge(str(node.id), str(child.id), label=child.src_action)\n",
        "\n",
        "def build_graphviz_branch(node, graph):\n",
        "    color = 'green' if node.game_state.isobjective else 'white' \n",
        "    graph.node(str(node.id), node_label(node), style='filled', fillcolor=color)\n",
        "\n",
        "    if node.parent != None:\n",
        "        build_graphviz_branch(node.parent, graph)\n",
        "        graph.edge(str(node.parent.id), str(node.id), label=node.src_action)\n",
        "\n",
        "def renderTree(root):\n",
        "    graph = graphviz.Digraph('decision_tree')\n",
        "    build_graphviz_tree(root, graph)\n",
        "    graph.render(directory='out')\n",
        "\n",
        "def renderBranch(leaf):\n",
        "    graph = graphviz.Digraph('solution_branch')\n",
        "    build_graphviz_branch(leaf, graph)\n",
        "    graph.render(directory='out')\n",
        "\n",
        "def get_solution_sequence(node):\n",
        "  sequence = [{'move': node.src_action, 'state': node.state.data}]\n",
        "\n",
        "  if node.parent != None:\n",
        "    sequence += get_solution_sequence(node.parent)\n",
        "\n",
        "  return sequence"
      ],
      "metadata": {
        "id": "updYbUP6RHLv"
      },
      "execution_count": null,
      "outputs": []
    },
    {
      "cell_type": "code",
      "source": [
        "# renderBranch(n)\n",
        "# renderTree(solver.initial_node)"
      ],
      "metadata": {
        "id": "H-Mr-cPHRxQ-"
      },
      "execution_count": null,
      "outputs": []
    },
    {
      "cell_type": "markdown",
      "source": [
        "### **Ejecución y comparación de los métodos de búsqueda**\n"
      ],
      "metadata": {
        "id": "dQGmvW68sXNb"
      }
    },
    {
      "cell_type": "markdown",
      "source": [
        "En esta sección, correremos cada algoritmo en 1000 tableros de prueba generados de manera aleatoria. \n",
        "\n",
        "Para cada matriz generada, medimos el tiempo de ejecución empírico que costó llegar a la solución. "
      ],
      "metadata": {
        "id": "107muxIrY70k"
      }
    },
    {
      "cell_type": "code",
      "source": [
        "results = {\n",
        "   'bpp': [19.77799701690674, 16.255499839782715, 14.029824256896973, 6.161742448806763, 19.626841068267822, 14.691667556762695, 16.2345290184021, 20.703670978546143, 21.046470165252686, 0.7022154331207275, 24.268346309661865, 19.954115629196167, 18.33606481552124, 0.7733786106109619, 17.154624938964844, 16.62529444694519, 16.578765630722046, 24.280343294143677, 18.78624725341797, 13.350395679473877, 19.8753445148468, 20.65025234222412, 24.220179796218872, 16.033488035202026], \n",
        "   'bpa': [3.312563180923462, 16.78014373779297, 1.5005578994750977, 24.11879277229309, 1.8123650550842285, 5.810397386550903, 40.823097467422485, 6.816702604293823, 6.657406330108643, 18.61001443862915, 17.433996200561523, 7.70969295501709, 18.402751445770264, 28.429038286209106, 43.07273745536804, 20.107848405838013, 4.085693359375, 44.44852304458618, 18.06688928604126, 51.225008964538574, 5.775974273681641, 45.00810360908508, 12.94466233253479, 19.502450466156006], \n",
        "   'bppv': [0.6835105419158936, 10.919771194458008, 3.3716070652008057, 5.283772706985474, 2.5469970703125, 7.605975389480591, 22.08494520187378, 2.589653730392456, 9.465485095977783, 9.367303609848022, 14.493930578231812, 4.114590644836426, 8.236675500869751, 17.15525984764099, 29.845795154571533, 17.496699571609497, 7.1406569480896, 26.032934427261353, 17.695763111114502, 22.35516858100891, 3.045971393585205, 29.264267683029175, 11.909547328948975, 16.876437187194824]\n",
        "}\n",
        "\n",
        "def solve(solver: Solver):\n",
        "  iterator = iter(solver) \n",
        "  solved = False\n",
        "  n = None\n",
        "  first = next(iterator)\n",
        "  while not solved:\n",
        "    n, solved = next(iterator)\n",
        "\n"
      ],
      "metadata": {
        "id": "KL_qaXgJTmrF"
      },
      "execution_count": null,
      "outputs": []
    },
    {
      "cell_type": "code",
      "source": [
        "import time \n",
        "\n",
        "for i in range(12): \n",
        "  print(\"TESTIN ITERATION #\"+str(i)+'\\n')\n",
        "  state = EightGameState()\n",
        "\n",
        "  start_time = 0\n",
        "  end_time = 0 \n",
        "\n",
        "  has_solution = True\n",
        "  try: \n",
        "    start_time = time.time() \n",
        "    solve(SolverBPPV(state, 5))\n",
        "    end_time = time.time() \n",
        "  except: \n",
        "    has_solution = False \n",
        "  \n",
        "  if has_solution:\n",
        "    results[\"bppv\"].append(end_time - start_time)\n",
        "\n",
        "    start_time = time.time() \n",
        "    solve(SolverBPP(state))\n",
        "    end_time = time.time() \n",
        "    results[\"bpp\"].append(end_time - start_time)\n",
        "\n",
        "    start_time = time.time() \n",
        "    solve(SolverBPA(state))\n",
        "    end_time = time.time() \n",
        "    results[\"bpa\"].append(end_time - start_time)\n",
        "  \n",
        "  print(\"IGNORED? \", not has_solution)\n",
        "\n",
        "\n",
        "\n",
        "\n",
        "\n",
        "\n",
        "\n",
        "\n"
      ],
      "metadata": {
        "id": "Ps_MtfP1Y6q8",
        "colab": {
          "base_uri": "https://localhost:8080/"
        },
        "outputId": "5f4abde0-d312-4722-a8ad-520899f4f928"
      },
      "execution_count": null,
      "outputs": [
        {
          "output_type": "stream",
          "name": "stdout",
          "text": [
            "TESTIN ITERATION #0\n",
            "\n",
            "IGNORED?  False\n",
            "TESTIN ITERATION #1\n",
            "\n",
            "IGNORED?  True\n",
            "TESTIN ITERATION #2\n",
            "\n",
            "IGNORED?  True\n",
            "TESTIN ITERATION #3\n",
            "\n",
            "IGNORED?  False\n",
            "TESTIN ITERATION #4\n",
            "\n",
            "IGNORED?  True\n",
            "TESTIN ITERATION #5\n",
            "\n",
            "IGNORED?  False\n",
            "TESTIN ITERATION #6\n",
            "\n",
            "IGNORED?  True\n",
            "TESTIN ITERATION #7\n",
            "\n",
            "IGNORED?  False\n",
            "TESTIN ITERATION #8\n",
            "\n",
            "IGNORED?  True\n",
            "TESTIN ITERATION #9\n",
            "\n",
            "IGNORED?  True\n",
            "TESTIN ITERATION #10\n",
            "\n",
            "IGNORED?  False\n",
            "TESTIN ITERATION #11\n",
            "\n",
            "IGNORED?  False\n"
          ]
        }
      ]
    },
    {
      "cell_type": "code",
      "source": [
        "print(results)"
      ],
      "metadata": {
        "colab": {
          "base_uri": "https://localhost:8080/"
        },
        "id": "VRpS7MkIwxGo",
        "outputId": "6cc9f66e-9349-44b1-9610-693dbceeec81"
      },
      "execution_count": null,
      "outputs": [
        {
          "output_type": "stream",
          "name": "stdout",
          "text": [
            "{'bpp': [19.77799701690674, 16.255499839782715, 14.029824256896973, 6.161742448806763, 19.626841068267822, 14.691667556762695, 16.2345290184021, 20.703670978546143, 21.046470165252686, 0.7022154331207275, 24.268346309661865, 19.954115629196167, 18.33606481552124, 0.7733786106109619, 17.154624938964844, 16.62529444694519, 16.578765630722046, 24.280343294143677, 18.78624725341797, 13.350395679473877, 19.8753445148468, 20.65025234222412, 24.220179796218872, 16.033488035202026, 22.61146330833435, 17.84452509880066, 2.8655102252960205, 15.64052963256836, 16.278109073638916, 14.269929885864258], 'bpa': [3.312563180923462, 16.78014373779297, 1.5005578994750977, 24.11879277229309, 1.8123650550842285, 5.810397386550903, 40.823097467422485, 6.816702604293823, 6.657406330108643, 18.61001443862915, 17.433996200561523, 7.70969295501709, 18.402751445770264, 28.429038286209106, 43.07273745536804, 20.107848405838013, 4.085693359375, 44.44852304458618, 18.06688928604126, 51.225008964538574, 5.775974273681641, 45.00810360908508, 12.94466233253479, 19.502450466156006, 14.230541706085205, 12.963996171951294, 50.11523103713989, 41.61789345741272, 12.057485342025757, 48.39138674736023], 'bppv': [0.6835105419158936, 10.919771194458008, 3.3716070652008057, 5.283772706985474, 2.5469970703125, 7.605975389480591, 22.08494520187378, 2.589653730392456, 9.465485095977783, 9.367303609848022, 14.493930578231812, 4.114590644836426, 8.236675500869751, 17.15525984764099, 29.845795154571533, 17.496699571609497, 7.1406569480896, 26.032934427261353, 17.695763111114502, 22.35516858100891, 3.045971393585205, 29.264267683029175, 11.909547328948975, 16.876437187194824, 2.5796055793762207, 14.325868129730225, 27.585132122039795, 23.068016529083252, 8.040035724639893, 30.391910314559937]}\n"
          ]
        }
      ]
    },
    {
      "cell_type": "code",
      "source": [
        "import numpy as np\n",
        "import matplotlib.pyplot as plt\n",
        "\n",
        "fig = plt.figure()\n",
        "ax = fig.add_subplot(111)\n",
        "# ax.hist(np.array(results['bppv']), weights=np.zeros_like(np.array(results['bppv']))+1./ np.array(results['bppv']).size, bins=5)\n",
        "n, bins, patches = ax.hist(np.array(results['bpa']), bins=5, density=True, cumulative=0, alpha = 0.4)\n",
        "ax.set_xlabel('Bins', size=20)\n",
        "ax.set_ylabel('Frequency', size=20)\n",
        "ax.legend\n",
        "plt.show()"
      ],
      "metadata": {
        "colab": {
          "base_uri": "https://localhost:8080/",
          "height": 288
        },
        "id": "8YqgESTIzPTF",
        "outputId": "faa0a64d-63ed-41da-d064-1b7b41e8b90f"
      },
      "execution_count": null,
      "outputs": [
        {
          "output_type": "display_data",
          "data": {
            "text/plain": [
              "<Figure size 432x288 with 1 Axes>"
            ],
            "image/png": "[encoded data removed]"
          },
          "metadata": {
            "needs_background": "light"
          }
        }
      ]
    }
  ]
}